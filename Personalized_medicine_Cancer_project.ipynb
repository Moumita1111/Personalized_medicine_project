{
 "cells": [
  {
   "cell_type": "code",
   "execution_count": 3,
   "id": "45181a4c-17fb-4126-8aec-fee3d21d814c",
   "metadata": {},
   "outputs": [],
   "source": [
    "# Ignore warnings\n",
    "import warnings\n",
    "warnings.filterwarnings('ignore')"
   ]
  },
  {
   "cell_type": "code",
   "execution_count": 4,
   "id": "6364e6e8-2dad-4238-9c70-a5504cc573ee",
   "metadata": {
    "scrolled": true
   },
   "outputs": [
    {
     "name": "stdout",
     "output_type": "stream",
     "text": [
      "Requirement already satisfied: pandas in c:\\users\\moumita\\anaconda3\\lib\\site-packages (2.2.2)\n",
      "Requirement already satisfied: numpy>=1.26.0 in c:\\users\\moumita\\anaconda3\\lib\\site-packages (from pandas) (1.26.4)\n",
      "Requirement already satisfied: python-dateutil>=2.8.2 in c:\\users\\moumita\\anaconda3\\lib\\site-packages (from pandas) (2.9.0.post0)\n",
      "Requirement already satisfied: pytz>=2020.1 in c:\\users\\moumita\\anaconda3\\lib\\site-packages (from pandas) (2024.1)\n",
      "Requirement already satisfied: tzdata>=2022.7 in c:\\users\\moumita\\anaconda3\\lib\\site-packages (from pandas) (2023.3)\n",
      "Requirement already satisfied: six>=1.5 in c:\\users\\moumita\\anaconda3\\lib\\site-packages (from python-dateutil>=2.8.2->pandas) (1.16.0)\n"
     ]
    }
   ],
   "source": [
    "# Install necessary packages\n",
    "!pip install pandas"
   ]
  },
  {
   "cell_type": "code",
   "execution_count": 5,
   "id": "9f41be0a-2f38-441d-948d-4c832b6b0a60",
   "metadata": {},
   "outputs": [],
   "source": [
    "!pip install pymongo[srv]==4.3.2 --quiet"
   ]
  },
  {
   "cell_type": "code",
   "execution_count": 6,
   "id": "edd45081-e127-4b5e-90db-9ddde6fbe38c",
   "metadata": {
    "scrolled": true
   },
   "outputs": [
    {
     "name": "stdout",
     "output_type": "stream",
     "text": [
      "Requirement already satisfied: matplotlib in c:\\users\\moumita\\anaconda3\\lib\\site-packages (3.8.4)\n",
      "Requirement already satisfied: contourpy>=1.0.1 in c:\\users\\moumita\\anaconda3\\lib\\site-packages (from matplotlib) (1.2.0)\n",
      "Requirement already satisfied: cycler>=0.10 in c:\\users\\moumita\\anaconda3\\lib\\site-packages (from matplotlib) (0.11.0)\n",
      "Requirement already satisfied: fonttools>=4.22.0 in c:\\users\\moumita\\anaconda3\\lib\\site-packages (from matplotlib) (4.51.0)\n",
      "Requirement already satisfied: kiwisolver>=1.3.1 in c:\\users\\moumita\\anaconda3\\lib\\site-packages (from matplotlib) (1.4.4)\n",
      "Requirement already satisfied: numpy>=1.21 in c:\\users\\moumita\\anaconda3\\lib\\site-packages (from matplotlib) (1.26.4)\n",
      "Requirement already satisfied: packaging>=20.0 in c:\\users\\moumita\\anaconda3\\lib\\site-packages (from matplotlib) (23.2)\n",
      "Requirement already satisfied: pillow>=8 in c:\\users\\moumita\\anaconda3\\lib\\site-packages (from matplotlib) (10.3.0)\n",
      "Requirement already satisfied: pyparsing>=2.3.1 in c:\\users\\moumita\\anaconda3\\lib\\site-packages (from matplotlib) (3.0.9)\n",
      "Requirement already satisfied: python-dateutil>=2.7 in c:\\users\\moumita\\anaconda3\\lib\\site-packages (from matplotlib) (2.9.0.post0)\n",
      "Requirement already satisfied: six>=1.5 in c:\\users\\moumita\\anaconda3\\lib\\site-packages (from python-dateutil>=2.7->matplotlib) (1.16.0)\n"
     ]
    }
   ],
   "source": [
    "!pip install matplotlib"
   ]
  },
  {
   "cell_type": "code",
   "execution_count": 7,
   "id": "1dc10795-5137-404d-a775-4772795a42fe",
   "metadata": {
    "scrolled": true
   },
   "outputs": [
    {
     "name": "stdout",
     "output_type": "stream",
     "text": [
      "Requirement already satisfied: scikit-learn in c:\\users\\moumita\\anaconda3\\lib\\site-packages (1.4.2)\n",
      "Requirement already satisfied: numpy>=1.19.5 in c:\\users\\moumita\\anaconda3\\lib\\site-packages (from scikit-learn) (1.26.4)\n",
      "Requirement already satisfied: scipy>=1.6.0 in c:\\users\\moumita\\anaconda3\\lib\\site-packages (from scikit-learn) (1.13.1)\n",
      "Requirement already satisfied: joblib>=1.2.0 in c:\\users\\moumita\\anaconda3\\lib\\site-packages (from scikit-learn) (1.4.2)\n",
      "Requirement already satisfied: threadpoolctl>=2.0.0 in c:\\users\\moumita\\anaconda3\\lib\\site-packages (from scikit-learn) (2.2.0)\n"
     ]
    }
   ],
   "source": [
    "!pip install scikit-learn"
   ]
  },
  {
   "cell_type": "code",
   "execution_count": 8,
   "id": "19ea45f9-480e-4462-ac35-e1a01df9cfcc",
   "metadata": {
    "scrolled": true
   },
   "outputs": [
    {
     "name": "stdout",
     "output_type": "stream",
     "text": [
      "Requirement already satisfied: projectpro in c:\\users\\moumita\\anaconda3\\lib\\site-packages (0.0.30)\n",
      "Requirement already satisfied: requests in c:\\users\\moumita\\anaconda3\\lib\\site-packages (from projectpro) (2.32.2)\n",
      "Requirement already satisfied: geocoder in c:\\users\\moumita\\anaconda3\\lib\\site-packages (from projectpro) (1.38.1)\n",
      "Requirement already satisfied: click in c:\\users\\moumita\\anaconda3\\lib\\site-packages (from geocoder->projectpro) (8.1.7)\n",
      "Requirement already satisfied: future in c:\\users\\moumita\\anaconda3\\lib\\site-packages (from geocoder->projectpro) (1.0.0)\n",
      "Requirement already satisfied: ratelim in c:\\users\\moumita\\anaconda3\\lib\\site-packages (from geocoder->projectpro) (0.1.6)\n",
      "Requirement already satisfied: six in c:\\users\\moumita\\anaconda3\\lib\\site-packages (from geocoder->projectpro) (1.16.0)\n",
      "Requirement already satisfied: charset-normalizer<4,>=2 in c:\\users\\moumita\\anaconda3\\lib\\site-packages (from requests->projectpro) (2.0.4)\n",
      "Requirement already satisfied: idna<4,>=2.5 in c:\\users\\moumita\\anaconda3\\lib\\site-packages (from requests->projectpro) (3.7)\n",
      "Requirement already satisfied: urllib3<3,>=1.21.1 in c:\\users\\moumita\\anaconda3\\lib\\site-packages (from requests->projectpro) (2.2.2)\n",
      "Requirement already satisfied: certifi>=2017.4.17 in c:\\users\\moumita\\anaconda3\\lib\\site-packages (from requests->projectpro) (2024.8.30)\n",
      "Requirement already satisfied: colorama in c:\\users\\moumita\\anaconda3\\lib\\site-packages (from click->geocoder->projectpro) (0.4.6)\n",
      "Requirement already satisfied: decorator in c:\\users\\moumita\\anaconda3\\lib\\site-packages (from ratelim->geocoder->projectpro) (5.1.1)\n"
     ]
    }
   ],
   "source": [
    "!pip install projectpro"
   ]
  },
  {
   "cell_type": "code",
   "execution_count": 9,
   "id": "4b8bd6bd-24f2-4a82-abc2-1a456f98bb86",
   "metadata": {
    "scrolled": true
   },
   "outputs": [
    {
     "name": "stdout",
     "output_type": "stream",
     "text": [
      "Requirement already satisfied: nltk in c:\\users\\moumita\\anaconda3\\lib\\site-packages (3.8.1)\n",
      "Requirement already satisfied: click in c:\\users\\moumita\\anaconda3\\lib\\site-packages (from nltk) (8.1.7)\n",
      "Requirement already satisfied: joblib in c:\\users\\moumita\\anaconda3\\lib\\site-packages (from nltk) (1.4.2)\n",
      "Requirement already satisfied: regex>=2021.8.3 in c:\\users\\moumita\\anaconda3\\lib\\site-packages (from nltk) (2023.10.3)\n",
      "Requirement already satisfied: tqdm in c:\\users\\moumita\\anaconda3\\lib\\site-packages (from nltk) (4.66.4)\n",
      "Requirement already satisfied: colorama in c:\\users\\moumita\\anaconda3\\lib\\site-packages (from click->nltk) (0.4.6)\n"
     ]
    }
   ],
   "source": [
    "!pip install nltk"
   ]
  },
  {
   "cell_type": "code",
   "execution_count": 10,
   "id": "3c4b40c6-0d7e-47e3-b483-078c774b3ab3",
   "metadata": {},
   "outputs": [
    {
     "name": "stdout",
     "output_type": "stream",
     "text": [
      "Python 3.12.4\n"
     ]
    }
   ],
   "source": [
    "!python --version"
   ]
  },
  {
   "cell_type": "code",
   "execution_count": 11,
   "id": "ddcc905e-e8f2-442b-b986-3a9baab9eed5",
   "metadata": {},
   "outputs": [],
   "source": [
    "import seaborn as sns\n",
    "import matplotlib.pyplot as plt\n",
    "from sklearn.metrics import confusion_matrix"
   ]
  },
  {
   "cell_type": "code",
   "execution_count": 12,
   "id": "34843c14-8df4-4ddf-85a8-122080dcf923",
   "metadata": {},
   "outputs": [],
   "source": [
    "# import libraries\n",
    "import pandas as pd\n",
    "#import projectpro\n",
    "#from pymongo import MongoClient "
   ]
  },
  {
   "cell_type": "code",
   "execution_count": 13,
   "id": "c85e89ee-f0f8-4ceb-bb56-f0236d48a462",
   "metadata": {},
   "outputs": [],
   "source": [
    "#conn = MongoClient ('localhost', 27017)"
   ]
  },
  {
   "cell_type": "code",
   "execution_count": 14,
   "id": "42336c87-001e-4f73-8d93-aa061192f07a",
   "metadata": {},
   "outputs": [],
   "source": [
    "#db = conn.CancerDB"
   ]
  },
  {
   "cell_type": "code",
   "execution_count": 15,
   "id": "8b1c0b6c-15fc-448e-8752-f71f92487823",
   "metadata": {},
   "outputs": [],
   "source": [
    "#print(db.list_collection_names())"
   ]
  },
  {
   "cell_type": "code",
   "execution_count": 16,
   "id": "89ce7726-faee-453f-b040-e3ddaab76145",
   "metadata": {},
   "outputs": [],
   "source": [
    "# To find() all the entries inside collection name 'training_variants' and store it in dataframe\n",
    "#training_variants = pd.DataFrame(list(db['train_variants'].find()))\n",
    "#training_variants.head()\n",
    "\n",
    "# To find() all the entries inside collection name 'train_test' and store it in dataframe\n",
    "#training_text=pd.DataFrame(list(db['train_text'].find()))\n",
    "#training_text.head()"
   ]
  },
  {
   "cell_type": "code",
   "execution_count": 17,
   "id": "78748a66-39af-484c-9da8-84d472459645",
   "metadata": {},
   "outputs": [],
   "source": [
    "testing_text = pd.read_csv('D:/Arvind Sir/Project_Pro/modular_code/data/test_text.csv',sep=\"\\|\\|\",engine=\"python\",names=[\"ID\",\"TEXT\"],skiprows=1)"
   ]
  },
  {
   "cell_type": "code",
   "execution_count": 18,
   "id": "4f38ae37-c976-45fb-ac1c-99eeae04615f",
   "metadata": {},
   "outputs": [
    {
     "data": {
      "text/html": [
       "<div>\n",
       "<style scoped>\n",
       "    .dataframe tbody tr th:only-of-type {\n",
       "        vertical-align: middle;\n",
       "    }\n",
       "\n",
       "    .dataframe tbody tr th {\n",
       "        vertical-align: top;\n",
       "    }\n",
       "\n",
       "    .dataframe thead th {\n",
       "        text-align: right;\n",
       "    }\n",
       "</style>\n",
       "<table border=\"1\" class=\"dataframe\">\n",
       "  <thead>\n",
       "    <tr style=\"text-align: right;\">\n",
       "      <th></th>\n",
       "      <th>ID</th>\n",
       "      <th>TEXT</th>\n",
       "    </tr>\n",
       "  </thead>\n",
       "  <tbody>\n",
       "    <tr>\n",
       "      <th>0</th>\n",
       "      <td>0</td>\n",
       "      <td>2. This mutation resulted in a myeloproliferat...</td>\n",
       "    </tr>\n",
       "    <tr>\n",
       "      <th>1</th>\n",
       "      <td>1</td>\n",
       "      <td>Abstract The Large Tumor Suppressor 1 (LATS1)...</td>\n",
       "    </tr>\n",
       "    <tr>\n",
       "      <th>2</th>\n",
       "      <td>2</td>\n",
       "      <td>Vascular endothelial growth factor receptor (V...</td>\n",
       "    </tr>\n",
       "    <tr>\n",
       "      <th>3</th>\n",
       "      <td>3</td>\n",
       "      <td>Inflammatory myofibroblastic tumor (IMT) is a ...</td>\n",
       "    </tr>\n",
       "    <tr>\n",
       "      <th>4</th>\n",
       "      <td>4</td>\n",
       "      <td>Abstract Retinoblastoma is a pediatric retina...</td>\n",
       "    </tr>\n",
       "  </tbody>\n",
       "</table>\n",
       "</div>"
      ],
      "text/plain": [
       "   ID                                               TEXT\n",
       "0   0  2. This mutation resulted in a myeloproliferat...\n",
       "1   1   Abstract The Large Tumor Suppressor 1 (LATS1)...\n",
       "2   2  Vascular endothelial growth factor receptor (V...\n",
       "3   3  Inflammatory myofibroblastic tumor (IMT) is a ...\n",
       "4   4   Abstract Retinoblastoma is a pediatric retina..."
      ]
     },
     "execution_count": 18,
     "metadata": {},
     "output_type": "execute_result"
    }
   ],
   "source": [
    "testing_text.head()"
   ]
  },
  {
   "cell_type": "code",
   "execution_count": 19,
   "id": "38bff598-e9e6-4230-9175-83ad3a492ffd",
   "metadata": {},
   "outputs": [],
   "source": [
    "traning_text = pd.read_csv('D:/Arvind Sir/Project_Pro/modular_code/data/training_text.csv',sep=\"\\|\\|\",engine=\"python\",names=[\"ID\",\"TEXT\"],skiprows=1)"
   ]
  },
  {
   "cell_type": "code",
   "execution_count": 20,
   "id": "efce34f8-d67d-4e7a-b711-7484cf13e23d",
   "metadata": {},
   "outputs": [
    {
     "data": {
      "text/html": [
       "<div>\n",
       "<style scoped>\n",
       "    .dataframe tbody tr th:only-of-type {\n",
       "        vertical-align: middle;\n",
       "    }\n",
       "\n",
       "    .dataframe tbody tr th {\n",
       "        vertical-align: top;\n",
       "    }\n",
       "\n",
       "    .dataframe thead th {\n",
       "        text-align: right;\n",
       "    }\n",
       "</style>\n",
       "<table border=\"1\" class=\"dataframe\">\n",
       "  <thead>\n",
       "    <tr style=\"text-align: right;\">\n",
       "      <th></th>\n",
       "      <th>ID</th>\n",
       "      <th>TEXT</th>\n",
       "    </tr>\n",
       "  </thead>\n",
       "  <tbody>\n",
       "    <tr>\n",
       "      <th>0</th>\n",
       "      <td>0</td>\n",
       "      <td>Cyclin-dependent kinases (CDKs) regulate a var...</td>\n",
       "    </tr>\n",
       "    <tr>\n",
       "      <th>1</th>\n",
       "      <td>1</td>\n",
       "      <td>Abstract Background  Non-small cell lung canc...</td>\n",
       "    </tr>\n",
       "    <tr>\n",
       "      <th>2</th>\n",
       "      <td>2</td>\n",
       "      <td>Abstract Background  Non-small cell lung canc...</td>\n",
       "    </tr>\n",
       "    <tr>\n",
       "      <th>3</th>\n",
       "      <td>3</td>\n",
       "      <td>Recent evidence has demonstrated that acquired...</td>\n",
       "    </tr>\n",
       "    <tr>\n",
       "      <th>4</th>\n",
       "      <td>4</td>\n",
       "      <td>Oncogenic mutations in the monomeric Casitas B...</td>\n",
       "    </tr>\n",
       "  </tbody>\n",
       "</table>\n",
       "</div>"
      ],
      "text/plain": [
       "   ID                                               TEXT\n",
       "0   0  Cyclin-dependent kinases (CDKs) regulate a var...\n",
       "1   1   Abstract Background  Non-small cell lung canc...\n",
       "2   2   Abstract Background  Non-small cell lung canc...\n",
       "3   3  Recent evidence has demonstrated that acquired...\n",
       "4   4  Oncogenic mutations in the monomeric Casitas B..."
      ]
     },
     "execution_count": 20,
     "metadata": {},
     "output_type": "execute_result"
    }
   ],
   "source": [
    "traning_text.head()"
   ]
  },
  {
   "cell_type": "code",
   "execution_count": 21,
   "id": "874fa6b4-bc37-4c19-9ef9-c94961d3888a",
   "metadata": {},
   "outputs": [],
   "source": [
    "training_variants = pd.read_csv('D:/Arvind Sir/Project_Pro/modular_code/data/training_variants.csv')"
   ]
  },
  {
   "cell_type": "code",
   "execution_count": 22,
   "id": "f6d130c9-a170-4865-9d82-9d795d84937d",
   "metadata": {
    "scrolled": true
   },
   "outputs": [
    {
     "data": {
      "text/html": [
       "<div>\n",
       "<style scoped>\n",
       "    .dataframe tbody tr th:only-of-type {\n",
       "        vertical-align: middle;\n",
       "    }\n",
       "\n",
       "    .dataframe tbody tr th {\n",
       "        vertical-align: top;\n",
       "    }\n",
       "\n",
       "    .dataframe thead th {\n",
       "        text-align: right;\n",
       "    }\n",
       "</style>\n",
       "<table border=\"1\" class=\"dataframe\">\n",
       "  <thead>\n",
       "    <tr style=\"text-align: right;\">\n",
       "      <th></th>\n",
       "      <th>ID</th>\n",
       "      <th>Gene</th>\n",
       "      <th>Variation</th>\n",
       "      <th>Class</th>\n",
       "    </tr>\n",
       "  </thead>\n",
       "  <tbody>\n",
       "    <tr>\n",
       "      <th>0</th>\n",
       "      <td>0</td>\n",
       "      <td>FAM58A</td>\n",
       "      <td>Truncating Mutations</td>\n",
       "      <td>1</td>\n",
       "    </tr>\n",
       "    <tr>\n",
       "      <th>1</th>\n",
       "      <td>1</td>\n",
       "      <td>CBL</td>\n",
       "      <td>W802*</td>\n",
       "      <td>2</td>\n",
       "    </tr>\n",
       "    <tr>\n",
       "      <th>2</th>\n",
       "      <td>2</td>\n",
       "      <td>CBL</td>\n",
       "      <td>Q249E</td>\n",
       "      <td>2</td>\n",
       "    </tr>\n",
       "    <tr>\n",
       "      <th>3</th>\n",
       "      <td>3</td>\n",
       "      <td>CBL</td>\n",
       "      <td>N454D</td>\n",
       "      <td>3</td>\n",
       "    </tr>\n",
       "    <tr>\n",
       "      <th>4</th>\n",
       "      <td>4</td>\n",
       "      <td>CBL</td>\n",
       "      <td>L399V</td>\n",
       "      <td>4</td>\n",
       "    </tr>\n",
       "  </tbody>\n",
       "</table>\n",
       "</div>"
      ],
      "text/plain": [
       "   ID    Gene             Variation  Class\n",
       "0   0  FAM58A  Truncating Mutations      1\n",
       "1   1     CBL                 W802*      2\n",
       "2   2     CBL                 Q249E      2\n",
       "3   3     CBL                 N454D      3\n",
       "4   4     CBL                 L399V      4"
      ]
     },
     "execution_count": 22,
     "metadata": {},
     "output_type": "execute_result"
    }
   ],
   "source": [
    "training_variants.head()"
   ]
  },
  {
   "cell_type": "code",
   "execution_count": 23,
   "id": "e9670915-5ef7-4cab-9fbc-f62ce74d4dee",
   "metadata": {},
   "outputs": [],
   "source": [
    "test_variants = pd.read_csv('D:/Arvind Sir/Project_Pro/modular_code/data/test_variants.csv')"
   ]
  },
  {
   "cell_type": "code",
   "execution_count": 24,
   "id": "663a7fcc-fdef-48c6-ab31-4ec29dbc93cb",
   "metadata": {},
   "outputs": [
    {
     "data": {
      "text/html": [
       "<div>\n",
       "<style scoped>\n",
       "    .dataframe tbody tr th:only-of-type {\n",
       "        vertical-align: middle;\n",
       "    }\n",
       "\n",
       "    .dataframe tbody tr th {\n",
       "        vertical-align: top;\n",
       "    }\n",
       "\n",
       "    .dataframe thead th {\n",
       "        text-align: right;\n",
       "    }\n",
       "</style>\n",
       "<table border=\"1\" class=\"dataframe\">\n",
       "  <thead>\n",
       "    <tr style=\"text-align: right;\">\n",
       "      <th></th>\n",
       "      <th>ID</th>\n",
       "      <th>Gene</th>\n",
       "      <th>Variation</th>\n",
       "    </tr>\n",
       "  </thead>\n",
       "  <tbody>\n",
       "    <tr>\n",
       "      <th>0</th>\n",
       "      <td>0</td>\n",
       "      <td>ACSL4</td>\n",
       "      <td>R570S</td>\n",
       "    </tr>\n",
       "    <tr>\n",
       "      <th>1</th>\n",
       "      <td>1</td>\n",
       "      <td>NAGLU</td>\n",
       "      <td>P521L</td>\n",
       "    </tr>\n",
       "    <tr>\n",
       "      <th>2</th>\n",
       "      <td>2</td>\n",
       "      <td>PAH</td>\n",
       "      <td>L333F</td>\n",
       "    </tr>\n",
       "    <tr>\n",
       "      <th>3</th>\n",
       "      <td>3</td>\n",
       "      <td>ING1</td>\n",
       "      <td>A148D</td>\n",
       "    </tr>\n",
       "    <tr>\n",
       "      <th>4</th>\n",
       "      <td>4</td>\n",
       "      <td>TMEM216</td>\n",
       "      <td>G77A</td>\n",
       "    </tr>\n",
       "  </tbody>\n",
       "</table>\n",
       "</div>"
      ],
      "text/plain": [
       "   ID     Gene Variation\n",
       "0   0    ACSL4     R570S\n",
       "1   1    NAGLU     P521L\n",
       "2   2      PAH     L333F\n",
       "3   3     ING1     A148D\n",
       "4   4  TMEM216      G77A"
      ]
     },
     "execution_count": 24,
     "metadata": {},
     "output_type": "execute_result"
    }
   ],
   "source": [
    "test_variants.head()"
   ]
  },
  {
   "cell_type": "code",
   "execution_count": 25,
   "id": "50f76a4a-77a4-4a34-945f-7f8a4d298d89",
   "metadata": {},
   "outputs": [
    {
     "name": "stdout",
     "output_type": "stream",
     "text": [
      "train_variant 3321\n",
      "train_text 3321\n",
      "test_variant 5668\n",
      "test_text 5668\n"
     ]
    }
   ],
   "source": [
    "#missing two points in test_variants\n",
    "print('train_variant', len(training_variants))\n",
    "print('train_text', len(traning_text))\n",
    "print('test_variant', len(test_variants))\n",
    "print('test_text', len(testing_text))"
   ]
  },
  {
   "cell_type": "code",
   "execution_count": 26,
   "id": "f0fe3519-126b-4e67-add2-c3b17b4a9a12",
   "metadata": {},
   "outputs": [
    {
     "data": {
      "text/html": [
       "<div>\n",
       "<style scoped>\n",
       "    .dataframe tbody tr th:only-of-type {\n",
       "        vertical-align: middle;\n",
       "    }\n",
       "\n",
       "    .dataframe tbody tr th {\n",
       "        vertical-align: top;\n",
       "    }\n",
       "\n",
       "    .dataframe thead th {\n",
       "        text-align: right;\n",
       "    }\n",
       "</style>\n",
       "<table border=\"1\" class=\"dataframe\">\n",
       "  <thead>\n",
       "    <tr style=\"text-align: right;\">\n",
       "      <th></th>\n",
       "      <th>ID</th>\n",
       "      <th>Gene</th>\n",
       "      <th>Variation</th>\n",
       "      <th>Class</th>\n",
       "    </tr>\n",
       "  </thead>\n",
       "  <tbody>\n",
       "    <tr>\n",
       "      <th>0</th>\n",
       "      <td>0</td>\n",
       "      <td>FAM58A</td>\n",
       "      <td>Truncating Mutations</td>\n",
       "      <td>1</td>\n",
       "    </tr>\n",
       "    <tr>\n",
       "      <th>1</th>\n",
       "      <td>1</td>\n",
       "      <td>CBL</td>\n",
       "      <td>W802*</td>\n",
       "      <td>2</td>\n",
       "    </tr>\n",
       "    <tr>\n",
       "      <th>2</th>\n",
       "      <td>2</td>\n",
       "      <td>CBL</td>\n",
       "      <td>Q249E</td>\n",
       "      <td>2</td>\n",
       "    </tr>\n",
       "    <tr>\n",
       "      <th>3</th>\n",
       "      <td>3</td>\n",
       "      <td>CBL</td>\n",
       "      <td>N454D</td>\n",
       "      <td>3</td>\n",
       "    </tr>\n",
       "    <tr>\n",
       "      <th>4</th>\n",
       "      <td>4</td>\n",
       "      <td>CBL</td>\n",
       "      <td>L399V</td>\n",
       "      <td>4</td>\n",
       "    </tr>\n",
       "  </tbody>\n",
       "</table>\n",
       "</div>"
      ],
      "text/plain": [
       "   ID    Gene             Variation  Class\n",
       "0   0  FAM58A  Truncating Mutations      1\n",
       "1   1     CBL                 W802*      2\n",
       "2   2     CBL                 Q249E      2\n",
       "3   3     CBL                 N454D      3\n",
       "4   4     CBL                 L399V      4"
      ]
     },
     "execution_count": 26,
     "metadata": {},
     "output_type": "execute_result"
    }
   ],
   "source": [
    "training_variants.head()"
   ]
  },
  {
   "cell_type": "code",
   "execution_count": 27,
   "id": "43891d6f-d2b6-4ae1-ad42-20d5809cbf05",
   "metadata": {},
   "outputs": [
    {
     "data": {
      "text/html": [
       "<div>\n",
       "<style scoped>\n",
       "    .dataframe tbody tr th:only-of-type {\n",
       "        vertical-align: middle;\n",
       "    }\n",
       "\n",
       "    .dataframe tbody tr th {\n",
       "        vertical-align: top;\n",
       "    }\n",
       "\n",
       "    .dataframe thead th {\n",
       "        text-align: right;\n",
       "    }\n",
       "</style>\n",
       "<table border=\"1\" class=\"dataframe\">\n",
       "  <thead>\n",
       "    <tr style=\"text-align: right;\">\n",
       "      <th></th>\n",
       "      <th>ID</th>\n",
       "      <th>TEXT</th>\n",
       "    </tr>\n",
       "  </thead>\n",
       "  <tbody>\n",
       "    <tr>\n",
       "      <th>0</th>\n",
       "      <td>0</td>\n",
       "      <td>Cyclin-dependent kinases (CDKs) regulate a var...</td>\n",
       "    </tr>\n",
       "    <tr>\n",
       "      <th>1</th>\n",
       "      <td>1</td>\n",
       "      <td>Abstract Background  Non-small cell lung canc...</td>\n",
       "    </tr>\n",
       "    <tr>\n",
       "      <th>2</th>\n",
       "      <td>2</td>\n",
       "      <td>Abstract Background  Non-small cell lung canc...</td>\n",
       "    </tr>\n",
       "    <tr>\n",
       "      <th>3</th>\n",
       "      <td>3</td>\n",
       "      <td>Recent evidence has demonstrated that acquired...</td>\n",
       "    </tr>\n",
       "    <tr>\n",
       "      <th>4</th>\n",
       "      <td>4</td>\n",
       "      <td>Oncogenic mutations in the monomeric Casitas B...</td>\n",
       "    </tr>\n",
       "  </tbody>\n",
       "</table>\n",
       "</div>"
      ],
      "text/plain": [
       "   ID                                               TEXT\n",
       "0   0  Cyclin-dependent kinases (CDKs) regulate a var...\n",
       "1   1   Abstract Background  Non-small cell lung canc...\n",
       "2   2   Abstract Background  Non-small cell lung canc...\n",
       "3   3  Recent evidence has demonstrated that acquired...\n",
       "4   4  Oncogenic mutations in the monomeric Casitas B..."
      ]
     },
     "execution_count": 27,
     "metadata": {},
     "output_type": "execute_result"
    }
   ],
   "source": [
    "traning_text.head()"
   ]
  },
  {
   "cell_type": "code",
   "execution_count": 28,
   "id": "149a33d5-cca1-49f4-a838-44393f7bd2ca",
   "metadata": {},
   "outputs": [
    {
     "data": {
      "text/html": [
       "<div>\n",
       "<style scoped>\n",
       "    .dataframe tbody tr th:only-of-type {\n",
       "        vertical-align: middle;\n",
       "    }\n",
       "\n",
       "    .dataframe tbody tr th {\n",
       "        vertical-align: top;\n",
       "    }\n",
       "\n",
       "    .dataframe thead th {\n",
       "        text-align: right;\n",
       "    }\n",
       "</style>\n",
       "<table border=\"1\" class=\"dataframe\">\n",
       "  <thead>\n",
       "    <tr style=\"text-align: right;\">\n",
       "      <th></th>\n",
       "      <th>ID</th>\n",
       "      <th>TEXT</th>\n",
       "    </tr>\n",
       "  </thead>\n",
       "  <tbody>\n",
       "    <tr>\n",
       "      <th>0</th>\n",
       "      <td>0</td>\n",
       "      <td>2. This mutation resulted in a myeloproliferat...</td>\n",
       "    </tr>\n",
       "    <tr>\n",
       "      <th>1</th>\n",
       "      <td>1</td>\n",
       "      <td>Abstract The Large Tumor Suppressor 1 (LATS1)...</td>\n",
       "    </tr>\n",
       "    <tr>\n",
       "      <th>2</th>\n",
       "      <td>2</td>\n",
       "      <td>Vascular endothelial growth factor receptor (V...</td>\n",
       "    </tr>\n",
       "    <tr>\n",
       "      <th>3</th>\n",
       "      <td>3</td>\n",
       "      <td>Inflammatory myofibroblastic tumor (IMT) is a ...</td>\n",
       "    </tr>\n",
       "    <tr>\n",
       "      <th>4</th>\n",
       "      <td>4</td>\n",
       "      <td>Abstract Retinoblastoma is a pediatric retina...</td>\n",
       "    </tr>\n",
       "  </tbody>\n",
       "</table>\n",
       "</div>"
      ],
      "text/plain": [
       "   ID                                               TEXT\n",
       "0   0  2. This mutation resulted in a myeloproliferat...\n",
       "1   1   Abstract The Large Tumor Suppressor 1 (LATS1)...\n",
       "2   2  Vascular endothelial growth factor receptor (V...\n",
       "3   3  Inflammatory myofibroblastic tumor (IMT) is a ...\n",
       "4   4   Abstract Retinoblastoma is a pediatric retina..."
      ]
     },
     "execution_count": 28,
     "metadata": {},
     "output_type": "execute_result"
    }
   ],
   "source": [
    "testing_text.head()"
   ]
  },
  {
   "cell_type": "code",
   "execution_count": 29,
   "id": "31ef76c3-ffea-44de-b279-d176bc2af4e8",
   "metadata": {},
   "outputs": [
    {
     "data": {
      "text/html": [
       "<div>\n",
       "<style scoped>\n",
       "    .dataframe tbody tr th:only-of-type {\n",
       "        vertical-align: middle;\n",
       "    }\n",
       "\n",
       "    .dataframe tbody tr th {\n",
       "        vertical-align: top;\n",
       "    }\n",
       "\n",
       "    .dataframe thead th {\n",
       "        text-align: right;\n",
       "    }\n",
       "</style>\n",
       "<table border=\"1\" class=\"dataframe\">\n",
       "  <thead>\n",
       "    <tr style=\"text-align: right;\">\n",
       "      <th></th>\n",
       "      <th>ID</th>\n",
       "      <th>Gene</th>\n",
       "      <th>Variation</th>\n",
       "    </tr>\n",
       "  </thead>\n",
       "  <tbody>\n",
       "    <tr>\n",
       "      <th>0</th>\n",
       "      <td>0</td>\n",
       "      <td>ACSL4</td>\n",
       "      <td>R570S</td>\n",
       "    </tr>\n",
       "    <tr>\n",
       "      <th>1</th>\n",
       "      <td>1</td>\n",
       "      <td>NAGLU</td>\n",
       "      <td>P521L</td>\n",
       "    </tr>\n",
       "    <tr>\n",
       "      <th>2</th>\n",
       "      <td>2</td>\n",
       "      <td>PAH</td>\n",
       "      <td>L333F</td>\n",
       "    </tr>\n",
       "    <tr>\n",
       "      <th>3</th>\n",
       "      <td>3</td>\n",
       "      <td>ING1</td>\n",
       "      <td>A148D</td>\n",
       "    </tr>\n",
       "    <tr>\n",
       "      <th>4</th>\n",
       "      <td>4</td>\n",
       "      <td>TMEM216</td>\n",
       "      <td>G77A</td>\n",
       "    </tr>\n",
       "  </tbody>\n",
       "</table>\n",
       "</div>"
      ],
      "text/plain": [
       "   ID     Gene Variation\n",
       "0   0    ACSL4     R570S\n",
       "1   1    NAGLU     P521L\n",
       "2   2      PAH     L333F\n",
       "3   3     ING1     A148D\n",
       "4   4  TMEM216      G77A"
      ]
     },
     "execution_count": 29,
     "metadata": {},
     "output_type": "execute_result"
    }
   ],
   "source": [
    "test_variants.head()"
   ]
  },
  {
   "cell_type": "code",
   "execution_count": 30,
   "id": "80d60fab-f267-4fa6-8c99-87d8ae0c4bc1",
   "metadata": {},
   "outputs": [],
   "source": [
    "#Merge two dataframes in one frame depending on ID and removing _id as it gives same redundant information \n",
    "train_data = pd.merge(traning_text,training_variants, on=\"ID\",how=\"left\")"
   ]
  },
  {
   "cell_type": "code",
   "execution_count": 31,
   "id": "8b47f6b5-80bf-4e01-8182-73ba4c4c66f9",
   "metadata": {},
   "outputs": [
    {
     "data": {
      "text/plain": [
       "True"
      ]
     },
     "execution_count": 31,
     "metadata": {},
     "output_type": "execute_result"
    }
   ],
   "source": [
    "#check if there is any null value \n",
    "train_data.isnull().values.any()"
   ]
  },
  {
   "cell_type": "code",
   "execution_count": 32,
   "id": "74cda14a-0bc0-4501-b0e9-0d423aebb376",
   "metadata": {},
   "outputs": [
    {
     "data": {
      "text/plain": [
       "3321"
      ]
     },
     "execution_count": 32,
     "metadata": {},
     "output_type": "execute_result"
    }
   ],
   "source": [
    "#fiiling NA values in text\n",
    "train_data.loc[train_data['TEXT'].isnull(),'TEXT'] = train_data['Gene'] + ' ' + train_data['Variation']\n",
    "len(train_data)"
   ]
  },
  {
   "cell_type": "code",
   "execution_count": 33,
   "id": "3c240347-29b0-4f85-98a4-e1cd6f655388",
   "metadata": {},
   "outputs": [
    {
     "data": {
      "text/html": [
       "<div>\n",
       "<style scoped>\n",
       "    .dataframe tbody tr th:only-of-type {\n",
       "        vertical-align: middle;\n",
       "    }\n",
       "\n",
       "    .dataframe tbody tr th {\n",
       "        vertical-align: top;\n",
       "    }\n",
       "\n",
       "    .dataframe thead th {\n",
       "        text-align: right;\n",
       "    }\n",
       "</style>\n",
       "<table border=\"1\" class=\"dataframe\">\n",
       "  <thead>\n",
       "    <tr style=\"text-align: right;\">\n",
       "      <th></th>\n",
       "      <th>ID</th>\n",
       "      <th>TEXT</th>\n",
       "      <th>Gene</th>\n",
       "      <th>Variation</th>\n",
       "      <th>Class</th>\n",
       "    </tr>\n",
       "  </thead>\n",
       "  <tbody>\n",
       "    <tr>\n",
       "      <th>0</th>\n",
       "      <td>0</td>\n",
       "      <td>Cyclin-dependent kinases (CDKs) regulate a var...</td>\n",
       "      <td>FAM58A</td>\n",
       "      <td>Truncating Mutations</td>\n",
       "      <td>1</td>\n",
       "    </tr>\n",
       "    <tr>\n",
       "      <th>1</th>\n",
       "      <td>1</td>\n",
       "      <td>Abstract Background  Non-small cell lung canc...</td>\n",
       "      <td>CBL</td>\n",
       "      <td>W802*</td>\n",
       "      <td>2</td>\n",
       "    </tr>\n",
       "    <tr>\n",
       "      <th>2</th>\n",
       "      <td>2</td>\n",
       "      <td>Abstract Background  Non-small cell lung canc...</td>\n",
       "      <td>CBL</td>\n",
       "      <td>Q249E</td>\n",
       "      <td>2</td>\n",
       "    </tr>\n",
       "    <tr>\n",
       "      <th>3</th>\n",
       "      <td>3</td>\n",
       "      <td>Recent evidence has demonstrated that acquired...</td>\n",
       "      <td>CBL</td>\n",
       "      <td>N454D</td>\n",
       "      <td>3</td>\n",
       "    </tr>\n",
       "    <tr>\n",
       "      <th>4</th>\n",
       "      <td>4</td>\n",
       "      <td>Oncogenic mutations in the monomeric Casitas B...</td>\n",
       "      <td>CBL</td>\n",
       "      <td>L399V</td>\n",
       "      <td>4</td>\n",
       "    </tr>\n",
       "  </tbody>\n",
       "</table>\n",
       "</div>"
      ],
      "text/plain": [
       "   ID                                               TEXT    Gene  \\\n",
       "0   0  Cyclin-dependent kinases (CDKs) regulate a var...  FAM58A   \n",
       "1   1   Abstract Background  Non-small cell lung canc...     CBL   \n",
       "2   2   Abstract Background  Non-small cell lung canc...     CBL   \n",
       "3   3  Recent evidence has demonstrated that acquired...     CBL   \n",
       "4   4  Oncogenic mutations in the monomeric Casitas B...     CBL   \n",
       "\n",
       "              Variation  Class  \n",
       "0  Truncating Mutations      1  \n",
       "1                 W802*      2  \n",
       "2                 Q249E      2  \n",
       "3                 N454D      3  \n",
       "4                 L399V      4  "
      ]
     },
     "execution_count": 33,
     "metadata": {},
     "output_type": "execute_result"
    }
   ],
   "source": [
    "train_data.head()"
   ]
  },
  {
   "cell_type": "code",
   "execution_count": 34,
   "id": "d3995f90-7587-419c-a77d-3f7b2567db47",
   "metadata": {},
   "outputs": [
    {
     "name": "stdout",
     "output_type": "stream",
     "text": [
      "5668\n"
     ]
    }
   ],
   "source": [
    "#create test data\n",
    "# testing_variants = pd.DataFrame(list(db['test_variants'].find()))\n",
    "# testing_text=pd.DataFrame(list(db['test_text'].find()))\n",
    "print(len(testing_text))"
   ]
  },
  {
   "cell_type": "code",
   "execution_count": 35,
   "id": "08dafb19-eb4f-4a2f-bd06-6eb13bcd53de",
   "metadata": {},
   "outputs": [
    {
     "data": {
      "text/html": [
       "<div>\n",
       "<style scoped>\n",
       "    .dataframe tbody tr th:only-of-type {\n",
       "        vertical-align: middle;\n",
       "    }\n",
       "\n",
       "    .dataframe tbody tr th {\n",
       "        vertical-align: top;\n",
       "    }\n",
       "\n",
       "    .dataframe thead th {\n",
       "        text-align: right;\n",
       "    }\n",
       "</style>\n",
       "<table border=\"1\" class=\"dataframe\">\n",
       "  <thead>\n",
       "    <tr style=\"text-align: right;\">\n",
       "      <th></th>\n",
       "      <th>ID</th>\n",
       "      <th>TEXT</th>\n",
       "      <th>Gene</th>\n",
       "      <th>Variation</th>\n",
       "    </tr>\n",
       "  </thead>\n",
       "  <tbody>\n",
       "    <tr>\n",
       "      <th>0</th>\n",
       "      <td>0</td>\n",
       "      <td>2. This mutation resulted in a myeloproliferat...</td>\n",
       "      <td>ACSL4</td>\n",
       "      <td>R570S</td>\n",
       "    </tr>\n",
       "    <tr>\n",
       "      <th>1</th>\n",
       "      <td>1</td>\n",
       "      <td>Abstract The Large Tumor Suppressor 1 (LATS1)...</td>\n",
       "      <td>NAGLU</td>\n",
       "      <td>P521L</td>\n",
       "    </tr>\n",
       "    <tr>\n",
       "      <th>2</th>\n",
       "      <td>2</td>\n",
       "      <td>Vascular endothelial growth factor receptor (V...</td>\n",
       "      <td>PAH</td>\n",
       "      <td>L333F</td>\n",
       "    </tr>\n",
       "    <tr>\n",
       "      <th>3</th>\n",
       "      <td>3</td>\n",
       "      <td>Inflammatory myofibroblastic tumor (IMT) is a ...</td>\n",
       "      <td>ING1</td>\n",
       "      <td>A148D</td>\n",
       "    </tr>\n",
       "    <tr>\n",
       "      <th>4</th>\n",
       "      <td>4</td>\n",
       "      <td>Abstract Retinoblastoma is a pediatric retina...</td>\n",
       "      <td>TMEM216</td>\n",
       "      <td>G77A</td>\n",
       "    </tr>\n",
       "  </tbody>\n",
       "</table>\n",
       "</div>"
      ],
      "text/plain": [
       "   ID                                               TEXT     Gene Variation\n",
       "0   0  2. This mutation resulted in a myeloproliferat...    ACSL4     R570S\n",
       "1   1   Abstract The Large Tumor Suppressor 1 (LATS1)...    NAGLU     P521L\n",
       "2   2  Vascular endothelial growth factor receptor (V...      PAH     L333F\n",
       "3   3  Inflammatory myofibroblastic tumor (IMT) is a ...     ING1     A148D\n",
       "4   4   Abstract Retinoblastoma is a pediatric retina...  TMEM216      G77A"
      ]
     },
     "execution_count": 35,
     "metadata": {},
     "output_type": "execute_result"
    }
   ],
   "source": [
    "test_data = pd.merge(testing_text,test_variants, on=\"ID\",how=\"left\")\n",
    "test_data.head()"
   ]
  },
  {
   "cell_type": "code",
   "execution_count": 36,
   "id": "717d4cc1-a6fc-4f15-9c64-6a9b8ac2861c",
   "metadata": {},
   "outputs": [
    {
     "name": "stdout",
     "output_type": "stream",
     "text": [
      "5668\n"
     ]
    }
   ],
   "source": [
    "#test_data.drop(['_id_x','_id_y'], axis=1, inplace=True)\n",
    "print(len(testing_text))"
   ]
  },
  {
   "cell_type": "code",
   "execution_count": 37,
   "id": "dd41750a-f47d-46a1-aebc-2965e117a70e",
   "metadata": {},
   "outputs": [],
   "source": [
    "#check if there is any null value \n",
    "test_data.isnull().values.any()\n",
    "\n",
    "#filling NaN values with Gene & Variation \n",
    "test_data.loc[test_data['TEXT'].isnull(),'TEXT'] = test_data['Gene'] + ' ' + test_data['Variation']\n",
    "\n",
    "#drop down the two extra data samples \n",
    "test_data.dropna(inplace=True)"
   ]
  },
  {
   "cell_type": "code",
   "execution_count": 38,
   "id": "34efdd35-b76f-415c-9d0f-3a9c197232e7",
   "metadata": {},
   "outputs": [],
   "source": [
    "# import numpy for data manipulation and matplotlib for visualization\n",
    "import numpy as np\n",
    "import warnings\n",
    "import matplotlib.pyplot as plt\n",
    "import seaborn as sns\n",
    "warnings.filterwarnings('ignore')"
   ]
  },
  {
   "cell_type": "code",
   "execution_count": 39,
   "id": "251e920c-16a3-47e1-9c76-a0ed6e057e14",
   "metadata": {},
   "outputs": [
    {
     "name": "stdout",
     "output_type": "stream",
     "text": [
      "Output number and value of classes:\n",
      "Number of classes 9\n",
      "Value of classes [1, 2, 3, 4, 5, 6, 7, 8, 9]\n",
      "**************************************************************\n"
     ]
    },
    {
     "data": {
      "image/png": "[encoded data removed]",
      "text/plain": [
       "<Figure size 640x480 with 1 Axes>"
      ]
     },
     "metadata": {},
     "output_type": "display_data"
    },
    {
     "data": {
      "text/plain": [
       "Class\n",
       "7    953\n",
       "4    686\n",
       "1    568\n",
       "2    452\n",
       "6    275\n",
       "5    242\n",
       "3     89\n",
       "9     37\n",
       "8     19\n",
       "Name: count, dtype: int64"
      ]
     },
     "execution_count": 39,
     "metadata": {},
     "output_type": "execute_result"
    }
   ],
   "source": [
    "#Since we need to predict classes, lets see how many classes we have\n",
    "print('Output number and value of classes:')\n",
    "classes =sorted(set(train_data['Class']))\n",
    "print('Number of classes',len(classes))\n",
    "print('Value of classes',classes)\n",
    "print('**************************************************************')\n",
    "\n",
    "fig, ax = plt.subplots()\n",
    "# Set title\n",
    "ax.set_title(\"Frequency of classes in training data\")\n",
    "  \n",
    "# adding labels\n",
    "ax.set_xlabel('Classes')\n",
    "ax.set_ylabel('Frequency')\n",
    "plt.hist(train_data['Class'], bins=9, align='mid', color='purple', edgecolor='black',rwidth=0.7)\n",
    "plt.show()\n",
    "\n",
    "train_data['Class'].value_counts()"
   ]
  },
  {
   "cell_type": "code",
   "execution_count": 40,
   "id": "5e31786a-e6fc-417f-9321-f6e191667170",
   "metadata": {},
   "outputs": [
    {
     "name": "stdout",
     "output_type": "stream",
     "text": [
      "Output number and value of Genes:\n",
      "Number of genes 264\n",
      "Value of genes ['ABL1', 'ACVR1', 'AGO2', 'AKT1', 'AKT2', 'AKT3', 'ALK', 'APC', 'AR', 'ARAF', 'ARID1A', 'ARID1B', 'ARID2', 'ARID5B', 'ASXL1', 'ASXL2', 'ATM', 'ATR', 'ATRX', 'AURKA', 'AURKB', 'AXIN1', 'AXL', 'B2M', 'BAP1', 'BARD1', 'BCL10', 'BCL2', 'BCL2L11', 'BCOR', 'BRAF', 'BRCA1', 'BRCA2', 'BRD4', 'BRIP1', 'BTK', 'CARD11', 'CARM1', 'CASP8', 'CBL', 'CCND1', 'CCND2', 'CCND3', 'CCNE1', 'CDH1', 'CDK12', 'CDK4', 'CDK6', 'CDK8', 'CDKN1A', 'CDKN1B', 'CDKN2A', 'CDKN2B', 'CDKN2C', 'CEBPA', 'CHEK2', 'CIC', 'CREBBP', 'CTCF', 'CTLA4', 'CTNNB1', 'DDR2', 'DICER1', 'DNMT3A', 'DNMT3B', 'DUSP4', 'EGFR', 'EIF1AX', 'ELF3', 'EP300', 'EPAS1', 'EPCAM', 'ERBB2', 'ERBB3', 'ERBB4', 'ERCC2', 'ERCC3', 'ERCC4', 'ERG', 'ERRFI1', 'ESR1', 'ETV1', 'ETV6', 'EWSR1', 'EZH2', 'FAM58A', 'FANCA', 'FANCC', 'FAT1', 'FBXW7', 'FGF19', 'FGF3', 'FGF4', 'FGFR1', 'FGFR2', 'FGFR3', 'FGFR4', 'FLT1', 'FLT3', 'FOXA1', 'FOXL2', 'FOXO1', 'FOXP1', 'FUBP1', 'GATA3', 'GLI1', 'GNA11', 'GNAQ', 'GNAS', 'H3F3A', 'HIST1H1C', 'HLA-A', 'HLA-B', 'HNF1A', 'HRAS', 'IDH1', 'IDH2', 'IGF1R', 'IKBKE', 'IKZF1', 'IL7R', 'INPP4B', 'JAK1', 'JAK2', 'JUN', 'KDM5A', 'KDM5C', 'KDM6A', 'KDR', 'KEAP1', 'KIT', 'KLF4', 'KMT2A', 'KMT2B', 'KMT2C', 'KMT2D', 'KNSTRN', 'KRAS', 'LATS1', 'LATS2', 'MAP2K1', 'MAP2K2', 'MAP2K4', 'MAP3K1', 'MAPK1', 'MDM2', 'MDM4', 'MED12', 'MEF2B', 'MEN1', 'MET', 'MGA', 'MLH1', 'MPL', 'MSH2', 'MSH6', 'MTOR', 'MYC', 'MYCN', 'MYD88', 'MYOD1', 'NCOR1', 'NF1', 'NF2', 'NFE2L2', 'NFKBIA', 'NKX2-1', 'NOTCH1', 'NOTCH2', 'NPM1', 'NRAS', 'NSD1', 'NTRK1', 'NTRK2', 'NTRK3', 'NUP93', 'PAK1', 'PAX8', 'PBRM1', 'PDGFRA', 'PDGFRB', 'PIK3CA', 'PIK3CB', 'PIK3CD', 'PIK3R1', 'PIK3R2', 'PIK3R3', 'PIM1', 'PMS1', 'PMS2', 'POLE', 'PPM1D', 'PPP2R1A', 'PPP6C', 'PRDM1', 'PTCH1', 'PTEN', 'PTPN11', 'PTPRD', 'PTPRT', 'RAB35', 'RAC1', 'RAD21', 'RAD50', 'RAD51B', 'RAD51C', 'RAD51D', 'RAD54L', 'RAF1', 'RARA', 'RASA1', 'RB1', 'RBM10', 'RET', 'RHEB', 'RHOA', 'RICTOR', 'RIT1', 'RNF43', 'ROS1', 'RRAS2', 'RUNX1', 'RXRA', 'RYBP', 'SDHB', 'SDHC', 'SETD2', 'SF3B1', 'SHOC2', 'SHQ1', 'SMAD2', 'SMAD3', 'SMAD4', 'SMARCA4', 'SMARCB1', 'SMO', 'SOS1', 'SOX9', 'SPOP', 'SRC', 'SRSF2', 'STAG2', 'STAT3', 'STK11', 'TCF3', 'TCF7L2', 'TERT', 'TET1', 'TET2', 'TGFBR1', 'TGFBR2', 'TMPRSS2', 'TP53', 'TP53BP1', 'TSC1', 'TSC2', 'U2AF1', 'VEGFA', 'VHL', 'WHSC1', 'WHSC1L1', 'XPO1', 'XRCC2', 'YAP1']\n",
      "**************************************************************\n"
     ]
    },
    {
     "data": {
      "text/plain": [
       "Gene\n",
       "BRCA1     264\n",
       "TP53      163\n",
       "EGFR      141\n",
       "PTEN      126\n",
       "BRCA2     125\n",
       "         ... \n",
       "RYBP        1\n",
       "MDM2        1\n",
       "CTLA4       1\n",
       "ARID1A      1\n",
       "FAM58A      1\n",
       "Name: count, Length: 264, dtype: int64"
      ]
     },
     "execution_count": 40,
     "metadata": {},
     "output_type": "execute_result"
    },
    {
     "data": {
      "image/png": "[encoded data removed]",
      "text/plain": [
       "<Figure size 640x480 with 1 Axes>"
      ]
     },
     "metadata": {},
     "output_type": "display_data"
    }
   ],
   "source": [
    "print('Output number and value of Genes:')\n",
    "genes= sorted(set(train_data['Gene']))\n",
    "\n",
    "print('Number of genes',len(genes))\n",
    "print('Value of genes',genes)\n",
    "print('**************************************************************')\n",
    "\n",
    "#Due to having 264 gene, lets find the most frequent 10 genes\n",
    "df_variation = train_data.groupby(by=\"Gene\")\n",
    "df_variation_plot = df_variation.count().sort_values(by='ID',ascending=False).head(10).plot(kind='bar', y ='ID', ylabel = 'Frequency',xlabel='Gene',color='purple')\n",
    "\n",
    "train_data['Gene'].value_counts()"
   ]
  },
  {
   "cell_type": "code",
   "execution_count": 41,
   "id": "0bfde066-2f77-494c-8f4c-3c3217c9b996",
   "metadata": {
    "scrolled": true
   },
   "outputs": [
    {
     "name": "stdout",
     "output_type": "stream",
     "text": [
      "Output number and value of variation:\n",
      "Number of variaions 2996\n",
      "Value of variaions ['1_2009trunc', '2010_2471trunc', '256_286trunc', \"3' Deletion\", '385_418del', '422_605trunc', '533_534del', '534_536del', '550_592del', '560_561insER', '596_619splice', '963_D1010splice', '981_1028splice', 'A1020V', 'A1022E', 'A1065T', 'A1066V', 'A1099T', 'A111P', 'A1131T', 'A113_splice', 'A1170V', 'A11_G12insGA', 'A1200V', 'A120S', 'A121E', 'A121P', 'A121V', 'A122*', 'A1234T', 'A126D', 'A126G', 'A126S', 'A126V', 'A134D', 'A1374V', 'A1459P', 'A146T', 'A146V', 'A148T', 'A149P', 'A1519T', 'A151T', 'A159T', 'A161S', 'A161T', 'A1669S', 'A1685S', 'A1701P', 'A1708E', 'A1708V', 'A171V', 'A1752P', 'A1752V', 'A1789S', 'A1789T', 'A1823T', 'A1830T', 'A1843P', 'A1843T', 'A18D', 'A197T', 'A19V', 'A2034V', 'A205T', 'A209T', 'A211D', 'A232V', 'A2351G', 'A23E', 'A2425T', 'A246P', 'A263V', 'A2643G', 'A2717S', 'A272V', 'A2770T', 'A290T', 'A298T', 'A339V', 'A347T', 'A349P', 'A34D', 'A36P', 'A389T', 'A391E', 'A39P', 'A40E', 'A41P', 'A41T', 'A4419S', 'A459V', 'A500T', 'A502_Y503dup', 'A504_Y505ins', 'A530T', 'A530V', 'A532H', 'A546D', 'A57V', 'A598T', 'A598V', 'A59G', 'A59T', 'A60V', 'A614D', 'A617T', 'A627T', 'A633T', 'A633V', 'A634D', 'A634V', 'A636P', 'A648T', 'A677G', 'A707T', 'A717G', 'A723D', 'A727V', 'A728V', 'A72S', 'A72V', 'A750P', 'A750_E758del', 'A750_E758delinsP', 'A75P', 'A763_Y764insFQEA', 'A767_V769del', 'A767_V769dup', 'A77P', 'A77S', 'A77T', 'A829P', 'A859_L883delinsV', 'A864T', 'A883F', 'A883T', 'A889P', 'A8S', 'A919V', 'A95D', 'ACPP-PIK3CB Fusion', 'AGK-BRAF Fusion', 'AKAP9-BRAF Fusion', 'AR-V7', 'ARv567es', 'ATF7IP-JAK2 Fusion', 'ATF7IP-PDGFRB Fusion', 'ATG7-RAF1 Fusion', 'Amplification', 'BCAN-NTRK1 Fusion', 'BCOR-CCNB3 Fusion', 'BCOR-RARA Fusion', 'BCR-ABL1 Fusion', 'BCR-FGFR1 Fusion', 'BCR-JAK2 Fusion', 'BCR-PDGFRA Fusion', 'BIN2-PDGFRB Fusion', 'BRD4-NUT Fusion', 'BTBD1-NTRK3 Fusion', 'C105F', 'C1156F', 'C1156Y', 'C121S', 'C124N', 'C124R', 'C124S', 'C125S', 'C1265S', 'C134W', 'C135R', 'C135S', 'C135Y', 'C1365Y', 'C136R', 'C136Y', 'C1385', 'C141Y', 'C1483F', 'C1483R', 'C1483W', 'C1483Y', 'C157Y', 'C1697R', 'C1767S', 'C176F', 'C1787S', 'C18Y', 'C2060G', 'C228T', 'C229R', 'C238F', 'C238S', 'C242F', 'C242S', 'C248T', 'C24R', 'C24Y', 'C250T', 'C275S', 'C277Q', 'C277R', 'C277W', 'C278F', 'C27A', 'C311R', 'C324Y', 'C334S', 'C360R', 'C378R', 'C381A', 'C382R', 'C384R', 'C396R', 'C39R', 'C39S', 'C39Y', 'C41Y', 'C420R', 'C443Y', 'C44F', 'C44Y', 'C450_K451insMIEWMI', 'C456_N468del', 'C456_R481del', 'C47G', 'C47S', 'C481S', 'C482R', 'C49Y', 'C528S', 'C554W', 'C569Y', 'C582F', 'C609Y', 'C611Y', 'C618R', 'C61G', 'C620R', 'C620Y', 'C628Y', 'C630R', 'C630Y', 'C634R', 'C634S', 'C634W', 'C634Y', 'C64G', 'C696Y', 'C706F', 'C712R', 'C71Y', 'C77F', 'C809G', 'C91A', 'C91S', 'CAD-ALK Fusion', 'CASP8L', 'CCDC6-ROS1 Fusion', 'CCND1-IGH Fusion', 'CD74-NTRK1 Fusion', 'CD74-ROS1 Fusion', 'CEP110-FGFR1 Fusion', 'CEP85L-PDGFRB Fusion', 'CEP85L-ROS1 Fusion', 'CHTOP-NTRK1 Fusion', 'CIC-DUX4 Fusion', 'CPEB1-NTRK3 Fusion', 'CUL1-BRAF Fusion', 'CUX1-FGFR1 Fusion', 'Copy Number Loss', 'D1010H', 'D1010N', 'D1010Y', 'D101Y', 'D1029Y', 'D1067A', 'D1067V', 'D1067Y', 'D106A', 'D1071N', 'D107Y', 'D108H', 'D108N', 'D1091N', 'D119N', 'D1203N', 'D121G', 'D1270G', 'D1280V', 'D130A', 'D1344H', 'D1349H', 'D1352Y', 'D1384V', 'D1399Y', 'D140G', 'D1420Y', 'D153V', 'D1546N', 'D162G', 'D162H', 'D1692N', 'D1709A', 'D1709E', 'D171G', 'D171N', 'D1733G', 'D1739E', 'D1739G', 'D1739V', 'D1739Y', 'D1778G', 'D1778H', 'D1778N', 'D1778Y', 'D1810A', 'D1818G', 'D1853N', 'D186A', 'D194Y', 'D2033N', 'D2312V', 'D245V', 'D24Y', 'D2512G', 'D2512Y', 'D252G', 'D254N', 'D257N', 'D258N', 'D2665G', 'D2723G', 'D2723H', 'D277H', 'D2870A', 'D287H', 'D289_D292del', 'D289del', 'D29H', 'D29Y', 'D300H', 'D300N', 'D3095E', 'D3170G', 'D323H', 'D324N', 'D325A', 'D326N', 'D32A', 'D32H', 'D32N', 'D32Y', 'D331G', 'D350G', 'D351H', 'D357Y', 'D384N', 'D387V', 'D390Y', 'D399N', 'D401N', 'D402Y', 'D404G', 'D408E', 'D408H', 'D408Y', 'D419del', 'D422N', 'D423N', 'D450E', 'D450H', 'D473G', 'D473H', 'D493A', 'D513Y', 'D520N', 'D537E', 'D537Y', 'D544H', 'D557H', 'D560Y', 'D572A', 'D579del', 'D587H', 'D594A', 'D594E', 'D594G', 'D594N', 'D594V', 'D594Y', 'D595V', 'D600_L601insFREYEYD', 'D603G', 'D603N', 'D609E', 'D60N', 'D617G', 'D61N', 'D61Y', 'D631A', 'D631G', 'D641G', 'D641N', 'D646Y', 'D65N', 'D661V', 'D661Y', 'D67N', 'D67Y', 'D717V', 'D737N', 'D74N', 'D74Y', 'D761Y', 'D769A', 'D769H', 'D769Y', 'D770_N771insD', 'D770_N771insNPG', 'D770_N771insVDSVDNP', 'D770_P772dup', 'D806H', 'D808N', 'D814V', 'D816A', 'D816E', 'D816F', 'D816G', 'D816H', 'D816N', 'D816V', 'D816Y', 'D820A', 'D820E', 'D820G', 'D821N', 'D835A', 'D835E', 'D835H', 'D835N', 'D835Y', 'D835del', 'D837N', 'D839G', 'D83V', 'D842I', 'D842V', 'D842Y', 'D842_H845del', 'D842_M844del', 'D845A', 'D846Y', 'D84G', 'D84H', 'D84N', 'D84V', 'D84Y', 'D86N', 'D887N', 'D927G', 'D92A', 'D92E', 'D92G', 'D92H', 'D92N', 'D92V', 'D935N', 'D96N', 'DNA binding domain deletions', 'DNA binding domain insertions', 'DNA binding domain missense mutations', 'DNMT3B7', 'Deletion', 'Delta-NTRK1 Fusion', 'E1021K', 'E102_I103del', 'E1051K', 'E1060A', 'E106G', 'E1071W', 'E1099K', 'E116K', 'E120Q', 'E1210K', 'E1214K', 'E124Q', 'E1250K', 'E127G', 'E1282V', 'E1286V', 'E1322*', 'E1346K', 'E1356G', 'E135K', 'E137K', 'E1384K', 'E139D', 'E14*', 'E142D', 'E143K', 'E144K', 'E1552del', 'E157G', 'E1586G', 'E160*', 'E161del', 'E1644G', 'E1660G', 'E1682K', 'E1682V', 'E168D', 'E1705A', 'E1705K', 'E172K', 'E1735K', 'E1794D', 'E1799K', 'E17K', 'E1836K', 'E190K', 'E1935G', 'E1978*', 'E2014K', 'E203K', 'E207K', 'E218*', 'E219K', 'E221Q', 'E239A', 'E23fs', 'E2419K', 'E255K', 'E255V', 'E258V', 'E265K', 'E2663V', 'E267G', 'E275K', 'E279K', 'E281K', 'E2856A', 'E285K', 'E285V', 'E286K', 'E29V', 'E3002K', 'E311_K312del', 'E317K', 'E31K', 'E321G', 'E321K', 'E322K', 'E326L', 'E330G', 'E330K', 'E35*', 'E355A', 'E362H', 'E365K', 'E380Q', 'E40K', 'E40L', 'E40N', 'E40Q', 'E40T', 'E40W', 'E41A', 'E439del', 'E452K', 'E453A', 'E459K', 'E462G', 'E466K', 'E475K', 'E483*', 'E490K', 'E49K', 'E501G', 'E501K', 'E50K', 'E518A', 'E518K', 'E525K', 'E541K', 'E542G', 'E542K', 'E542Q', 'E542V', 'E545A', 'E545G', 'E545K', 'E545Q', 'E552K', 'E554_I571del', 'E554_K558del', 'E554_V559del', 'E563K', 'E565G', 'E571K', 'E579K', 'E580*', 'E586K', 'E598_Y599insDVDFREYE', 'E598_Y599insGLVQVTGSSDNEYFYVDFREYE', 'E5K', 'E606G', 'E60L', 'E612_F613insGYVDFREYEYDLKWEFRPRENLEF', 'E622D', 'E622Q', 'E626K', 'E627D', 'E632_L633del', 'E633K', 'E636K', 'E664K', 'E685V', 'E69G', 'E69K', 'E709A', 'E709G', 'E709K', 'E709Q', 'E709V', 'E709_T710delinsD', 'E70K', 'E717K', 'E719G', 'E719K', 'E731K', 'E734Q', 'E746G', 'E746Q', 'E746V', 'E746_A750del', 'E746_A750delinsQ', 'E746_S752delinsA', 'E746_S752delinsI', 'E746_T751delinsA', 'E746_T751delinsVA', 'E746_T751insIP', 'E758G', 'E75G', 'E768D', 'E76A', 'E76K', 'E77K', 'E78K', 'E79K', 'E79Q', 'E804G', 'E812K', 'E81K', 'E82D', 'E82G', 'E82V', 'E836K', 'E839K', 'E846K', 'E866K', 'E868G', 'E872K', 'E875G', 'E884K', 'E88K', 'E921K', 'E946*', 'E996K', 'EBF1-PDGFRB Fusion', 'EGFR-KDD', 'EGFR-PURB Fusion', 'EGFR-RAD51 Fusion', 'EGFRvII', 'EGFRvIII', 'EGFRvIV', 'EGFRvV', 'EP300-MLL Fusion', 'EP300-MOZ Fusion', 'ERLIN2?FGFR1 Fusion', 'ESR1-CCDC170 Fusion', 'ESR1-YAP1 Fusion', 'ESRP1-RAF1 Fusion', 'ETV6-FLT3 Fusion', 'ETV6-NTRK3 Fusion', 'ETV6-PDGFRA Fusion', 'ETV6-PDGFRB Fusion', 'EWSR1-ATF1 Fusion', 'EWSR1-CREB1 Fusion', 'EWSR1-DDIT3 Fusion', 'EWSR1-ERG Fusion', 'EWSR1-ETV1 Fusion', 'EWSR1-ETV4 Fusion', 'EWSR1-FEV Fusion', 'EWSR1-FLI1 Fusion', 'EWSR1-NR4A3 Fusion', 'EWSR1-WT1 Fusion', 'EWSR1-YY1 Fusion', 'EZR-ERBB4 Fusion', 'EZR-ROS1 Fusion', 'Epigenetic Silencing', 'Exon 1 mutations', 'Exon 11 mutations', 'Exon 13 deletion', 'Exon 19 deletion', 'Exon 19 deletion/insertion', 'Exon 19 insertion', 'Exon 2 mutations', 'Exon 20 insertion', 'Exon 20 insertions', 'Exon 20 insertions/deletions', 'Exon 9 mutations', 'F102C', 'F1061W', 'F1088Lfs*5', 'F1088Sfs*2', 'F1174I', 'F1174L', 'F119S', 'F1200I', 'F123I', 'F1245C', 'F1245V', 'F129L', 'F12L', 'F133L', 'F133V', 'F134Y', 'F1524V', 'F154L', 'F156L', 'F158C', 'F1592S', 'F161L', 'F1662S', 'F1695L', 'F1704S', 'F170I', 'F1734S', 'F1761I', 'F1761S', 'F1888I', 'F1888L', 'F1888V', 'F2108L', 'F212Y', 'F21A', 'F241S', 'F248S', 'F28L', 'F311L', 'F317L', 'F31I', 'F328V', 'F341C', 'F341V', 'F346V', 'F347L', 'F351L', 'F354L', 'F359C', 'F367S', 'F384L', 'F384V', 'F384Y', 'F400I', 'F460L', 'F468C', 'F522C', 'F537_K539delinsL', 'F53C', 'F53L', 'F53S', 'F568fs', 'F57C', 'F57L', 'F57V', 'F590G', 'F594L', 'F594_R595insSDNEYFYVDF', 'F615S', 'F691L', 'F71I', 'F74S', 'F79S', 'F808L', 'F81V', 'F876L', 'F877L', 'F893L', 'F958S', 'F958V', 'FAM131B-BRAF Fusion', 'FGFR1-TACC1 Fusion', 'FGFR1OP1-FGFR1 Fusion', 'FGFR2-AHCYL1 Fusion', 'FGFR2-BICC1 Fusion', 'FGFR2-CCDC6 Fusion', 'FGFR2-FAM76A Fusion', 'FGFR2-KIAA1967 Fusion', 'FGFR2-MGEA5 Fusion', 'FGFR2-TACC3 Fusion', 'FGFR2?PPHLN1 Fusion', 'FGFR3 - BAIAP2L1 Fusion', 'FIG-ROS1 Fusion', 'FLT3 internal tandem duplications', 'FUS-ERG Fusion', 'Fusions', 'G101S', 'G101W', 'G1035S', 'G106D', 'G106V', 'G106_R108del', 'G1079D', 'G1123D', 'G1123S', 'G1125A', 'G1128A', 'G1128S', 'G114R', 'G116S', 'G118D', 'G1194D', 'G1201E', 'G1202R', 'G1232D', 'G123R', 'G123S', 'G1269A', 'G1269S', 'G127E', 'G127N', 'G1286R', 'G128V', 'G129A', 'G129E', 'G129R', 'G12A', 'G12C', 'G12D', 'G12F', 'G12R', 'G12S', 'G12V', 'G13C', 'G13D', 'G13E', 'G13R', 'G13V', 'G14V', 'G1529R', 'G1567D', 'G1596V', 'G161V', 'G163D', 'G1656D', 'G165E', 'G165R', 'G165V', 'G1706A', 'G1706E', 'G1738E', 'G1738R', 'G1743R', 'G1763V', 'G1770V', 'G1788D', 'G1788V', 'G17A', 'G17E', 'G17V', 'G1803A', 'G1809K', 'G1809R', 'G186R', 'G1971E', 'G199R', 'G2032R', 'G207E', 'G20E', 'G2101A', 'G216R', 'G2274V', 'G23D', 'G2430A', 'G244D', 'G244R', 'G244S', 'G245A', 'G245D', 'G245S', 'G248V', 'G250E', 'G251C', 'G253C', 'G264S', 'G266E', 'G266R', 'G271E', 'G2748D', 'G284R', 'G305R', 'G305W', 'G309A', 'G309E', 'G311D', 'G31A', 'G31R', 'G31V', 'G322S', 'G325A', 'G325R', 'G328E', 'G328V', 'G333S', 'G334R', 'G34E', 'G34V', 'G356A', 'G35A', 'G35R', 'G35V', 'G370C', 'G373R', 'G375C', 'G375P', 'G376R', 'G380R', 'G382D', 'G39E', 'G419V', 'G423R', 'G423V', 'G42R', 'G430C', 'G434R', 'G44S', 'G464A', 'G464E', 'G464R', 'G464V', 'G465E', 'G466A', 'G466E', 'G466R', 'G466V', 'G469A', 'G469E', 'G469V', 'G469del', 'G478C', 'G480W', 'G503V', 'G505S', 'G508S', 'G52R', 'G591V', 'G596C', 'G596R', 'G596V', 'G602R', 'G60D', 'G60E', 'G60R', 'G623R', 'G637W', 'G660D', 'G665A', 'G67R', 'G67S', 'G67W', 'G697C', 'G701S', 'G70D', 'G719A', 'G719C', 'G719D', 'G719S', 'G724S', 'G735S', 'G751R', 'G75R', 'G774V', 'G776S', 'G776_V777insYVMA', 'G776delinsLC', 'G776delinsVC', 'G778_P780dup', 'G785S', 'G796S', 'G810S', 'G81D', 'G81R', 'G81S', 'G829R', 'G831E', 'G853D', 'G857A', 'G857E', 'G85R', 'G863D', 'G863S', 'G87R', 'G881D', 'G909R', 'G914R', 'G936R', 'G93W', 'GIT2-PDGFRB Fusion', 'GOLGA4-PDGFRB Fusion', 'GPIAP1-PDGFRB Fusion', 'H1047L', 'H1047R', 'H1047Y', 'H105R', 'H1094L', 'H1094R', 'H1094Y', 'H1106D', 'H114Y', 'H115N', 'H115R', 'H118P', 'H123D', 'H123Q', 'H123Y', 'H132Y', 'H133Q', 'H1382Y', 'H1402Y', 'H1421Y', 'H1620R', 'H1686Q', 'H1686R', 'H168N', 'H168R', 'H1746N', 'H1746Q', 'H174R', 'H179L', 'H179N', 'H179Q', 'H179R', 'H179Y', 'H1805P', 'H1862L', 'H1904R', 'H1918Y', 'H191D', 'H193N', 'H193P', 'H1966Y', 'H206D', 'H2074N', 'H214N', 'H214Q', 'H214R', 'H231R', 'H233N', 'H2428Q', 'H284N', 'H284P', 'H297N', 'H355M', 'H36P', 'H396P', 'H396R', 'H398Y', 'H410R', 'H412Y', 'H41R', 'H492R', 'H538Q', 'H570R', 'H597Y', 'H61D', 'H61R', 'H643D', 'H650Q', 'H65Y', 'H662Q', 'H662R', 'H68R', 'H68Y', 'H694R', 'H697Y', 'H701P', 'H773L', 'H773Y', 'H773_V774insH', 'H773dup', 'H773insLGNP', 'H78Q', 'H83N', 'H83Y', 'H845Y', 'H845_N848delinsP', 'H870R', 'H875Y', 'H876Q', 'H878Y', 'H93D', 'H93Q', 'H93R', 'H94Y', 'HIP1-PDGFRB Fusion', 'HMGA2-RAD51B Fusion', 'Hypermethylation', 'I1018F', 'I1018W', 'I103N', 'I111A', 'I111N', 'I111P', 'I111R', 'I1170N', 'I1170S', 'I1171N', 'I1171T', 'I1183T', 'I122L', 'I122S', 'I122V', 'I1250T', 'I1307K', 'I130M', 'I1349T', 'I151S', 'I157T', 'I15T', 'I1616N', 'I1616T', 'I162M', 'I1680N', 'I168F', 'I1766S', 'I1807S', 'I18V', 'I195T', 'I204T', 'I219V', 'I21V', 'I2285V', 'I2500F', 'I2500M', 'I251S', 'I255F', 'I2627F', 'I2675V', 'I26N', 'I279P', 'I289M', 'I28T', 'I290A', 'I290R', 'I31M', 'I326V', 'I32del', 'I33del', 'I347M', 'I35S', 'I391M', 'I408V', 'I42V', 'I448V', 'I463S', 'I47F', 'I491M', 'I49S', 'I538V', 'I559_D560insDKRMNS', 'I562M', 'I563_L576del', 'I638F', 'I642V', 'I653T', 'I668V', 'I68K', 'I744_K745delinsKIPVAI', 'I767M', 'I834V', 'I836del', 'I843_D846del', 'I843del', 'I852M', 'I853T', 'I867S', 'I89N', 'I89T', 'I90T', 'I99M', 'IGH-BCL2 Fusion', 'IGH-FGFR3 Fusion', 'IGH-MYC Fusion', 'IGH-NKX2 Fusion', 'IGK-MYC Fusion', 'IGL-MYC Fusion', 'K101M', 'K1026E', 'K1062M', 'K111E', 'K111N', 'K117N', 'K117R', 'K11R', 'K120E', 'K120M', 'K120N', 'K125E', 'K125L', 'K125M', 'K125R', 'K128N', 'K128Q', 'K128T', 'K1299E', 'K129E', 'K1434I', 'K1436Q', 'K1452N', 'K147E', 'K162D', 'K1690N', 'K1702E', 'K179M', 'K181M', 'K189N', 'K218T', 'K22A', 'K2411T', 'K2472T', 'K2729N', 'K288Q', 'K289E', 'K28M', 'K291E', 'K291Q', 'K292I', 'K292T', 'K2950N', 'K310R', 'K320E', 'K335I', 'K341A', 'K342N', 'K373E', 'K375A', 'K376N', 'K379E', 'K382E', 'K38N', 'K398A', 'K39N', 'K409Q', 'K413E', 'K420A', 'K428A', 'K442Nfs*', 'K459_S460delinsN', 'K45N', 'K45Q', 'K45T', 'K467T', 'K483E', 'K483M', 'K499E', 'K4E', 'K507A', 'K507Q', 'K508M', 'K509I', 'K50E', 'K50L', 'K513R', 'K517R', 'K525E', 'K526E', 'K52R', 'K539L', 'K550_K558del', 'K550_V555delinsI', 'K550_W557del', 'K558N', 'K558_E562del', 'K558_V559del', 'K558delinsNP', 'K56N', 'K575M', 'K57E', 'K57T', 'K590R', 'K59del', 'K5N', 'K601E', 'K601N', 'K601Q', 'K603Q', 'K607T', 'K618T', 'K62R', 'K641N', 'K641R', 'K642E', 'K648N', 'K650E', 'K650M', 'K650N', 'K650Q', 'K650R', 'K650T', 'K656E', 'K659E', 'K659N', 'K65M', 'K666M', 'K666N', 'K666R', 'K666T', 'K700E', 'K700R', 'K745M', 'K745_A750del', 'K753A', 'K753E', 'K753M', 'K765R', 'K78A', 'K78I', 'K79E', 'K806A', 'K82T', 'K830R', 'K83E', 'K83N', 'K935I', 'K975E', 'K97M', 'KANK1-PDGFRB Fusion', 'KDELR2-ROS1 Fusion', 'KDR-PDGFRA Fusion', 'KIAA1509-PDGFRB Fusion', 'KIAA1549-BRAF Fusion', 'KIF5B-ALK Fusion', 'KIF5B-PDGFRA Fusion', 'KIF5B-RET Fusion', 'L1019V', 'L1026F', 'L108P', 'L1122V', 'L112P', 'L112R', 'L1152P', 'L1152R', 'L115R', 'L117P', 'L118P', 'L118R', 'L1195V', 'L1196M', 'L1196Q', 'L1198F', 'L1198P', 'L1204F', 'L1224F', 'L122R', 'L1240V', 'L1267S', 'L1273F', 'L128F', 'L1301R', 'L1407P', 'L142P', 'L1433S', 'L145R', 'L1460P', 'L146R', 'L147F', 'L1574P', 'L1584R', 'L158P', 'L158Q', 'L158V', 'L1593P', 'L1596H', 'L1600P', 'L1657P', 'L165P', 'L1678P', 'L1705P', 'L1764P', 'L1780P', 'L180P', 'L181P', 'L1844R', 'L1854P', 'L188Q', 'L188V', 'L1904V', 'L191H', 'L193F', 'L1947R', 'L1951R', 'L19F', 'L202F', 'L209F', 'L2106P', 'L210R', 'L221R', 'L2230V', 'L225LI', 'L230P', 'L232LI', 'L234fs', 'L2396F', 'L239R', 'L23F', 'L2427R', 'L2431P', 'L246V', 'L248V', 'L251P', 'L265P', 'L2721H', 'L272F', 'L274P', 'L283_D294del', 'L2865V', 'L28P', 'L30F', 'L321A', 'L325F', 'L32P', 'L330R', 'L344P', 'L344R', 'L345Q', 'L348F', 'L348S', 'L358R', 'L362R', 'L370fs', 'L37P', 'L384M', 'L387M', 'L388M', 'L390F', 'L399V', 'L410R', 'L412F', 'L424I', 'L424V', 'L43V', 'L448P', 'L455M', 'L461V', 'L469V', 'L46F', 'L46R', 'L481F', 'L485F', 'L485_P490del', 'L485_P490delinsF', 'L485_P490delinsY', 'L485_Q494del', 'L493P', 'L493V', 'L49H', 'L507P', 'L52F', 'L52R', 'L535P', 'L536H', 'L536P', 'L536Q', 'L536R', 'L550P', 'L559R', 'L576P', 'L576del', 'L57V', 'L57del', 'L582F', 'L584F', 'L585I', 'L597Q', 'L597R', 'L597S', 'L597V', 'L601_K602insREYEYDL', 'L607I', 'L611V', 'L611_E612insCSSDNEYFYVDFREYEYDLKWEFPRENL', 'L617F', 'L617M', 'L622H', 'L63F', 'L63P', 'L63V', 'L64P', 'L668F', 'L67P', 'L692F', 'L702H', 'L703P', 'L704N', 'L708P', 'L726F', 'L726I', 'L747F', 'L747P', 'L747S', 'L747V', 'L747_A750del', 'L747_A750delinsP', 'L747_E749del', 'L747_P753del', 'L747_P753delinsS', 'L747_T751del', 'L747_T751delinsP', 'L749P', 'L755P', 'L755S', 'L770V', 'L783F', 'L785F', 'L78T', 'L790F', 'L792R', 'L826P', 'L82P', 'L830R', 'L833V', 'L838P', 'L838V', 'L844R', 'L858M', 'L858Q', 'L858R', 'L861F', 'L861P', 'L861Q', 'L861R', 'L866M', 'L910P', 'L915M', 'L929S', 'L97R', 'L983F', 'L996F', 'LIMA1-ROS1 Fusion', 'LMNA-NTRK1 Fusion', 'LRIG3-ROS1 Fusion', 'M1008I', 'M1043I', 'M1043V', 'M117I', 'M117V', 'M1250T', 'M1255I', 'M1293A', 'M1328I', 'M133T', 'M134L', 'M136R', 'M1400V', 'M1411T', 'M160V', 'M1628V', 'M1652K', 'M1652T', 'M1663K', 'M1689R', 'M1689T', 'M1775E', 'M1775K', 'M1775V', 'M1783I', 'M1783L', 'M1783T', 'M18K', 'M18T', 'M199del', 'M1K', 'M1R', 'M1T', 'M1V', 'M1_E165DEL', 'M224R', 'M2327I', 'M232T', 'M237K', 'M244V', 'M253K', 'M2676T', 'M269R', 'M299I', 'M351T', 'M35R', 'M374V', 'M37K', 'M391R', 'M504V', 'M535I', 'M53I', 'M541L', 'M552_K558del', 'M552_W557del', 'M587V', 'M664I', 'M713I', 'M737I', 'M774_A775insAYVM', 'M784V', 'M887I', 'M90I', 'M918V', 'M980T', 'MAGI3-AKT3 Fusion', 'MIR143-NOTCH1 Fusion', 'MKRN1-BRAF Fusion', 'MLL-TET1 Fusion', 'MPRIP-NTRK1 Fusion', 'MSN-ROS1 Fusion', 'MYC-nick', 'N1026S', 'N1044K', 'N1068fs*4', 'N1100Y', 'N1102Y', 'N1125I', 'N116H', 'N1178H', 'N1228D', 'N1236K', 'N126D', 'N132K', 'N1333Gfs*', 'N1387A', 'N1647K', 'N1730S', 'N1819S', 'N1819Y', 'N181S', 'N1878K', 'N198_F199delinsI', 'N2113S', 'N217I', 'N219D', 'N233Y', 'N234I', 'N235D', 'N238S', 'N239S', 'N2436I', 'N276S', 'N2875K', 'N296I', 'N319D', 'N319T', 'N334K', 'N345I', 'N372H', 'N375S', 'N382H', 'N387K', 'N387P', 'N454D', 'N45S', 'N463S', 'N480del', 'N486_P490del', 'N48K', 'N505I', 'N510K', 'N517S', 'N535K', 'N53A', 'N540S', 'N542_E543del', 'N546K', 'N549K', 'N549S', 'N549T', 'N550H', 'N551K', 'N553S', 'N561D', 'N564D', 'N564K', 'N564_Y578del', 'N56T', 'N581D', 'N581S', 'N581Y', 'N588D', 'N653H', 'N655K', 'N659K', 'N659R', 'N659S', 'N676D', 'N676K', 'N676S', 'N71I', 'N71K', 'N71S', 'N771_H773dup', 'N78S', 'N810Y', 'N81Y', 'N822H', 'N822I', 'N822Y', 'N826S', 'N826Y', 'N82K', 'N841I', 'N848K', 'N857S', 'N870S', 'N987I', 'NFASC-NTRK1 Fusion', 'NIN-PDGFRB Fusion', 'NPM-ALK Fusion', 'NSD1-NUP98 Fusion', 'Overexpression', 'P106L', 'P1139S', 'P114L', 'P114S', 'P123M', 'P124L', 'P124Q', 'P124S', 'P130S', 'P1311T', 'P133T', 'P142H', 'P1502L', 'P151A', 'P151H', 'P151S', 'P152L', 'P153H', 'P1614S', 'P1637L', 'P1675L', 'P168T', 'P169H', 'P1709L', 'P173S', 'P1749R', 'P1771L', 'P1771R', 'P1776S', 'P179L', 'P179R', 'P1806A', 'P1812R', 'P1812S', 'P1819S', 'P1856S', 'P1856T', 'P1859R', 'P186S', 'P214L', 'P219S', 'P2273S', 'P2412T', 'P2415del', 'P2417A', 'P2476L', 'P250L', 'P253R', 'P25L', 'P261L', 'P262H', 'P26S', 'P278A', 'P278L', 'P278R', 'P278S', 'P284L', 'P286H', 'P286R', 'P287A', 'P287S', 'P287T', 'P291Qfs*51', 'P29L', 'P29S', 'P305L', 'P306H', 'P316L', 'P326L', 'P336S', 'P33S', 'P34L', 'P34R', 'P375S', 'P380R', 'P387S', 'P38L', 'P395A', 'P40T', 'P417A', 'P428L', 'P42T', 'P4309A', 'P449T', 'P449_L455del', 'P44A', 'P44L', 'P463L', 'P47A', 'P47S', 'P480L', 'P48L', 'P48R', 'P48T', 'P490_Q494del', 'P491S', 'P525L', 'P531A', 'P531L', 'P531S', 'P539R', 'P551_E554del', 'P551_V555del', 'P551_W557delinsL', 'P573_D579del', 'P577S', 'P577_D579del', 'P577_W582delinsPYD', 'P596L', 'P648L', 'P648S', 'P654L', 'P655R', 'P691S', 'P704S', 'P70R', 'P753S', 'P780L', 'P798L', 'P81L', 'P81T', 'P838L', 'P83L', 'P848L', 'P85L', 'P86H', 'P94A', 'P95H', 'P95L', 'P95S', 'P96Q', 'PAPSS1-BRAF Fusion', 'PAX5-JAK2 Fusion', 'PAX8-PPAR? Fusion', 'PCM1-JAK2 Fusion', 'PDE4DIP-PDGFRB Fusion', 'PRKG2-PDGFRB Fusion', 'PTPRZ1-MET Fusion', 'PVT1-MYC Fusion', 'Promoter Hypermethylation', 'Promoter Mutations', 'Q1064R', 'Q110R', 'Q120E', 'Q12Y', 'Q1396R', 'Q144R', 'Q145H', 'Q1500P', 'Q1503P', 'Q1554H', 'Q157P', 'Q164R', 'Q1756C', 'Q1756fs', 'Q1785H', 'Q1811R', 'Q1826H', 'Q201H', 'Q209L', 'Q2223K', 'Q227L', 'Q227R', 'Q22E', 'Q22K', 'Q22R', 'Q233*', 'Q2384K', 'Q2405Rfs*17', 'Q2416*', 'Q249E', 'Q252H', 'Q276*', 'Q2858R', 'Q324L', 'Q331H', 'Q331R', 'Q337*', 'Q347_A348del', 'Q367P', 'Q395*', 'Q429*', 'Q472H', 'Q477E', 'Q50*', 'Q50P', 'Q510E', 'Q531*', 'Q538P', 'Q545A', 'Q546E', 'Q546K', 'Q546P', 'Q546R', 'Q556_K558del', 'Q56P', 'Q56_V60del', 'Q579R', 'Q579_L581del', 'Q58L', 'Q58_E62del', 'Q58_Q59insL', 'Q59E', 'Q60K', 'Q61H', 'Q61K', 'Q61L', 'Q61R', 'Q635E', 'Q689R', 'Q72L', 'Q79E', 'Q79K', 'Q79R', 'Q809R', 'Q816*', 'Q96P', 'Q984K', 'R100*', 'R100A', 'R100T', 'R1040L', 'R1060H', 'R1076C', 'R1088C', 'R108H', 'R108K', 'R109*', 'R1093*', 'R1095H', 'R1097H', 'R110L', 'R110P', 'R112G', 'R115L', 'R117G', 'R1189*', 'R1190W', 'R1192P', 'R11K', 'R1200W', 'R1204G', 'R1204W', 'R1209W', 'R121Q', 'R1231Q', 'R1262A', 'R1275L', 'R1276P', 'R1276Q', 'R130*', 'R130A', 'R130G', 'R130K', 'R130L', 'R132C', 'R132G', 'R132H', 'R132Q', 'R133*', 'R133H', 'R1343L', 'R134Q', 'R1391G', 'R1391S', 'R139G', 'R140Q', 'R143Q', 'R1446C', 'R1446H', 'R1464*', 'R1515H', 'R154W', 'R1563S', 'R156C', 'R156H', 'R1589H', 'R1589P', 'R158C', 'R158H', 'R158L', 'R1594Q', 'R1598P', 'R159G', 'R15K', 'R15S', 'R1608S', 'R161G', 'R162*', 'R1625C', 'R1627', 'R164Q', 'R166Q', 'R167Q', 'R167W', 'R1699L', 'R1699Q', 'R1699W', 'R170Q', 'R170W', 'R1726G', 'R172G', 'R172K', 'R172M', 'R172S', 'R173C', 'R173H', 'R173P', 'R174*', 'R174C', 'R1751P', 'R1751Q', 'R1753T', 'R1758G', 'R175C', 'R175H', 'R175L', 'R177*', 'R177Pfs*126', 'R177Q', 'R181C', 'R181H', 'R181L', 'R182W', 'R1835P', 'R183G', 'R183P', 'R183Q', 'R1896M', 'R18H', 'R200W', 'R201C', 'R201H', 'R201Q', 'R201W', 'R202S', 'R203C', 'R206H', 'R20Q', 'R213Q', 'R217C', 'R228K', 'R2304C', 'R2318Q', 'R2336H', 'R2336P', 'R23A', 'R2418G', 'R2430M', 'R243A', 'R2450*', 'R246K', 'R248C', 'R248K', 'R248L', 'R248Q', 'R248W', 'R249M', 'R249S', 'R249W', 'R24C', 'R24P', 'R2502C', 'R2502H', 'R2505*', 'R2505Q', 'R251Q', 'R2520Q', 'R258C', 'R258H', 'R2602T', 'R262T', 'R264C', 'R2659K', 'R2659T', 'R265C', 'R265S', 'R267P', 'R267Q', 'R268A', 'R272C', 'R273C', 'R273G', 'R273H', 'R273L', 'R276W', 'R2784W', 'R280A', 'R280K', 'R280T', 'R282Q', 'R282W', 'R283Q', 'R2842C', 'R2842H', 'R287A', 'R2888C', 'R290G', 'R290H', 'R292A', 'R2973C', 'R304*', 'R304W', 'R3052Q', 'R3052W', 'R306S', 'R310H', 'R315*', 'R320Q', 'R321Q', 'R324L', 'R331P', 'R337C', 'R337H', 'R337L', 'R337P', 'R339W', 'R342P', 'R342Q', 'R342W', 'R348*', 'R361C', 'R368C', 'R369Q', 'R369W', 'R370C', 'R373H', 'R373Q', 'R378A', 'R380A', 'R383*', 'R389*', 'R38H', 'R415G', 'R418G', 'R420H', 'R420Q', 'R421*', 'R428A', 'R441P', 'R453C', 'R462C', 'R462E', 'R462I', 'R465H', 'R470C', 'R479H', 'R479L', 'R479Q', 'R47Q', 'R481G', 'R482Q', 'R487*', 'R487Q', 'R487W', 'R48W', 'R496C', 'R496H', 'R497H', 'R498L', 'R49C', 'R49L', 'R505C', 'R505L', 'R506_K507insVLR', 'R514C', 'R515G', 'R537P', 'R544S', 'R544W', 'R552G', 'R552S', 'R561C', 'R571W', 'R574fs', 'R583A', 'R592H', 'R5Q', 'R601Q', 'R611Q', 'R611W', 'R625C', 'R625D', 'R625G', 'R625H', 'R625L', 'R631C', 'R634W', 'R640G', 'R647A', 'R64P', 'R658Q', 'R659*', 'R659L', 'R659P', 'R661W', 'R669C', 'R669G', 'R671Q', 'R678Q', 'R680*', 'R683G', 'R683K', 'R683S', 'R683T', 'R689Q', 'R689S', 'R698W', 'R69C', 'R711*', 'R715G', 'R71G', 'R724H', 'R725C', 'R732Q', 'R748G', 'R755S', 'R776C', 'R776H', 'R796G', 'R79P', 'R802*', 'R80C', 'R80L', 'R80P', 'R812A', 'R82P', 'R833C', 'R834Q', 'R836C', 'R838Q', 'R841K', 'R841Q', 'R844H', 'R866C', 'R873Q', 'R879C', 'R87L', 'R87P', 'R882C', 'R882L', 'R886W', 'R88Q', 'R897Q', 'R905G', 'R905Q', 'R905W', 'R922*', 'R93Q', 'R93W', 'R957Q', 'R961W', 'R970C', 'R976H', 'R978*', 'R987W', 'R99P', 'RANBP1-ALK Fusion', 'RANBP2-ALK Fusion', 'RET-CCDC6 Fusion', 'ROS1-CD74 Fusion', 'RUNX1-EVI1 Fusion', 'RUNX1-RUNX1T1 Fusion', 'S1002R', 'S100F', 'S1025C', 'S102F', 'S1036P', 'S1039F', 'S1088F', 'S10N', 'S1101N', 'S1140G', 'S1164I', 'S1172L', 'S119N', 'S1206C', 'S1206R', 'S1206Y', 'S121A', 'S121C', 'S123T', 'S1290A', 'S1297del', 'S1301R', 'S1303N', 'S1424C', 'S142I', 'S1463F', 'S1473P', 'S1486C', 'S1497A', 'S1498N', 'S1512I', 'S151A', 'S153R', 'S1613C', 'S1613G', 'S1651F', 'S1651P', 'S1653F', 'S1653P', 'S1655F', 'S1670A', 'S170N', 'S170R', 'S1715C', 'S1715N', 'S1715R', 'S1722F', 'S1733F', 'S1841A', 'S1841N', 'S1841R', 'S186Y', 'S196N', 'S1986F', 'S1986Y', 'S206C', 'S214A', 'S214C', 'S214T', 'S215C', 'S215G', 'S217A', 'S217C', 'S217T', 'S2215F', 'S2215T', 'S2215Y', 'S222D', 'S226D', 'S227A', 'S227F', 'S23R', 'S240R', 'S241F', 'S241L', 'S241T', 'S241Y', 'S243C', 'S243N', 'S247F', 'S247Y', 'S2483N', 'S249C', 'S24F', 'S250P', 'S252W', 'S256F', 'S256W', 'S257W', 'S259A', 'S259F', 'S259P', 'S2670L', 'S267_D273dup', 'S270L', 'S273C', 'S276L', 'S279Y', 'S297F', 'S2G', 'S308A', 'S310F', 'S310Y', 'S31R', 'S326R', 'S32I', 'S330A', 'S335C', 'S33A', 'S33C', 'S33F', 'S33Y', 'S34F', 'S34Y', 'S35Q', 'S362L', 'S3660L', 'S36Y', 'S371C', 'S376F', 'S37A', 'S37C', 'S37F', 'S37Y', 'S384F', 'S387N', 'S387Y', 'S425C', 'S427G', 'S428F', 'S432L', 'S451E', 'S451F', 'S453fs*', 'S459F', 'S459del', 'S45A', 'S45F', 'S45P', 'S45Y', 'S45del', 'S462Y', 'S463P', 'S464L', 'S46I', 'S46N', 'S476I', 'S478P', 'S492R', 'S4F', 'S4P', 'S501_A502dup', 'S502T', 'S505N', 'S562L', 'S566_E571delinsR', 'S567L', 'S56I', 'S584L', 'S59R', 'S614R', 'S645C', 'S646F', 'S653C', 'S65A', 'S65L', 'S65N', 'S65W', 'S68W', 'S703I', 'S70fsX93', 'S723F', 'S729C', 'S72R', 'S746fs', 'S752_I759del', 'S760A', 'S765P', 'S768I', 'S768_D770dup', 'S768_V769insVAS', 'S783P', 'S784F', 'S786F', 'S80R', 'S840_N841insGS', 'S846I', 'S858R', 'S860L', 'S869L', 'S891A', 'S904F', 'S921R', 'SDC4-ROS1 Fusion', 'SEC16A1-NOTCH1 Fusion', 'SLC34A2-ROS1 Fusion', 'SND1-BRAF Fusion', 'SPAG9-JAK2 Fusion', 'SPTBN1-PDGFRB Fusion', 'SRGAP3-RAF1 Fusion', 'SSBP2-JAK2 Fusion', 'STRN-ALK Fusion', 'STRN-PDGFRA Fusion', 'T1025S', 'T1087I', 'T1151M', 'T1151dup', 'T117M', 'T1203K', 'T1219I', 'T123A', 'T131A', 'T131I', 'T131L', 'T131S', 'T1324N', 'T1343I', 'T1354M', 'T1365M', 'T1481fs', 'T150I', 'T160I', 'T1623I', 'T167A', 'T1685A', 'T1685I', 'T1691I', 'T1691K', 'T1700A', 'T1720A', 'T1720I', 'T17A', 'T1852S', 'T195I', 'T196A', 'T1977I', 'T1977K', 'T1977R', 'T1977S', 'T19N', 'T205A', 'T2250A', 'T241M', 'T241P', 'T244R', 'T244_I245insCPT', 'T24A', 'T263P', 'T2681R', 'T2722R', 'T283A', 'T286A', 'T286I', 'T28I', 'T315I', 'T319del', 'T3211K', 'T3349A', 'T338I', 'T340A', 'T341P', 'T34_A289del', 'T352M', 'T37A', 'T37R', 'T389K', 'T401I', 'T413N', 'T417I', 'T417_D419delinsI', 'T417_D419delinsRG', 'T41A', 'T468M', 'T47D', 'T485K', 'T488_P492del', 'T507K', 'T50I', 'T529I', 'T529M', 'T529N', 'T574_R588delinsL', 'T574insTQLPYD', 'T576del', 'T582P', 'T58I', 'T599I', 'T599R', 'T599_V600insEAT', 'T599_V600insV', 'T599dup', 'T605M', 'T630I', 'T654I', 'T654M', 'T670I', 'T674I', 'T710A', 'T725M', 'T730S', 'T733I', 'T73I', 'T74P', 'T75M', 'T771R', 'T779fs', 'T77M', 'T77P', 'T783A', 'T785A', 'T790M', 'T798I', 'T798M', 'T80A', 'T80K', 'T80R', 'T82A', 'T844M', 'T875N', 'T878A', 'T878S', 'T910M', 'T992I', 'TEL-JAK2 Fusion', 'TEL-RUNX1 Fusion', 'TFG-NTRK1 Fusion', 'TFG-ROS1 Fusion', 'TGFBR1*6A', 'TMPRSS2-ERG Fusion', 'TMPRSS2-ETV1 Fusion', 'TMPRSS2-ETV4 Fusion', 'TMPRSS2-ETV5 Fusion', 'TP53BP1-PDGFRB Fusion', 'TPM3-NTRK1 Fusion', 'TPR-NTRK1 Fusion', 'TRA-NKX2-1 Fusion', 'TRB-NKX2-1 Fusion', 'TRIM24-BRAF Fusion', 'TRKAIII Splice Variant', 'Truncating Mutations', 'Truncating Mutations Upstream of Transactivation Domain', 'Truncating Mutations in the PEST Domain', 'V104M', 'V1070E', 'V1075F', 'V1075Yfs*2', 'V1092I', 'V109G', 'V1180L', 'V1188L', 'V118D', 'V11A', 'V126D', 'V128del', 'V1306I', 'V1378I', 'V1398D', 'V143A', 'V14I', 'V1534M', 'V155A', 'V155F', 'V1565I', 'V1576E', 'V1578del', 'V157D', 'V157F', 'V1605del', 'V1643A', 'V1653M', 'V1665M', 'V1671I', 'V1673D', 'V1673F', 'V1676D', 'V1688del', 'V1713A', 'V1714G', 'V1736A', 'V1736G', 'V173E', 'V173L', 'V1741G', 'V1804A', 'V1804D', 'V1808A', 'V1809A', 'V1809F', 'V1810G', 'V1833E', 'V1833M', 'V1838E', 'V191D', 'V191I', 'V194M', 'V197E', 'V197L', 'V2006I', 'V2006L', 'V2098I', 'V211D', 'V217D', 'V220F', 'V242F', 'V248D', 'V270A', 'V271A', 'V271L', 'V272L', 'V274F', 'V277D', 'V289F', 'V2908G', 'V294M', 'V2969M', 'V299G', 'V299L', 'V3079I', 'V319D', 'V321M', 'V32G', 'V343E', 'V343L', 'V344A', 'V344G', 'V348L', 'V354E', 'V356R', 'V35M', 'V369G', 'V370D', 'V379I', 'V384D', 'V391I', 'V411L', 'V414A', 'V422del', 'V430M', 'V45L', 'V465M', 'V471F', 'V487_P492delinsA', 'V506A', 'V509A', 'V534E', 'V536E', 'V536M', 'V544_L545insAVLVLLVIVIISLI', 'V550E', 'V555M', 'V555_L576del', 'V555_V559del', 'V557I', 'V559A', 'V559C', 'V559D', 'V559G', 'V559_V560del', 'V559del', 'V560D', 'V560E', 'V560G', 'V561A', 'V561D', 'V561_I562insER', 'V564I', 'V569_L576del', 'V579A', 'V592A', 'V597A', 'V600D', 'V600D_K601insFGLAT', 'V600E', 'V600G', 'V600K', 'V600M', 'V600R', 'V60E', 'V60M', 'V648G', 'V648I', 'V654A', 'V658A', 'V658F', 'V659E', 'V665A', 'V677I', 'V705E', 'V705M', 'V710A', 'V714M', 'V716M', 'V726M', 'V742A', 'V750E', 'V755I', 'V765A', 'V769E', 'V769M', 'V769_D770insGVV', 'V773A', 'V774A', 'V774M', 'V777A', 'V777L', 'V777M', 'V794M', 'V804G', 'V804L', 'V804M', 'V839G', 'V842I', 'V843I', 'V84L', 'V851A', 'V852I', 'V894I', 'V995M', 'W1038C', 'W117C', 'W1291R', 'W131A', 'W131G', 'W1456R', 'W1502A', 'W1610G', 'W1718C', 'W1718L', 'W1782C', 'W1837C', 'W1837G', 'W1837R', 'W183A', 'W237_Y242del', 'W24C', 'W24R', 'W24S', 'W257C', 'W257G', 'W2626C', 'W279*', 'W290_I291delinsC', 'W308C', 'W345*', 'W349C', 'W368H', 'W383R', 'W398V', 'W406A', 'W509R', 'W515K', 'W515L', 'W531C', 'W535L', 'W557G', 'W557R', 'W557_K558del', 'W557_V559delinsC', 'W557_V560del', 'W563L', 'W603_E604insDREYEYDLKW', 'W714*', 'W719*', 'W731L', 'W742C', 'W742L', 'W802*', 'W80A', 'WDR48-PDGFRB Fusion', 'Wildtype', 'X1007_splice', 'X1008_splice', 'X1009_splice', 'X434_splice', 'X475_splice', 'X582_splice', 'X963_splice', 'Y1003*', 'Y1003C', 'Y1003F', 'Y1035C', 'Y1045*', 'Y1045W', 'Y105C', 'Y112H', 'Y113*', 'Y1230C', 'Y1230H', 'Y1235D', 'Y1248F', 'Y1278S', 'Y1294A', 'Y1295A', 'Y130C', 'Y139D', 'Y1414C', 'Y1463S', 'Y149D', 'Y155C', 'Y163C', 'Y16C', 'Y1703H', 'Y1703S', 'Y174N', 'Y179C', 'Y1853*', 'Y1853C', 'Y220C', 'Y220S', 'Y234C', 'Y234H', 'Y236C', 'Y236D', 'Y236S', 'Y237A', 'Y238A', 'Y24C', 'Y253F', 'Y253H', 'Y27S', 'Y280H', 'Y285C', 'Y297A', 'Y298A', 'Y3092C', 'Y3098H', 'Y32S', 'Y34C', 'Y353L', 'Y35C', 'Y35H', 'Y35N', 'Y364H', 'Y371H', 'Y371S', 'Y373C', 'Y375C', 'Y375_K455del', 'Y384A', 'Y406H', 'Y40A', 'Y412F', 'Y418_D419del', 'Y426A', 'Y42C', 'Y472C', 'Y472H', 'Y489C', 'Y510C', 'Y513A', 'Y532C', 'Y537C', 'Y537S', 'Y53H', 'Y551F', 'Y553N', 'Y553_K558del', 'Y553_Q556del', 'Y555C', 'Y570H', 'Y572C', 'Y578C', 'Y591D', 'Y598C', 'Y599F', 'Y599_D600insEYEYEYEY', 'Y599_D600insGLYVDFREYEY', 'Y599_D600insPAPQIMSTSTLISENMNIA', 'Y599_D600insSTDNEYFYVDFREYEY', 'Y62C', 'Y63C', 'Y640F', 'Y646C', 'Y646F', 'Y646H', 'Y646N', 'Y646S', 'Y647C', 'Y64A', 'Y652H', 'Y65C', 'Y68D', 'Y68H', 'Y69H', 'Y772_A775dup', 'Y791F', 'Y801H', 'Y803N', 'Y806C', 'Y823D', 'Y835F', 'Y842C', 'Y846C', 'Y849C', 'Y849S', 'Y87C', 'Y87N', 'Y901C', 'Y931C', 'Y98H', 'Y98N', 'YAP1-FAM118B Fusion', 'YAP1-MAMLD1 Fusion', 'ZC3H7B-BCOR Fusion', 'ZNF198-FGFR1 Fusion', 'p61BRAF']\n",
      "**************************************************************\n"
     ]
    },
    {
     "data": {
      "text/plain": [
       "Variation\n",
       "Truncating Mutations    93\n",
       "Deletion                74\n",
       "Amplification           71\n",
       "Fusions                 34\n",
       "Overexpression           6\n",
       "                        ..\n",
       "H1094R                   1\n",
       "M1250T                   1\n",
       "PTPRZ1-MET Fusion        1\n",
       "H1106D                   1\n",
       "K83E                     1\n",
       "Name: count, Length: 2996, dtype: int64"
      ]
     },
     "execution_count": 41,
     "metadata": {},
     "output_type": "execute_result"
    },
    {
     "data": {
      "image/png": "[encoded data removed]",
      "text/plain": [
       "<Figure size 640x480 with 1 Axes>"
      ]
     },
     "metadata": {},
     "output_type": "display_data"
    }
   ],
   "source": [
    "#Variations analysis\n",
    "print('Output number and value of variation:')\n",
    "variation =sorted(set(train_data['Variation']))\n",
    "print('Number of variaions',len(variation))\n",
    "print('Value of variaions',variation)\n",
    "print('**************************************************************')\n",
    "\n",
    "#Since we have 2996 variation, lets check top frequent 10 variations\n",
    "df_variation = train_data.groupby(by=\"Variation\")\n",
    "df_variation_plot = df_variation.count().sort_values(by='ID',ascending=False).head(10).plot(kind='bar', y ='ID', ylabel = 'Frequency',xlabel='Variation',color='purple')\n",
    "\n",
    "train_data['Variation'].value_counts()"
   ]
  },
  {
   "cell_type": "code",
   "execution_count": 42,
   "id": "2f98303c-dbd4-4786-b56b-2f7b6d386433",
   "metadata": {},
   "outputs": [
    {
     "name": "stderr",
     "output_type": "stream",
     "text": [
      "[nltk_data] Downloading package stopwords to\n",
      "[nltk_data]     C:\\Users\\Moumita\\AppData\\Roaming\\nltk_data...\n",
      "[nltk_data]   Package stopwords is already up-to-date!\n",
      "[nltk_data] Downloading package wordnet to\n",
      "[nltk_data]     C:\\Users\\Moumita\\AppData\\Roaming\\nltk_data...\n",
      "[nltk_data]   Package wordnet is already up-to-date!\n",
      "[nltk_data] Downloading package omw-1.4 to\n",
      "[nltk_data]     C:\\Users\\Moumita\\AppData\\Roaming\\nltk_data...\n",
      "[nltk_data]   Package omw-1.4 is already up-to-date!\n"
     ]
    },
    {
     "data": {
      "text/plain": [
       "True"
      ]
     },
     "execution_count": 42,
     "metadata": {},
     "output_type": "execute_result"
    }
   ],
   "source": [
    "# Import Libraries\n",
    "import re\n",
    "import nltk\n",
    "from nltk.corpus import stopwords\n",
    "nltk.download('stopwords')\n",
    "from nltk.stem import WordNetLemmatizer \n",
    "\n",
    "nltk.download('wordnet')\n",
    "nltk.download('omw-1.4')"
   ]
  },
  {
   "cell_type": "code",
   "execution_count": 43,
   "id": "d21e3c6a-d15a-419a-9b2e-603762451f59",
   "metadata": {},
   "outputs": [],
   "source": [
    "#data from \n",
    "def clean_text(text):\n",
    "    '''Preprocess the text by following some cleaning steps'''\n",
    "    \n",
    "    #remove these special characters\n",
    "    REPLACE_BY_SPACE_RE = re.compile('[/(){}[]|@,;]')\n",
    "    BAD_SYMBOLSRE = re.compile('[^a-z]')\n",
    "    #initialize Lemmatization\n",
    "    lemmatizer = WordNetLemmatizer()\n",
    "    #remove stopwords\n",
    "    STOPWORDS = set(stopwords.words('english'))\n",
    "    \n",
    "    text=str(text)\n",
    "    text = text.lower()\n",
    "    #remove single characters \n",
    "    text = re.sub(r\"\\s+[a-zA-Z]\\s+\", \" \", text)\n",
    "\n",
    "    text = BAD_SYMBOLSRE.sub(' ', text)\n",
    "    text = REPLACE_BY_SPACE_RE.sub(' ', text)\n",
    "    #remove stopp words and do Lemmatization\n",
    "    cleaned_text = ' '.join( lemmatizer.lemmatize(word) for word in text.split() if word not in STOPWORDS)\n",
    "\n",
    "    return cleaned_text"
   ]
  },
  {
   "cell_type": "code",
   "execution_count": 44,
   "id": "3b4a2249-b1d3-4a2e-9a00-ca925ee76817",
   "metadata": {},
   "outputs": [
    {
     "data": {
      "text/plain": [
       "0       cyclin dependent kinase cdks regulate variety ...\n",
       "1       abstract background non small cell lung cancer...\n",
       "2       abstract background non small cell lung cancer...\n",
       "3       recent evidence demonstrated acquired uniparen...\n",
       "4       oncogenic mutation monomeric casitas b lineage...\n",
       "                              ...                        \n",
       "3316    introduction myelodysplastic syndrome md heter...\n",
       "3317    introduction myelodysplastic syndrome md heter...\n",
       "3318    runt related transcription factor gene runx al...\n",
       "3319    runx aml gene frequent target chromosomal tran...\n",
       "3320    frequent mutation associated leukemia recurren...\n",
       "Name: TEXT, Length: 3321, dtype: object"
      ]
     },
     "execution_count": 44,
     "metadata": {},
     "output_type": "execute_result"
    }
   ],
   "source": [
    "# clean text\n",
    "train_data['TEXT']= train_data['TEXT'].apply(clean_text)\n",
    "train_data['TEXT']"
   ]
  },
  {
   "cell_type": "code",
   "execution_count": 45,
   "id": "b55e62c9-5c89-4cec-a22c-861947071b0c",
   "metadata": {
    "scrolled": true
   },
   "outputs": [
    {
     "name": "stdout",
     "output_type": "stream",
     "text": [
      "[3912, 3704, 3704, 3502, 3961, 3961, 3961, 9973, 8043, 4082, 3961, 8353, 17556, 8353, 3961, 4392, 5506, 2285, 3961, 2285, 7665, 3961, 3961, 3502, 3502, 3502, 4420, 863, 8359, 863, 863, 12607, 863, 6188, 11414, 3702, 3702, 1777, 1777, 3949, 3949, 11791, 1777, 12802, 1210, 2543, 853, 2543, 5506, 1210, 1632, 1632, 2693, 2543, 1632, 2543, 4012, 2543, 2842, 2160, 2543, 1210, 2160, 3903, 2543, 1632, 3903, 6420, 12574, 6420, 10407, 4254, 7245, 2641, 12775, 4254, 7942, 7942, 4087, 7942, 4087, 7942, 1659, 1659, 3295, 1659, 11339, 11339, 1609, 3368, 10259, 2491, 3368, 2491, 4126, 2942, 12500, 4212, 4389, 4481, 19430, 11418, 7781, 12038, 10164, 12646, 3476, 7588, 4862, 11286, 17405, 3476, 9172, 11832, 11046, 12066, 12066, 9973, 12283, 10063, 1368, 13977, 7869, 7583, 7583, 797, 797, 7583, 7869, 5509, 7869, 12307, 8916, 4989, 7583, 30903, 3172, 3425, 8801, 20333, 289, 18648, 5268, 6451, 18491, 289, 4393, 16703, 7823, 8095, 16370, 2412, 7932, 2291, 5938, 2231, 3713, 1788, 10184, 8348, 13631, 2231, 7703, 2795, 2789, 16703, 29968, 10676, 3477, 29104, 5726, 2366, 5695, 2760, 8306, 20333, 2760, 1788, 5503, 9508, 7909, 3544, 4171, 1788, 8265, 2172, 5649, 18298, 29104, 17798, 3352, 3346, 5442, 18648, 3262, 11705, 3352, 16703, 3434, 2947, 42987, 10739, 5207, 11572, 6373, 3854, 14449, 7500, 2647, 4553, 5940, 1838, 9417, 2647, 3262, 2647, 7881, 2555, 11213, 12137, 1346, 18648, 1945, 13879, 7440, 5268, 3262, 9217, 3935, 8595, 11585, 9570, 8095, 3854, 3346, 6893, 20436, 2795, 5014, 19358, 10487, 2244, 4669, 3062, 2244, 11633, 2795, 10299, 16703, 2172, 2795, 11885, 2786, 4592, 2244, 5492, 3702, 14844, 2786, 289, 2760, 19358, 8801, 2795, 6154, 7307, 15866, 2795, 2789, 7905, 17446, 5165, 27301, 7204, 8969, 2647, 9570, 9724, 3820, 4505, 4505, 7238, 4505, 4505, 6261, 3387, 8456, 7925, 11620, 17149, 3389, 4812, 3376, 15459, 1873, 7254, 7254, 4300, 2427, 6226, 9047, 2828, 1775, 4062, 5713, 4062, 11104, 7309, 11104, 6697, 6697, 6697, 6697, 13141, 6697, 2853, 1981, 2555, 2853, 1660, 3333, 11226, 2033, 3333, 11059, 3333, 3692, 7043, 3271, 2033, 7015, 1660, 1660, 1448, 9050, 7544, 11226, 3333, 5702, 3333, 4749, 944, 7552, 9453, 128, 1642, 128, 3469, 128, 4430, 2580, 2111, 7208, 3154, 2258, 2258, 7221, 8168, 9219, 4389, 3154, 3717, 3717, 3717, 3717, 3717, 1870, 7317, 3717, 12676, 5751, 3009, 3556, 10594, 3102, 2290, 8383, 1374, 2562, 3656, 2808, 5408, 2742, 3184, 5348, 3756, 4256, 10912, 7701, 2814, 2485, 6006, 7891, 13185, 3102, 4716, 18212, 4882, 1235, 3009, 12219, 2814, 7304, 5348, 5762, 7104, 4730, 4749, 2730, 3248, 2814, 4347, 3192, 3102, 9292, 5762, 354, 16851, 8807, 3491, 2247, 3102, 5762, 4629, 2290, 3656, 4116, 4730, 3192, 2555, 1597, 7980, 2141, 4749, 5073, 13268, 3184, 10568, 2339, 3068, 2742, 3103, 2084, 3907, 12194, 3184, 9292, 2582, 2560, 3020, 17832, 3184, 2339, 5095, 3609, 4194, 5348, 6129, 3910, 5108, 5762, 10568, 2046, 6466, 2559, 2290, 3527, 2339, 6006, 10568, 12463, 5073, 5762, 8965, 3527, 6901, 2339, 3009, 6006, 1557, 3192, 2001, 2339, 2559, 9221, 3184, 6423, 2339, 10594, 1982, 6006, 2046, 5866, 6006, 2178, 3009, 9025, 7746, 4323, 10568, 5073, 2339, 4730, 2814, 5073, 4679, 7376, 9700, 10457, 2113, 8270, 4336, 3066, 3102, 4882, 6099, 3020, 10859, 4730, 8417, 4194, 2559, 2974, 5357, 2742, 3362, 3184, 5880, 3192, 2297, 8383, 2529, 4493, 5666, 6798, 3599, 2814, 2814, 7451, 24313, 3599, 4637, 9328, 3599, 3599, 7451, 4637, 4637, 8481, 4637, 3599, 2814, 4637, 6262, 6262, 6262, 3599, 3501, 4788, 13457, 6262, 6262, 6262, 3599, 6262, 4788, 3599, 6262, 6262, 6262, 6262, 4610, 4610, 3599, 4788, 3599, 9422, 1296, 3066, 6800, 5609, 965, 9146, 13431, 3066, 13949, 3066, 3066, 2814, 3133, 7451, 4637, 1296, 965, 17752, 7676, 3066, 25081, 4637, 1296, 4637, 3133, 3133, 4895, 4562, 16340, 2814, 3201, 4960, 10183, 6987, 7920, 9498, 4875, 18904, 15038, 2402, 4532, 4881, 2075, 4201, 11499, 1743, 9443, 20662, 9443, 4869, 2641, 2710, 10900, 4881, 19403, 6964, 3286, 1342, 11066, 6773, 6772, 15487, 1409, 1766, 20789, 3136, 10123, 8747, 8747, 8747, 3112, 69, 4200, 10991, 8839, 8747, 4547, 4200, 8747, 3112, 3112, 3112, 7659, 7659, 12052, 4200, 3818, 6192, 8747, 3263, 4200, 4200, 8747, 4184, 8747, 3112, 8747, 7033, 4200, 3112, 3336, 12052, 17435, 4547, 5674, 2774, 8947, 10123, 4200, 4200, 4200, 153, 8747, 10221, 3263, 153, 153, 8173, 5512, 7311, 2108, 2108, 4599, 2108, 6252, 13850, 4475, 7174, 6778, 2178, 3691, 3706, 4143, 4475, 2746, 4475, 9578, 4475, 4475, 3479, 4475, 11176, 3888, 7223, 3164, 4475, 4475, 4752, 2241, 3033, 11736, 4804, 6759, 7174, 7174, 17376, 8065, 4475, 8424, 6667, 4143, 2635, 1578, 7582, 9103, 4144, 17376, 15275, 10796, 4475, 6536, 2616, 4143, 8271, 2178, 3571, 4475, 7231, 4475, 3439, 4752, 2241, 2635, 2635, 2393, 4752, 8166, 5875, 4475, 2178, 2393, 4143, 7223, 3691, 4640, 4622, 1297, 4622, 4622, 4622, 4622, 8317, 4622, 1297, 4622, 4622, 2627, 3360, 3477, 2627, 3477, 3477, 3477, 2627, 3691, 3477, 1700, 3477, 3691, 3691, 5316, 2627, 2627, 2627, 3477, 2627, 3738, 3738, 2961, 3738, 3738, 2961, 2961, 3738, 2961, 2961, 2961, 3738, 2961, 2961, 3738, 2961, 2961, 3738, 2961, 4531, 7615, 11133, 967, 12151, 7549, 15019, 3117, 12271, 3102, 5977, 1952, 1880, 4208, 1222, 6552, 2467, 2467, 2467, 2257, 2462, 2467, 2092, 2349, 2467, 4444, 5655, 2467, 2467, 1346, 5614, 3360, 1550, 2467, 2467, 5076, 2169, 5076, 2467, 2467, 2561, 10319, 8277, 8424, 8200, 7529, 112, 2394, 2939, 3937, 2508, 3421, 2508, 3588, 6126, 3588, 2508, 3421, 2508, 3937, 2426, 3421, 5458, 2508, 3588, 3588, 6003, 5779, 3421, 3588, 2508, 2492, 3421, 7024, 2508, 3426, 2508, 3248, 2492, 5674, 2426, 3669, 3421, 2508, 3588, 2508, 39404, 3248, 2508, 3937, 14638, 3588, 5674, 2426, 3248, 6236, 3421, 19567, 3937, 5740, 1288, 8182, 5141, 3574, 3248, 1288, 2508, 3937, 3588, 3007, 5603, 1858, 2003, 1413, 1413, 1561, 28587, 3303, 5408, 75, 9812, 5603, 1151, 1413, 1357, 4159, 3303, 1300, 2191, 1151, 9111, 2630, 16424, 11260, 7312, 3625, 3625, 3625, 2583, 3625, 7730, 3415, 16226, 9423, 8682, 13284, 3415, 3458, 7544, 10604, 3415, 8919, 8682, 3415, 14483, 22092, 9047, 12436, 8430, 2492, 10347, 15803, 2492, 8552, 2492, 3198, 12066, 2706, 2972, 5986, 2972, 2706, 2972, 2706, 4788, 2706, 9318, 411, 2972, 14399, 2706, 2706, 2972, 2706, 2706, 2706, 2706, 9481, 2155, 3525, 3525, 3525, 3525, 16284, 3525, 3525, 3525, 3525, 3525, 3525, 3525, 3525, 8231, 3525, 2917, 2917, 3525, 6799, 3525, 3525, 2917, 3525, 6799, 3525, 18443, 3525, 3525, 3525, 2155, 3525, 3525, 3525, 6799, 6846, 6799, 3525, 6799, 4099, 6799, 3525, 3525, 3525, 3525, 3525, 7595, 129, 2478, 6127, 4307, 8791, 16456, 2339, 7861, 1030, 7861, 21407, 10892, 10892, 10238, 1362, 1362, 3022, 1362, 1362, 4883, 31774, 3521, 10573, 8017, 15036, 20485, 5593, 5593, 5593, 2540, 8840, 8840, 8782, 1868, 2447, 2447, 2434, 5942, 2434, 2434, 2822, 7144, 11644, 1865, 8842, 5020, 2522, 3881, 3757, 3881, 16881, 1648, 2, 9094, 6269, 3255, 13530, 3255, 7720, 3255, 10758, 9989, 6758, 11460, 5332, 6917, 4512, 4637, 4958, 11460, 18389, 5332, 9989, 27869, 5332, 9989, 15308, 5563, 4299, 6077, 27307, 9989, 562, 9989, 1691, 9799, 2609, 3074, 5001, 3588, 3062, 9989, 2808, 18688, 15182, 8090, 10899, 203, 7793, 9040, 16303, 7601, 5190, 5190, 12167, 8115, 8606, 6419, 4517, 8419, 9496, 2627, 3890, 6130, 10869, 5914, 3719, 6315, 5097, 2037, 3028, 3299, 4517, 2006, 8417, 2006, 9496, 16019, 3570, 6315, 14880, 3299, 6101, 4043, 3579, 10501, 5576, 7724, 52866, 4517, 6511, 41472, 7134, 12445, 3604, 2006, 4517, 9580, 8703, 6090, 2006, 2863, 2935, 2863, 2627, 8321, 8321, 5097, 3842, 8321, 3604, 4517, 2006, 6950, 3116, 5561, 6950, 5561, 2700, 5019, 3613, 6950, 5019, 3629, 3629, 3629, 3529, 3529, 8697, 3529, 3629, 4658, 3037, 4658, 6655, 42218, 4120, 4120, 2480, 2480, 5860, 5350, 3128, 9482, 2480, 3128, 3128, 3128, 9287, 4333, 11210, 2480, 2480, 2480, 5860, 2480, 3128, 3128, 10777, 3128, 2480, 2480, 6107, 3937, 1932, 3937, 3189, 3937, 3937, 3937, 4, 12711, 17321, 7515, 13447, 13598, 21975, 7212, 10494, 158, 17991, 16578, 2667, 167, 2884, 13242, 8363, 1060, 11505, 2880, 5006, 19602, 2276, 7275, 9333, 5215, 1081, 2823, 3799, 8928, 3799, 9835, 6536, 5316, 7275, 3799, 4371, 7275, 8842, 3060, 7275, 9202, 6306, 6491, 7275, 7275, 7871, 3435, 7218, 9493, 9725, 7275, 7275, 5887, 7275, 3799, 7275, 7664, 12409, 7171, 8668, 4639, 17409, 4881, 2754, 2754, 7681, 7316, 2754, 2754, 4881, 9075, 1785, 16798, 2754, 5756, 2754, 7925, 2754, 6773, 6773, 13091, 6773, 2754, 2754, 2754, 2754, 4194, 2754, 2754, 4603, 288, 3123, 3123, 3123, 3411, 3123, 2361, 3123, 2370, 7254, 288, 13122, 3778, 8286, 8932, 2116, 29388, 3884, 6465, 3883, 6627, 3883, 20455, 1538, 2847, 3479, 5717, 3479, 6053, 3479, 8612, 3479, 3479, 3479, 6053, 2835, 3479, 6053, 2919, 2, 3479, 3479, 2184, 3479, 3479, 3479, 3479, 3479, 3479, 4006, 10667, 2482, 3479, 3479, 9531, 10213, 3332, 9067, 6053, 2835, 3479, 10599, 11646, 15756, 10335, 10335, 10335, 15756, 10335, 6873, 15756, 15756, 10335, 10335, 10581, 10335, 15756, 15756, 8909, 6873, 15756, 10335, 3392, 5367, 5367, 3264, 6280, 7612, 12075, 2759, 3112, 2759, 5367, 5367, 4027, 5791, 2413, 5367, 5791, 6819, 5367, 2204, 5372, 9456, 3665, 6296, 5367, 5188, 2435, 5367, 5791, 3276, 5367, 2759, 3883, 2759, 9878, 2228, 5791, 2759, 4878, 5791, 2542, 3883, 5367, 6175, 2228, 2228, 3276, 4012, 5791, 1437, 5367, 2452, 5721, 11704, 6439, 7751, 7250, 3195, 4660, 12174, 22807, 2821, 9178, 2680, 4760, 4760, 4545, 4760, 11963, 13637, 14149, 7955, 4545, 4660, 12950, 1281, 6610, 3944, 2821, 2735, 48648, 10974, 2767, 1463, 15969, 2267, 4660, 4390, 7896, 4390, 10974, 9279, 4390, 3501, 3896, 9792, 6625, 34220, 4660, 4760, 10060, 28450, 3715, 4760, 4390, 4760, 4390, 2735, 3944, 5150, 4535, 9788, 4760, 5989, 4390, 4760, 4390, 2821, 20529, 3509, 4545, 4390, 3283, 4390, 4760, 4266, 4941, 2295, 12280, 4186, 5536, 3585, 5841, 70, 3068, 3068, 3068, 9642, 7634, 10101, 9710, 4617, 8184, 4617, 5539, 8565, 3411, 9715, 3835, 4532, 2896, 7634, 3411, 4532, 5105, 5093, 4617, 9715, 10687, 5105, 4532, 5093, 5093, 30, 2896, 4617, 4532, 4532, 5093, 5093, 248, 11462, 4617, 5093, 5105, 9655, 4617, 3490, 8538, 3961, 5530, 5530, 3961, 3961, 5530, 8523, 5530, 3961, 2409, 2, 3535, 6519, 3957, 13317, 6519, 3988, 4800, 4800, 3988, 3988, 4800, 3761, 2547, 3957, 9384, 9384, 9384, 446, 10606, 1836, 4800, 4800, 2656, 2656, 6891, 4800, 4800, 3988, 4800, 4800, 6519, 2728, 6519, 4800, 13317, 9384, 13317, 13317, 3988, 9384, 1481, 4800, 13317, 13325, 9384, 3761, 2103, 9384, 4197, 4138, 3476, 2632, 2306, 2572, 15934, 4909, 3476, 1939, 4138, 20961, 4138, 662, 7500, 4138, 3476, 18229, 4589, 6867, 2950, 4152, 5189, 2950, 4152, 4928, 5189, 2950, 2950, 5691, 1026, 1026, 1026, 1026, 6094, 2189, 3358, 7442, 1795, 3128, 12197, 3476, 3476, 14384, 3476, 3476, 6197, 3476, 3476, 2032, 7239, 3476, 10713, 3476, 3476, 1303, 6013, 10285, 9652, 2120, 3476, 7103, 2155, 14047, 2155, 1951, 26773, 13663, 11996, 4881, 2155, 2155, 2155, 2155, 2155, 2155, 2155, 4881, 21534, 7690, 6073, 9184, 8768, 9817, 12880, 5944, 5944, 2537, 2537, 2537, 2537, 2537, 6094, 2537, 6961, 3384, 3384, 5522, 27253, 3384, 8110, 4080, 3384, 2592, 2592, 4163, 16406, 3384, 5314, 3384, 3384, 9546, 3384, 27253, 9604, 8928, 5527, 1553, 1553, 5527, 6667, 7199, 5917, 3094, 6829, 8545, 6224, 1681, 9799, 6642, 14516, 9760, 9799, 9760, 8421, 8545, 9760, 9760, 2928, 11821, 9502, 7461, 7461, 13467, 7461, 9502, 7461, 7461, 7461, 9502, 7461, 2555, 6994, 3916, 2318, 2318, 1995, 4185, 4185, 4185, 4185, 9494, 9494, 5404, 2305, 4148, 8482, 4842, 5867, 2841, 5867, 3653, 7403, 2841, 2841, 3570, 1840, 2841, 2841, 2370, 3981, 2841, 5867, 7475, 2841, 2841, 2841, 2841, 2841, 3981, 2050, 2841, 2841, 3789, 2841, 2397, 3789, 2841, 2841, 3789, 5867, 1840, 5867, 6461, 2370, 2841, 2841, 2841, 7707, 2841, 2841, 2841, 6102, 6537, 10101, 4809, 1537, 9244, 3568, 2594, 11002, 17380, 11751, 585, 3993, 3922, 8605, 9241, 8605, 980, 980, 8605, 4089, 8605, 4516, 8605, 4516, 9241, 9241, 7136, 12054, 9241, 5313, 4516, 5981, 3922, 5703, 7938, 2188, 3503, 3503, 8760, 3503, 7938, 2188, 8760, 3623, 3323, 3350, 7596, 3350, 3350, 7596, 4246, 18186, 5398, 7586, 7049, 7296, 7296, 4735, 2962, 2962, 2962, 23154, 4145, 3085, 12149, 4280, 3906, 5604, 10434, 10938, 4312, 5657, 3972, 16379, 7742, 9410, 5974, 5875, 5604, 11482, 3085, 7218, 5974, 7170, 11779, 4950, 9410, 9410, 3401, 2494, 9607, 1438, 2975, 3808, 2975, 3290, 13110, 3405, 3401, 11721, 4251, 7049, 2851, 3401, 3290, 3401, 7768, 3401, 5603, 16931, 3808, 5330, 6302, 2494, 2836, 4038, 8492, 3401, 5524, 4038, 2975, 3808, 5888, 3401, 7120, 3037, 9911, 3401, 3850, 5524, 5053, 1273, 5978, 5978, 6783, 7484, 5231, 7484, 1273, 1273, 3037, 7484, 8753, 4469, 11398, 2936, 2300, 2936, 6859, 2936, 12434, 7355, 27418, 9366, 7508, 21832, 27956, 23594, 22414, 8138, 4576, 6301, 2367, 2978, 4576, 4576, 4576, 4728, 10074, 4728, 4728, 4728, 4728, 4728, 4728, 4728, 4728, 4728, 4728, 4728, 4728, 2925, 3923, 1876, 3305, 3305, 3305, 5299, 3305, 13365, 6553, 11379, 18135, 10225, 10225, 10660, 10225, 7550, 7550, 10225, 7550, 14657, 2171, 12201, 6146, 2865, 4056, 1191, 2865, 31582, 31582, 1407, 10235, 13714, 26061, 943, 11033, 8416, 8416, 8334, 8463, 36296, 13185, 8688, 12775, 6210, 7965, 8416, 9283, 9734, 20494, 3334, 7588, 3334, 3115, 3115, 3334, 3334, 3115, 3334, 3334, 10922, 3334, 3334, 4927, 136, 1012, 4270, 4270, 4077, 2603, 4270, 4270, 2603, 2603, 6161, 4270, 2603, 2440, 2603, 4270, 4494, 10950, 5647, 3125, 2603, 4270, 3141, 9836, 2603, 5566, 4270, 2603, 2603, 2782, 9655, 2603, 1918, 2963, 1891, 4270, 1918, 4270, 8832, 4270, 4270, 4270, 4270, 6161, 2603, 11121, 4270, 4270, 4270, 4270, 1918, 5744, 2865, 4270, 2603, 4270, 4270, 4270, 6720, 3349, 4270, 5566, 4270, 13913, 4270, 4270, 2603, 6161, 4270, 4270, 4270, 4270, 7135, 3141, 4270, 11212, 4270, 2603, 4270, 4270, 2603, 3853, 4270, 3141, 4756, 4270, 6873, 4270, 2603, 9655, 2603, 1891, 4270, 1891, 2603, 2603, 4532, 6720, 4270, 4270, 4270, 4270, 1891, 3141, 2719, 2603, 2603, 6861, 4270, 4270, 4270, 2603, 2603, 1918, 4270, 1918, 4270, 6161, 2603, 4270, 4270, 4270, 5043, 4270, 4270, 4270, 4773, 9294, 3876, 3066, 4219, 1734, 3685, 6477, 2938, 10364, 2938, 6522, 5574, 16064, 901, 3621, 10653, 1942, 4640, 16538, 16538, 16538, 11733, 4022, 4022, 4022, 14514, 4022, 1475, 3244, 5509, 4650, 2894, 6433, 3244, 11553, 4460, 5509, 3659, 1889, 5090, 13094, 4650, 3244, 3354, 2894, 1468, 8096, 5298, 5298, 5365, 5430, 5298, 5298, 12857, 15796, 5298, 1960, 5298, 1960, 5935, 5298, 5298, 2320, 5298, 5298, 5298, 15068, 9316, 5298, 3783, 4060, 5298, 1960, 12658, 5298, 15073, 9316, 4712, 8950, 7032, 4395, 5855, 4139, 7658, 5855, 7427, 2235, 5229, 5457, 11490, 3087, 1391, 2901, 4278, 5736, 1198, 4073, 3110, 6182, 2611, 4073, 3110, 3110, 5970, 3110, 4534, 11884, 3110, 10583, 1648, 4073, 1383, 3116, 3110, 4516, 5970, 3110, 3110, 3110, 1648, 3498, 24337, 2228, 21228, 24337, 24337, 24337, 24337, 5597, 27015, 33158, 4154, 24337, 24337, 24337, 26789, 24337, 6902, 2365, 1879, 2036, 5306, 4349, 6385, 6924, 10342, 9336, 3259, 12605, 5306, 3259, 2130, 4321, 16709, 4321, 4321, 7221, 4321, 18251, 2130, 4321, 2480, 2639, 3259, 4321, 3259, 10520, 3259, 5667, 7357, 2130, 4321, 4444, 4444, 4444, 9269, 3259, 4321, 7436, 14284, 4321, 9269, 5306, 21208, 4444, 4948, 10291, 4444, 4321, 8319, 12183, 4444, 7703, 4444, 3781, 4444, 2777, 3259, 10342, 4444, 4444, 8718, 6749, 1829, 21172, 5306, 19182, 4444, 7221, 7110, 4444, 2187, 7135, 3259, 7083, 4444, 17328, 12942, 5847, 27667, 8440, 3259, 3259, 3259, 12389, 6799, 2777, 4444, 5667, 3259, 4444, 158, 7703, 5569, 9392, 3508, 4444, 5847, 8926, 1662, 5015, 4321, 4321, 4444, 4321, 11931, 4444, 2777, 4321, 3259, 3259, 3259, 3573, 2047, 3781, 4659, 17994, 7945, 4444, 3259, 5898, 9269, 4444, 4444, 4948, 3259, 4444, 4321, 5306, 7110, 4948, 12171, 1829, 4444, 5306, 14392, 3259, 4321, 7703, 3259, 5306, 1662, 7377, 15298, 5667, 13394, 14407, 14470, 4444, 3361, 5898, 2047, 3259, 3259, 5306, 14572, 5306, 11579, 4444, 4321, 7377, 12389, 2421, 6106, 3259, 3259, 3259, 7729, 4444, 5306, 2130, 7377, 3259, 3781, 7221, 4444, 14485, 4321, 11880, 3259, 4321, 4321, 13636, 7945, 4321, 9087, 5306, 7135, 14470, 4444, 4444, 4444, 7377, 4321, 5569, 1662, 4321, 5306, 7135, 4444, 1829, 5015, 3513, 5306, 14218, 6749, 7135, 4444, 13264, 5987, 9103, 4632, 4444, 7517, 10557, 4444, 2777, 15360, 8926, 4948, 4321, 1662, 2047, 8543, 9087, 3259, 7135, 5306, 2639, 6574, 6256, 6272, 4659, 15636, 4444, 9269, 2777, 2079, 4444, 7496, 5306, 9269, 4444, 3259, 7377, 4321, 3259, 4444, 2997, 4444, 2639, 7811, 4321, 4444, 4444, 3259, 9087, 3259, 8881, 4321, 1662, 8463, 4444, 2777, 3573, 5306, 2421, 4321, 1313, 3446, 4811, 7079, 2149, 2505, 5273, 5273, 1483, 2214, 2202, 1232, 1232, 4212, 10233, 3969, 8059, 11278, 2517, 2505, 4759, 8059, 3721, 5273, 4811, 12831, 1539, 5669, 10782, 8107, 6603, 5273, 6315, 5273, 5414, 5273, 7236, 1544, 15999, 7211, 5892, 4451, 2518, 3453, 3721, 10261, 8355, 20136, 3162, 4559, 7780, 8355, 3545, 3162, 11018, 8059, 12277, 13101, 3453, 2227, 3162, 5273, 11991, 8191, 2149, 10061, 10448, 12190, 10898, 2724, 7475, 2257, 21727, 19740, 3, 4811, 13101, 15806, 13607, 1055, 4654, 10717, 14220, 3162, 2505, 13967, 2848, 4811, 15317, 16787, 5039, 3252, 11594, 3922, 4515, 3922, 2076, 3922, 2076, 3922, 7246, 3922, 2076, 2076, 7246, 3922, 3922, 3311, 3324, 2076, 2076, 3922, 3387, 3922, 3922, 3922, 2076, 5463, 10633, 3324, 3723, 3922, 3324, 3324, 9724, 3922, 2074, 3922, 2076, 3922, 3922, 3922, 2076, 2076, 2074, 2074, 3922, 2076, 11723, 3922, 3922, 2074, 3324, 3324, 8072, 3922, 5998, 3922, 5012, 3922, 3922, 2076, 2076, 5996, 3324, 7246, 2076, 3922, 9647, 18153, 2076, 7246, 2074, 3892, 2076, 10813, 3922, 2076, 2076, 3922, 5463, 3922, 7246, 3922, 7246, 9322, 2074, 7309, 3922, 6889, 3235, 3922, 3922, 3922, 3922, 3892, 3922, 5998, 2076, 3922, 7767, 3324, 2076, 2076, 2076, 3387, 5996, 3922, 3922, 3892, 3387, 7246, 3922, 3922, 3387, 3387, 3922, 3892, 3922, 3922, 3922, 2076, 3922, 3387, 2076, 3922, 2074, 3922, 5361, 118, 2721, 9352, 9352, 10456, 14713, 118, 5361, 118, 6867, 4035, 6666, 2469, 6666, 6666, 6666, 6666, 6666, 6666, 6666, 9115, 6666, 6666, 4881, 6666, 6666, 6666, 4881, 4881, 4684, 4234, 6666, 6666, 3850, 6827, 5994, 4476, 7834, 2683, 3207, 4047, 2408, 1502, 5489, 9045, 2681, 1851, 1513, 1513, 9127, 8581, 6171, 6308, 5435, 2924, 2924, 6107, 4673, 3239, 901, 9758, 3243, 4225, 3576, 14084, 4755, 3955, 14643, 1282, 17111, 4945, 2172, 8904, 1977, 3723, 7791, 7170, 1282, 1282, 2996, 229, 6148, 1915, 4016, 11147, 31849, 8647, 2199, 9912, 2855, 16383, 10209, 1222, 1484, 2983, 17487, 2531, 7740, 3447, 4016, 11782, 35650, 2735, 6612, 25259, 33567, 12556, 3447, 31986, 13831, 1591, 20771, 3494, 2261, 2261, 670, 3669, 21152, 2293, 2261, 3940, 3447, 17653, 7325, 6254, 24769, 4016, 6690, 1090, 2944, 3243, 4016, 2116, 2261, 7480, 24429, 2531, 2813, 17093, 3723, 1276, 12054, 5386, 29152, 9175, 3447, 2261, 4119, 6486, 7491, 1222, 16329, 2172, 1282, 2353, 6458, 6107, 6460, 3955, 10190, 2321, 1925, 5344, 14984, 3159, 17120, 18321, 17120, 18321, 18321, 17120, 18321, 11474, 20157, 17120, 17120, 17120, 11474, 9982, 17120, 8437, 6836, 17120, 17120, 11474, 11474, 11474, 10207, 1299, 2243, 17120, 11474, 17120, 3206, 11551, 11474, 2185, 1463, 2389, 8768, 4562, 3735, 6455, 4725, 2389, 6827, 4859, 6167, 4662, 11712, 4692, 4692, 9996, 8878, 7730, 4467, 9813, 8542, 14741, 2134, 2330, 5516, 33966, 8857, 5355, 9917, 5265, 1380, 6845, 3211, 1848, 9722, 4109, 9961, 3637, 4987, 4210, 6361, 3776, 11074, 18200, 7585, 6226, 8946, 4665, 5714, 11431, 7930, 13330, 6299, 21588, 13298, 5355, 16533, 12390, 2649, 6341, 9478, 6960, 6960, 3454, 7784, 7798, 4413, 1507, 1646, 3667, 6891, 7932, 5586, 963, 6891, 10538, 5708, 2041, 2041, 2996, 7975, 9923, 1509, 1570, 19700, 1509, 6959, 10788, 7641, 6754, 6523, 18679, 12485, 18679, 8937, 14442, 16860, 13173, 4710, 16225, 18679, 2326, 2326, 12240, 8697, 16258, 10968, 2121, 2121, 12442, 3348, 3005, 3005, 3455, 3005, 7305, 9784, 2277, 3036, 3051, 10317, 829, 2712, 2712, 5952, 13848, 3965, 829, 13637, 5921, 5426, 7085, 2880, 829, 1881, 26357, 1881, 8016, 3097, 22126, 3097, 2462, 5983, 6620, 6666, 6620, 8895, 8895, 4096, 8895, 9131, 2570, 11276, 5261, 2530, 8651, 6552, 12593, 2424, 7940, 2729, 4982, 1060, 3146, 1060, 6318, 1563, 1060, 1060, 3949, 968, 3396, 8133, 3146, 5238, 3396, 2569, 3396, 2877, 3396, 968, 4457, 3388, 5129, 5577, 3396, 1350, 935, 3146, 3878, 3146, 1060, 3146, 1819, 1060, 1060, 2684, 3497, 3396, 11619, 9758, 4013, 4524, 6498, 7332, 3562, 4013, 3562, 4013, 1127, 9470, 3908, 4524, 6337, 5724, 3256, 4524, 9300, 7983, 7326, 4013, 3585, 3179, 6498]\n"
     ]
    }
   ],
   "source": [
    "# length of sentences\n",
    "train_data['TEXT']\n",
    "lens=[len(sent.split()) for sent in train_data['TEXT'] ]\n",
    "print(lens)"
   ]
  },
  {
   "cell_type": "code",
   "execution_count": 46,
   "id": "e916fa0f-3b6c-4ea7-bbc6-b82793200cf8",
   "metadata": {},
   "outputs": [],
   "source": [
    "y_true=train_data['Class'].astype(int)\n",
    "del train_data['Class']"
   ]
  },
  {
   "cell_type": "code",
   "execution_count": 47,
   "id": "957888fe-4602-4180-a923-9f58a13be0f8",
   "metadata": {},
   "outputs": [],
   "source": [
    "#we need to do train,val,test for evaluation \n",
    "from sklearn.model_selection import train_test_split\n",
    "# split the data into train and remaining by maintaining same distribution of output varaible 'y_true' [stratify=y_true]\n",
    "X_train, X_rem, y_train, y_rem = train_test_split(train_data, y_true, stratify=y_true, test_size=0.2)\n",
    "# split the train data into test and validation by maintaining same distribution of output varaible 'y_rem' \n",
    "X_val, X_test, y_val, y_test = train_test_split(X_rem, y_rem, stratify=y_rem, test_size=0.5)"
   ]
  },
  {
   "cell_type": "code",
   "execution_count": 48,
   "id": "2b85afea-7981-4bf2-863d-88917b738b58",
   "metadata": {},
   "outputs": [
    {
     "name": "stdout",
     "output_type": "stream",
     "text": [
      "2656\n",
      "332\n",
      "333\n"
     ]
    }
   ],
   "source": [
    "print(len(X_train))\n",
    "print(len(vX_al))\n",
    "print(len(X_test))"
   ]
  },
  {
   "cell_type": "code",
   "execution_count": 49,
   "id": "63cc6c24-ed85-4173-a700-b0f767778f20",
   "metadata": {},
   "outputs": [
    {
     "data": {
      "image/png": "[encoded data removed]",
      "text/plain": [
       "<Figure size 1500x600 with 3 Axes>"
      ]
     },
     "metadata": {},
     "output_type": "display_data"
    }
   ],
   "source": [
    "fig, ax = plt.subplots(1,3,figsize=(15, 6))\n",
    "\n",
    "fig.tight_layout(pad=5.0)\n",
    "# Set title\n",
    "ax[0].set_title(\"Frequency/distribution of classes in training data\")\n",
    "  \n",
    "# adding labels\n",
    "ax[0].set_xlabel('Classes')\n",
    "ax[0].set_ylabel('Frequency')\n",
    "ax[0].hist(sorted(y_train), bins=9, align='mid', color='purple', edgecolor='black',rwidth=0.7)\n",
    "\n",
    "\n",
    "ax[1].set_title(\"Frequency/distribution of classes in validation data\")\n",
    "# adding labels\n",
    "ax[1].set_xlabel('Classes')\n",
    "ax[1].set_ylabel('Frequency')\n",
    "ax[1].hist(sorted(y_val), bins=9, align='mid', color='purple', edgecolor='black',rwidth=0.7)\n",
    "\n",
    "\n",
    "ax[2].set_title(\"Frequency/distribution of classes in testing data\")\n",
    "# adding labels\n",
    "ax[2].set_xlabel('Classes')\n",
    "ax[2].set_ylabel('Frequency')\n",
    "ax[2].hist(sorted(y_test), bins=9, align='mid', color='purple', edgecolor='black',rwidth=0.7)\n",
    "\n",
    "plt.show()"
   ]
  },
  {
   "cell_type": "code",
   "execution_count": 50,
   "id": "4bdcc53e-0d45-47bc-aa1e-1999348045e8",
   "metadata": {},
   "outputs": [],
   "source": [
    "import seaborn as sns\n",
    "import matplotlib.pyplot as plt\n",
    "from sklearn.metrics import confusion_matrix"
   ]
  },
  {
   "cell_type": "code",
   "execution_count": 51,
   "id": "e9c21490-da10-437a-860d-efe2f5aa862f",
   "metadata": {},
   "outputs": [
    {
     "name": "stdout",
     "output_type": "stream",
     "text": [
      "Requirement already satisfied: matplotlib in c:\\users\\moumita\\anaconda3\\lib\\site-packages (3.8.4)\n",
      "Requirement already satisfied: seaborn in c:\\users\\moumita\\anaconda3\\lib\\site-packages (0.13.2)\n",
      "Requirement already satisfied: contourpy>=1.0.1 in c:\\users\\moumita\\anaconda3\\lib\\site-packages (from matplotlib) (1.2.0)\n",
      "Requirement already satisfied: cycler>=0.10 in c:\\users\\moumita\\anaconda3\\lib\\site-packages (from matplotlib) (0.11.0)\n",
      "Requirement already satisfied: fonttools>=4.22.0 in c:\\users\\moumita\\anaconda3\\lib\\site-packages (from matplotlib) (4.51.0)\n",
      "Requirement already satisfied: kiwisolver>=1.3.1 in c:\\users\\moumita\\anaconda3\\lib\\site-packages (from matplotlib) (1.4.4)\n",
      "Requirement already satisfied: numpy>=1.21 in c:\\users\\moumita\\anaconda3\\lib\\site-packages (from matplotlib) (1.26.4)\n",
      "Requirement already satisfied: packaging>=20.0 in c:\\users\\moumita\\anaconda3\\lib\\site-packages (from matplotlib) (23.2)\n",
      "Requirement already satisfied: pillow>=8 in c:\\users\\moumita\\anaconda3\\lib\\site-packages (from matplotlib) (10.3.0)\n",
      "Requirement already satisfied: pyparsing>=2.3.1 in c:\\users\\moumita\\anaconda3\\lib\\site-packages (from matplotlib) (3.0.9)\n",
      "Requirement already satisfied: python-dateutil>=2.7 in c:\\users\\moumita\\anaconda3\\lib\\site-packages (from matplotlib) (2.9.0.post0)\n",
      "Requirement already satisfied: pandas>=1.2 in c:\\users\\moumita\\anaconda3\\lib\\site-packages (from seaborn) (2.2.2)\n",
      "Requirement already satisfied: pytz>=2020.1 in c:\\users\\moumita\\anaconda3\\lib\\site-packages (from pandas>=1.2->seaborn) (2024.1)\n",
      "Requirement already satisfied: tzdata>=2022.7 in c:\\users\\moumita\\anaconda3\\lib\\site-packages (from pandas>=1.2->seaborn) (2023.3)\n",
      "Requirement already satisfied: six>=1.5 in c:\\users\\moumita\\anaconda3\\lib\\site-packages (from python-dateutil>=2.7->matplotlib) (1.16.0)\n",
      "Note: you may need to restart the kernel to use updated packages.\n"
     ]
    }
   ],
   "source": [
    "pip install matplotlib seaborn"
   ]
  },
  {
   "cell_type": "code",
   "execution_count": 52,
   "id": "c022ba82-6b61-4c0a-aa59-3f3fc96a947e",
   "metadata": {},
   "outputs": [],
   "source": [
    "# Import necessary libraries\n",
    "from sklearn.feature_extraction.text import CountVectorizer\n",
    "from sklearn.metrics import confusion_matrix\n",
    "from sklearn.metrics import log_loss\n",
    "from sklearn. metrics import accuracy_score\n",
    "from sklearn.metrics import classification_report\n",
    "from sklearn.linear_model import LogisticRegression\n",
    "from sklearn.feature_extraction.text import TfidfVectorizer\n",
    "from sklearn.preprocessing import normalize\n",
    "#projectpro.checkpoint('479936')\n",
    "from sklearn import tree\n",
    "from sklearn.metrics import confusion_matrix, accuracy_score, log_loss\n",
    "import seaborn as sns\n",
    "import matplotlib.pyplot as plt"
   ]
  },
  {
   "cell_type": "code",
   "execution_count": 53,
   "id": "9d6446e3-e3db-4a72-9d5c-7c08a5ac3c6c",
   "metadata": {},
   "outputs": [],
   "source": [
    "%matplotlib inline"
   ]
  },
  {
   "cell_type": "code",
   "execution_count": 54,
   "id": "8b592d73-7827-40c1-b0d1-f354d19410c4",
   "metadata": {},
   "outputs": [],
   "source": [
    "import matplotlib.pyplot as plt\n",
    "import seaborn as sns\n",
    "from sklearn.metrics import confusion_matrix"
   ]
  },
  {
   "cell_type": "code",
   "execution_count": 55,
   "id": "fb7acba2-0c4a-4e79-b497-1afbc7233f4a",
   "metadata": {},
   "outputs": [],
   "source": [
    "def evaluate_model(model,test_features, y_truth,datatype=''):\n",
    "  #evaluate diffrent models using confusion matrix and log loss\n",
    "  # predict on the test data\n",
    "  pred=model.predict(test_features)\n",
    "\n",
    "  # create a pretty matrix with predicted and actual data\n",
    "  cm = confusion_matrix(y_truth, pred)\n",
    "  pred_prob= model.predict_proba(test_features)\n",
    "  # calculate log loss\n",
    "  eval = log_loss(y_truth,pred_prob) \n",
    "  print(\"Log Loss for \"+datatype+\" data\")\n",
    "  print(eval)\n",
    "  print('**************************************************************************')\n"
   ]
  },
  {
   "cell_type": "code",
   "execution_count": 56,
   "id": "d2f3a064-630b-4f0a-a8d4-eed24b61b11b",
   "metadata": {},
   "outputs": [],
   "source": [
    "#Since Genes and variations are speciefec we will represent them with one hot encoder \n",
    "#Using get dummes to convert categorical data into dummy or indicator variables.\n",
    "train_gene_feature_onehotCoding = pd.get_dummies(X_train[\"Gene\"],drop_first=True)\n",
    " \n",
    "val_gene_feature_onehotCoding = pd.get_dummies(X_val[\"Gene\"],drop_first=True)\n",
    "#we use reindex to handle the unknown categories which didnt appear in the training data\n",
    "val_gene_feature_onehotCoding = val_gene_feature_onehotCoding.reindex(columns= train_gene_feature_onehotCoding.columns, fill_value=0)\n",
    "\n",
    "test_gene_feature_onehotCoding = pd.get_dummies(X_test[\"Gene\"],drop_first=True)\n",
    "test_gene_feature_onehotCoding = test_gene_feature_onehotCoding.reindex(columns= train_gene_feature_onehotCoding.columns, fill_value=0)"
   ]
  },
  {
   "cell_type": "code",
   "execution_count": 57,
   "id": "764b40e5-d537-4d73-9e60-a5c2835a055a",
   "metadata": {
    "scrolled": true
   },
   "outputs": [
    {
     "name": "stdout",
     "output_type": "stream",
     "text": [
      "Log Loss for training data\n",
      "1.099680329310185\n",
      "**************************************************************************\n",
      "Log Loss for evaluation data\n",
      "1.1615885045837884\n",
      "**************************************************************************\n",
      "Log Loss for testing data\n",
      "1.1306929725567705\n",
      "**************************************************************************\n"
     ]
    }
   ],
   "source": [
    "# build a random logistic regression model\n",
    "loj = LogisticRegression(random_state=0)\n",
    "loj_model = loj.fit(train_gene_feature_onehotCoding, y_train)\n",
    "evaluate_model(loj_model,train_gene_feature_onehotCoding,y_train,'training')\n",
    "evaluate_model(loj_model,val_gene_feature_onehotCoding,y_val,'evaluation')\n",
    "evaluate_model(loj_model,test_gene_feature_onehotCoding,y_test,'testing')\n"
   ]
  },
  {
   "cell_type": "code",
   "execution_count": 58,
   "id": "e6a039fd-b217-442e-a290-609592f2fe75",
   "metadata": {},
   "outputs": [],
   "source": [
    "train_variation_feature_onehotCoding = pd.get_dummies(X_train[\"Variation\"],drop_first=True)\n",
    "\n",
    "#method will remove all the new columns and add the missing columns with their values as zeros. Now we can apply our Model M on this reindexed data to make predictions.\n",
    "val_variation_feature_onehotCoding = pd.get_dummies(X_val[\"Variation\"],drop_first=True)\n",
    "val_variation_feature_onehotCoding = val_variation_feature_onehotCoding.reindex(columns= train_variation_feature_onehotCoding.columns, fill_value=0)\n",
    "\n",
    "test_variation_feature_onehotCoding = pd.get_dummies(X_test[\"Variation\"],drop_first=True)\n",
    "test_variation_feature_onehotCoding = test_variation_feature_onehotCoding.reindex(columns= train_variation_feature_onehotCoding.columns, fill_value=0)"
   ]
  },
  {
   "cell_type": "code",
   "execution_count": 59,
   "id": "03353568-94ed-4ce3-a3b2-290ddbcb6f60",
   "metadata": {
    "scrolled": true
   },
   "outputs": [
    {
     "name": "stdout",
     "output_type": "stream",
     "text": [
      "Log Loss for training data\n",
      "1.1557134844802261\n",
      "**************************************************************************\n",
      "Log Loss for validation data\n",
      "1.7685760846350707\n",
      "**************************************************************************\n",
      "Log Loss for testing data\n",
      "1.7379598594970356\n",
      "**************************************************************************\n"
     ]
    }
   ],
   "source": [
    "# fit logistic regression model\n",
    "loj = LogisticRegression(random_state=0)\n",
    "loj_model = loj.fit(train_variation_feature_onehotCoding, y_train)\n",
    "\n",
    "evaluate_model(loj_model,train_variation_feature_onehotCoding,y_train, 'training')\n",
    "evaluate_model(loj_model,val_variation_feature_onehotCoding,y_val,'validation')\n",
    "evaluate_model(loj_model,test_variation_feature_onehotCoding,y_test,'testing')"
   ]
  },
  {
   "cell_type": "code",
   "execution_count": 60,
   "id": "f8c6095c-0465-4980-8592-fb844e8de68c",
   "metadata": {},
   "outputs": [],
   "source": [
    "#concatnate gene and variation\n",
    "gene_variation_train=pd.concat([train_variation_feature_onehotCoding,train_gene_feature_onehotCoding],axis=1)\n",
    "gene_variation_val= pd.concat([val_variation_feature_onehotCoding,val_gene_feature_onehotCoding],axis=1)\n",
    "gene_variation_test=pd.concat([test_variation_feature_onehotCoding,test_gene_feature_onehotCoding],axis=1)"
   ]
  },
  {
   "cell_type": "code",
   "execution_count": 61,
   "id": "c29aa830-8b2d-41cf-967c-7782d122ffeb",
   "metadata": {
    "scrolled": true
   },
   "outputs": [
    {
     "name": "stdout",
     "output_type": "stream",
     "text": [
      "Log Loss for training data\n",
      "0.694533968622437\n",
      "**************************************************************************\n",
      "Log Loss for validation data\n",
      "1.1315414186933241\n",
      "**************************************************************************\n",
      "Log Loss for testing data\n",
      "1.0924007206215742\n",
      "**************************************************************************\n"
     ]
    }
   ],
   "source": [
    "# fit and evaluate logistic regression on gene and variation together\n",
    "loj = LogisticRegression(random_state=0)\n",
    "loj_model = loj.fit(gene_variation_train, y_train)\n",
    "evaluate_model(loj_model,gene_variation_train,y_train,'training')\n",
    "evaluate_model(loj_model,gene_variation_val,y_val,'validation')\n",
    "evaluate_model(loj_model,gene_variation_test,y_test,'testing')\n"
   ]
  },
  {
   "cell_type": "code",
   "execution_count": 62,
   "id": "b1fb953b-8c6d-4922-ba1c-7e6238bf2aa1",
   "metadata": {},
   "outputs": [],
   "source": [
    "# Import necessary libraries\n",
    "from sklearn.feature_extraction.text import TfidfVectorizer\n",
    "from sklearn.preprocessing import normalize"
   ]
  },
  {
   "cell_type": "code",
   "execution_count": 63,
   "id": "3ceb2d05-9bfd-4d65-a0ea-beb8a56f3822",
   "metadata": {},
   "outputs": [],
   "source": [
    "# building a Vectorizer with gnoring terms that appear in less than 400 documents\".\n",
    "#TfidfVectorizer weights the word counts by a measure of how often they appear in the documents.\n",
    "\n",
    "\n",
    "text_vectorizer = TfidfVectorizer(min_df=400,stop_words=\"english\")\n",
    "\n",
    "train_text_feature_onehotCoding = text_vectorizer.fit_transform(X_train['TEXT'])\n",
    "val_text_feature_onehotCoding=text_vectorizer.transform(X_val[\"TEXT\"])\n",
    "test_text_feature_onehotCoding=text_vectorizer.transform(X_test[\"TEXT\"])\n",
    "\n",
    "#normalizing to give unit norm\n",
    "train_text_feature_onehotCoding=normalize(train_text_feature_onehotCoding, axis=0)\n",
    "val_text_feature_onehotCoding=normalize(val_text_feature_onehotCoding, axis=0)\n",
    "test_text_feature_onehotCoding=normalize(test_text_feature_onehotCoding, axis=0)\n",
    "\n",
    "# getting all the feature names (words)\n",
    "train_text_features= text_vectorizer.get_feature_names_out()"
   ]
  },
  {
   "cell_type": "code",
   "execution_count": 64,
   "id": "6324cec9-906e-44ed-847b-bbacdf5db35d",
   "metadata": {
    "scrolled": true
   },
   "outputs": [
    {
     "data": {
      "text/plain": [
       "2863    mutation screening breast ovarian cancer predi...\n",
       "2307    recent work highlighted role jak janus kinase ...\n",
       "2670    genetic screening breast ovarian cancer suscep...\n",
       "2300    pediatric acute lymphoblastic leukemia heterog...\n",
       "2532    genetic screening breast ovarian cancer suscep...\n",
       "Name: TEXT, dtype: object"
      ]
     },
     "execution_count": 64,
     "metadata": {},
     "output_type": "execute_result"
    }
   ],
   "source": [
    "X_val[\"TEXT\"].head()"
   ]
  },
  {
   "cell_type": "code",
   "execution_count": 65,
   "id": "a254f792-7f47-40ea-96b2-ef2f46395be5",
   "metadata": {
    "scrolled": true
   },
   "outputs": [
    {
     "name": "stdout",
     "output_type": "stream",
     "text": [
      "Log Loss for training data\n",
      "0.9544476057820844\n",
      "**************************************************************************\n",
      "Log Loss for validation data\n",
      "1.2925491688158242\n",
      "**************************************************************************\n",
      "Log Loss for testing data\n",
      "1.2183750780066378\n",
      "**************************************************************************\n"
     ]
    }
   ],
   "source": [
    "loj = LogisticRegression(random_state=0)\n",
    "loj_model = loj.fit(train_text_feature_onehotCoding, y_train)\n",
    "evaluate_model(loj_model,train_text_feature_onehotCoding,y_train,'training')\n",
    "evaluate_model(loj_model,val_text_feature_onehotCoding,y_val,'validation')\n",
    "evaluate_model(loj_model,test_text_feature_onehotCoding,y_test,'testing')"
   ]
  },
  {
   "cell_type": "code",
   "execution_count": 66,
   "id": "39811bd0-2638-4c7d-b5b6-4b22b382c011",
   "metadata": {},
   "outputs": [],
   "source": [
    "train_text_feature_onehotCoding=pd.DataFrame(train_text_feature_onehotCoding.toarray())\n",
    "val_text_feature_onehotCoding=pd.DataFrame(val_text_feature_onehotCoding.toarray())\n",
    "test_text_feature_onehotCoding=pd.DataFrame(test_text_feature_onehotCoding.toarray())"
   ]
  },
  {
   "cell_type": "code",
   "execution_count": 67,
   "id": "6f4c8564-7d3a-4493-ac36-3837ef9be03b",
   "metadata": {
    "scrolled": true
   },
   "outputs": [
    {
     "data": {
      "text/html": [
       "<div>\n",
       "<style scoped>\n",
       "    .dataframe tbody tr th:only-of-type {\n",
       "        vertical-align: middle;\n",
       "    }\n",
       "\n",
       "    .dataframe tbody tr th {\n",
       "        vertical-align: top;\n",
       "    }\n",
       "\n",
       "    .dataframe thead th {\n",
       "        text-align: right;\n",
       "    }\n",
       "</style>\n",
       "<table border=\"1\" class=\"dataframe\">\n",
       "  <thead>\n",
       "    <tr style=\"text-align: right;\">\n",
       "      <th></th>\n",
       "      <th>0</th>\n",
       "      <th>1</th>\n",
       "      <th>2</th>\n",
       "      <th>3</th>\n",
       "      <th>4</th>\n",
       "      <th>5</th>\n",
       "      <th>6</th>\n",
       "      <th>7</th>\n",
       "      <th>8</th>\n",
       "      <th>9</th>\n",
       "      <th>...</th>\n",
       "      <th>2165</th>\n",
       "      <th>2166</th>\n",
       "      <th>2167</th>\n",
       "      <th>2168</th>\n",
       "      <th>2169</th>\n",
       "      <th>2170</th>\n",
       "      <th>2171</th>\n",
       "      <th>2172</th>\n",
       "      <th>2173</th>\n",
       "      <th>2174</th>\n",
       "    </tr>\n",
       "  </thead>\n",
       "  <tbody>\n",
       "    <tr>\n",
       "      <th>0</th>\n",
       "      <td>0.000000</td>\n",
       "      <td>0.000000</td>\n",
       "      <td>0.000000</td>\n",
       "      <td>0.000000</td>\n",
       "      <td>0.009651</td>\n",
       "      <td>0.005180</td>\n",
       "      <td>0.000000</td>\n",
       "      <td>0.003359</td>\n",
       "      <td>0.005790</td>\n",
       "      <td>0.000000</td>\n",
       "      <td>...</td>\n",
       "      <td>0.014380</td>\n",
       "      <td>0.003014</td>\n",
       "      <td>0.023070</td>\n",
       "      <td>0.00000</td>\n",
       "      <td>0.001874</td>\n",
       "      <td>0.001402</td>\n",
       "      <td>0.000000</td>\n",
       "      <td>0.000000</td>\n",
       "      <td>0.000000</td>\n",
       "      <td>0.000000</td>\n",
       "    </tr>\n",
       "    <tr>\n",
       "      <th>1</th>\n",
       "      <td>0.000000</td>\n",
       "      <td>0.019071</td>\n",
       "      <td>0.001901</td>\n",
       "      <td>0.019546</td>\n",
       "      <td>0.006643</td>\n",
       "      <td>0.009805</td>\n",
       "      <td>0.000000</td>\n",
       "      <td>0.000000</td>\n",
       "      <td>0.000000</td>\n",
       "      <td>0.008580</td>\n",
       "      <td>...</td>\n",
       "      <td>0.000000</td>\n",
       "      <td>0.000000</td>\n",
       "      <td>0.006806</td>\n",
       "      <td>0.00000</td>\n",
       "      <td>0.000000</td>\n",
       "      <td>0.000965</td>\n",
       "      <td>0.002504</td>\n",
       "      <td>0.000000</td>\n",
       "      <td>0.008396</td>\n",
       "      <td>0.042783</td>\n",
       "    </tr>\n",
       "    <tr>\n",
       "      <th>2</th>\n",
       "      <td>0.000000</td>\n",
       "      <td>0.000000</td>\n",
       "      <td>0.000000</td>\n",
       "      <td>0.000000</td>\n",
       "      <td>0.000000</td>\n",
       "      <td>0.011506</td>\n",
       "      <td>0.149524</td>\n",
       "      <td>0.000000</td>\n",
       "      <td>0.000000</td>\n",
       "      <td>0.000000</td>\n",
       "      <td>...</td>\n",
       "      <td>0.000000</td>\n",
       "      <td>0.008928</td>\n",
       "      <td>0.000000</td>\n",
       "      <td>0.00000</td>\n",
       "      <td>0.000000</td>\n",
       "      <td>0.012460</td>\n",
       "      <td>0.000000</td>\n",
       "      <td>0.000000</td>\n",
       "      <td>0.000000</td>\n",
       "      <td>0.000000</td>\n",
       "    </tr>\n",
       "    <tr>\n",
       "      <th>3</th>\n",
       "      <td>0.000000</td>\n",
       "      <td>0.000000</td>\n",
       "      <td>0.000000</td>\n",
       "      <td>0.000000</td>\n",
       "      <td>0.000000</td>\n",
       "      <td>0.031341</td>\n",
       "      <td>0.000000</td>\n",
       "      <td>0.009033</td>\n",
       "      <td>0.015570</td>\n",
       "      <td>0.008379</td>\n",
       "      <td>...</td>\n",
       "      <td>0.038669</td>\n",
       "      <td>0.008106</td>\n",
       "      <td>0.000000</td>\n",
       "      <td>0.00000</td>\n",
       "      <td>0.000000</td>\n",
       "      <td>0.000000</td>\n",
       "      <td>0.000000</td>\n",
       "      <td>0.000000</td>\n",
       "      <td>0.032803</td>\n",
       "      <td>0.000000</td>\n",
       "    </tr>\n",
       "    <tr>\n",
       "      <th>4</th>\n",
       "      <td>0.019933</td>\n",
       "      <td>0.000000</td>\n",
       "      <td>0.010485</td>\n",
       "      <td>0.000000</td>\n",
       "      <td>0.009160</td>\n",
       "      <td>0.047936</td>\n",
       "      <td>0.000000</td>\n",
       "      <td>0.019130</td>\n",
       "      <td>0.021983</td>\n",
       "      <td>0.011831</td>\n",
       "      <td>...</td>\n",
       "      <td>0.000000</td>\n",
       "      <td>0.001907</td>\n",
       "      <td>0.009385</td>\n",
       "      <td>0.00000</td>\n",
       "      <td>0.000000</td>\n",
       "      <td>0.000000</td>\n",
       "      <td>0.001151</td>\n",
       "      <td>0.021436</td>\n",
       "      <td>0.000000</td>\n",
       "      <td>0.000000</td>\n",
       "    </tr>\n",
       "    <tr>\n",
       "      <th>...</th>\n",
       "      <td>...</td>\n",
       "      <td>...</td>\n",
       "      <td>...</td>\n",
       "      <td>...</td>\n",
       "      <td>...</td>\n",
       "      <td>...</td>\n",
       "      <td>...</td>\n",
       "      <td>...</td>\n",
       "      <td>...</td>\n",
       "      <td>...</td>\n",
       "      <td>...</td>\n",
       "      <td>...</td>\n",
       "      <td>...</td>\n",
       "      <td>...</td>\n",
       "      <td>...</td>\n",
       "      <td>...</td>\n",
       "      <td>...</td>\n",
       "      <td>...</td>\n",
       "      <td>...</td>\n",
       "      <td>...</td>\n",
       "      <td>...</td>\n",
       "    </tr>\n",
       "    <tr>\n",
       "      <th>2651</th>\n",
       "      <td>0.000000</td>\n",
       "      <td>0.000000</td>\n",
       "      <td>0.000000</td>\n",
       "      <td>0.000000</td>\n",
       "      <td>0.000000</td>\n",
       "      <td>0.000000</td>\n",
       "      <td>0.000000</td>\n",
       "      <td>0.000000</td>\n",
       "      <td>0.000000</td>\n",
       "      <td>0.000000</td>\n",
       "      <td>...</td>\n",
       "      <td>0.000000</td>\n",
       "      <td>0.000000</td>\n",
       "      <td>0.028462</td>\n",
       "      <td>0.00000</td>\n",
       "      <td>0.000000</td>\n",
       "      <td>0.000000</td>\n",
       "      <td>0.000000</td>\n",
       "      <td>0.000000</td>\n",
       "      <td>0.000000</td>\n",
       "      <td>0.000000</td>\n",
       "    </tr>\n",
       "    <tr>\n",
       "      <th>2652</th>\n",
       "      <td>0.000000</td>\n",
       "      <td>0.000000</td>\n",
       "      <td>0.000000</td>\n",
       "      <td>0.000000</td>\n",
       "      <td>0.000000</td>\n",
       "      <td>0.005185</td>\n",
       "      <td>0.000000</td>\n",
       "      <td>0.000000</td>\n",
       "      <td>0.000000</td>\n",
       "      <td>0.000000</td>\n",
       "      <td>...</td>\n",
       "      <td>0.057578</td>\n",
       "      <td>0.000000</td>\n",
       "      <td>0.000000</td>\n",
       "      <td>0.00000</td>\n",
       "      <td>0.000000</td>\n",
       "      <td>0.005615</td>\n",
       "      <td>0.000000</td>\n",
       "      <td>0.000000</td>\n",
       "      <td>0.000000</td>\n",
       "      <td>0.049774</td>\n",
       "    </tr>\n",
       "    <tr>\n",
       "      <th>2653</th>\n",
       "      <td>0.002617</td>\n",
       "      <td>0.000000</td>\n",
       "      <td>0.003097</td>\n",
       "      <td>0.010615</td>\n",
       "      <td>0.010823</td>\n",
       "      <td>0.001452</td>\n",
       "      <td>0.005806</td>\n",
       "      <td>0.003767</td>\n",
       "      <td>0.000000</td>\n",
       "      <td>0.000000</td>\n",
       "      <td>...</td>\n",
       "      <td>0.000000</td>\n",
       "      <td>0.000563</td>\n",
       "      <td>0.003696</td>\n",
       "      <td>0.00706</td>\n",
       "      <td>0.000000</td>\n",
       "      <td>0.014153</td>\n",
       "      <td>0.000000</td>\n",
       "      <td>0.000000</td>\n",
       "      <td>0.000000</td>\n",
       "      <td>0.000000</td>\n",
       "    </tr>\n",
       "    <tr>\n",
       "      <th>2654</th>\n",
       "      <td>0.000000</td>\n",
       "      <td>0.000000</td>\n",
       "      <td>0.000000</td>\n",
       "      <td>0.000000</td>\n",
       "      <td>0.000000</td>\n",
       "      <td>0.000000</td>\n",
       "      <td>0.000000</td>\n",
       "      <td>0.000000</td>\n",
       "      <td>0.000000</td>\n",
       "      <td>0.000000</td>\n",
       "      <td>...</td>\n",
       "      <td>0.000000</td>\n",
       "      <td>0.016698</td>\n",
       "      <td>0.000000</td>\n",
       "      <td>0.00000</td>\n",
       "      <td>0.000000</td>\n",
       "      <td>0.000000</td>\n",
       "      <td>0.000000</td>\n",
       "      <td>0.000000</td>\n",
       "      <td>0.000000</td>\n",
       "      <td>0.000000</td>\n",
       "    </tr>\n",
       "    <tr>\n",
       "      <th>2655</th>\n",
       "      <td>0.000000</td>\n",
       "      <td>0.003369</td>\n",
       "      <td>0.001343</td>\n",
       "      <td>0.000000</td>\n",
       "      <td>0.000000</td>\n",
       "      <td>0.020153</td>\n",
       "      <td>0.000000</td>\n",
       "      <td>0.009802</td>\n",
       "      <td>0.000000</td>\n",
       "      <td>0.001515</td>\n",
       "      <td>...</td>\n",
       "      <td>0.000000</td>\n",
       "      <td>0.000244</td>\n",
       "      <td>0.000000</td>\n",
       "      <td>0.00000</td>\n",
       "      <td>0.000000</td>\n",
       "      <td>0.000000</td>\n",
       "      <td>0.000000</td>\n",
       "      <td>0.003661</td>\n",
       "      <td>0.005932</td>\n",
       "      <td>0.000000</td>\n",
       "    </tr>\n",
       "  </tbody>\n",
       "</table>\n",
       "<p>2656 rows × 2175 columns</p>\n",
       "</div>"
      ],
      "text/plain": [
       "          0         1         2         3         4         5         6     \\\n",
       "0     0.000000  0.000000  0.000000  0.000000  0.009651  0.005180  0.000000   \n",
       "1     0.000000  0.019071  0.001901  0.019546  0.006643  0.009805  0.000000   \n",
       "2     0.000000  0.000000  0.000000  0.000000  0.000000  0.011506  0.149524   \n",
       "3     0.000000  0.000000  0.000000  0.000000  0.000000  0.031341  0.000000   \n",
       "4     0.019933  0.000000  0.010485  0.000000  0.009160  0.047936  0.000000   \n",
       "...        ...       ...       ...       ...       ...       ...       ...   \n",
       "2651  0.000000  0.000000  0.000000  0.000000  0.000000  0.000000  0.000000   \n",
       "2652  0.000000  0.000000  0.000000  0.000000  0.000000  0.005185  0.000000   \n",
       "2653  0.002617  0.000000  0.003097  0.010615  0.010823  0.001452  0.005806   \n",
       "2654  0.000000  0.000000  0.000000  0.000000  0.000000  0.000000  0.000000   \n",
       "2655  0.000000  0.003369  0.001343  0.000000  0.000000  0.020153  0.000000   \n",
       "\n",
       "          7         8         9     ...      2165      2166      2167  \\\n",
       "0     0.003359  0.005790  0.000000  ...  0.014380  0.003014  0.023070   \n",
       "1     0.000000  0.000000  0.008580  ...  0.000000  0.000000  0.006806   \n",
       "2     0.000000  0.000000  0.000000  ...  0.000000  0.008928  0.000000   \n",
       "3     0.009033  0.015570  0.008379  ...  0.038669  0.008106  0.000000   \n",
       "4     0.019130  0.021983  0.011831  ...  0.000000  0.001907  0.009385   \n",
       "...        ...       ...       ...  ...       ...       ...       ...   \n",
       "2651  0.000000  0.000000  0.000000  ...  0.000000  0.000000  0.028462   \n",
       "2652  0.000000  0.000000  0.000000  ...  0.057578  0.000000  0.000000   \n",
       "2653  0.003767  0.000000  0.000000  ...  0.000000  0.000563  0.003696   \n",
       "2654  0.000000  0.000000  0.000000  ...  0.000000  0.016698  0.000000   \n",
       "2655  0.009802  0.000000  0.001515  ...  0.000000  0.000244  0.000000   \n",
       "\n",
       "         2168      2169      2170      2171      2172      2173      2174  \n",
       "0     0.00000  0.001874  0.001402  0.000000  0.000000  0.000000  0.000000  \n",
       "1     0.00000  0.000000  0.000965  0.002504  0.000000  0.008396  0.042783  \n",
       "2     0.00000  0.000000  0.012460  0.000000  0.000000  0.000000  0.000000  \n",
       "3     0.00000  0.000000  0.000000  0.000000  0.000000  0.032803  0.000000  \n",
       "4     0.00000  0.000000  0.000000  0.001151  0.021436  0.000000  0.000000  \n",
       "...       ...       ...       ...       ...       ...       ...       ...  \n",
       "2651  0.00000  0.000000  0.000000  0.000000  0.000000  0.000000  0.000000  \n",
       "2652  0.00000  0.000000  0.005615  0.000000  0.000000  0.000000  0.049774  \n",
       "2653  0.00706  0.000000  0.014153  0.000000  0.000000  0.000000  0.000000  \n",
       "2654  0.00000  0.000000  0.000000  0.000000  0.000000  0.000000  0.000000  \n",
       "2655  0.00000  0.000000  0.000000  0.000000  0.003661  0.005932  0.000000  \n",
       "\n",
       "[2656 rows x 2175 columns]"
      ]
     },
     "execution_count": 67,
     "metadata": {},
     "output_type": "execute_result"
    }
   ],
   "source": [
    "train_text_feature_onehotCoding"
   ]
  },
  {
   "cell_type": "code",
   "execution_count": 68,
   "id": "2cb0c43c-5b8c-4cf3-821e-4be9e9e3ce68",
   "metadata": {},
   "outputs": [],
   "source": [
    "#incase it is organized depending on indeces\n",
    "gene_variation_train.reset_index(drop=True, inplace=True)\n",
    "gene_variation_val.reset_index(drop=True, inplace=True)\n",
    "gene_variation_test.reset_index(drop=True, inplace=True)\n"
   ]
  },
  {
   "cell_type": "code",
   "execution_count": 69,
   "id": "183d6e2d-fe93-4c31-b80c-9596c1025561",
   "metadata": {
    "scrolled": true
   },
   "outputs": [
    {
     "data": {
      "text/html": [
       "<div>\n",
       "<style scoped>\n",
       "    .dataframe tbody tr th:only-of-type {\n",
       "        vertical-align: middle;\n",
       "    }\n",
       "\n",
       "    .dataframe tbody tr th {\n",
       "        vertical-align: top;\n",
       "    }\n",
       "\n",
       "    .dataframe thead th {\n",
       "        text-align: right;\n",
       "    }\n",
       "</style>\n",
       "<table border=\"1\" class=\"dataframe\">\n",
       "  <thead>\n",
       "    <tr style=\"text-align: right;\">\n",
       "      <th></th>\n",
       "      <th>2010_2471trunc</th>\n",
       "      <th>256_286trunc</th>\n",
       "      <th>3' Deletion</th>\n",
       "      <th>385_418del</th>\n",
       "      <th>422_605trunc</th>\n",
       "      <th>533_534del</th>\n",
       "      <th>534_536del</th>\n",
       "      <th>550_592del</th>\n",
       "      <th>560_561insER</th>\n",
       "      <th>596_619splice</th>\n",
       "      <th>...</th>\n",
       "      <th>TSC1</th>\n",
       "      <th>TSC2</th>\n",
       "      <th>U2AF1</th>\n",
       "      <th>VEGFA</th>\n",
       "      <th>VHL</th>\n",
       "      <th>WHSC1</th>\n",
       "      <th>WHSC1L1</th>\n",
       "      <th>XPO1</th>\n",
       "      <th>XRCC2</th>\n",
       "      <th>YAP1</th>\n",
       "    </tr>\n",
       "  </thead>\n",
       "  <tbody>\n",
       "    <tr>\n",
       "      <th>0</th>\n",
       "      <td>False</td>\n",
       "      <td>False</td>\n",
       "      <td>False</td>\n",
       "      <td>False</td>\n",
       "      <td>False</td>\n",
       "      <td>False</td>\n",
       "      <td>False</td>\n",
       "      <td>False</td>\n",
       "      <td>False</td>\n",
       "      <td>False</td>\n",
       "      <td>...</td>\n",
       "      <td>False</td>\n",
       "      <td>False</td>\n",
       "      <td>False</td>\n",
       "      <td>False</td>\n",
       "      <td>False</td>\n",
       "      <td>False</td>\n",
       "      <td>False</td>\n",
       "      <td>False</td>\n",
       "      <td>False</td>\n",
       "      <td>False</td>\n",
       "    </tr>\n",
       "    <tr>\n",
       "      <th>1</th>\n",
       "      <td>False</td>\n",
       "      <td>False</td>\n",
       "      <td>False</td>\n",
       "      <td>False</td>\n",
       "      <td>False</td>\n",
       "      <td>False</td>\n",
       "      <td>False</td>\n",
       "      <td>False</td>\n",
       "      <td>False</td>\n",
       "      <td>False</td>\n",
       "      <td>...</td>\n",
       "      <td>False</td>\n",
       "      <td>False</td>\n",
       "      <td>False</td>\n",
       "      <td>False</td>\n",
       "      <td>False</td>\n",
       "      <td>False</td>\n",
       "      <td>False</td>\n",
       "      <td>False</td>\n",
       "      <td>False</td>\n",
       "      <td>False</td>\n",
       "    </tr>\n",
       "    <tr>\n",
       "      <th>2</th>\n",
       "      <td>False</td>\n",
       "      <td>False</td>\n",
       "      <td>False</td>\n",
       "      <td>False</td>\n",
       "      <td>False</td>\n",
       "      <td>False</td>\n",
       "      <td>False</td>\n",
       "      <td>False</td>\n",
       "      <td>False</td>\n",
       "      <td>False</td>\n",
       "      <td>...</td>\n",
       "      <td>False</td>\n",
       "      <td>False</td>\n",
       "      <td>False</td>\n",
       "      <td>False</td>\n",
       "      <td>False</td>\n",
       "      <td>False</td>\n",
       "      <td>False</td>\n",
       "      <td>False</td>\n",
       "      <td>False</td>\n",
       "      <td>False</td>\n",
       "    </tr>\n",
       "    <tr>\n",
       "      <th>3</th>\n",
       "      <td>False</td>\n",
       "      <td>False</td>\n",
       "      <td>False</td>\n",
       "      <td>False</td>\n",
       "      <td>False</td>\n",
       "      <td>False</td>\n",
       "      <td>False</td>\n",
       "      <td>False</td>\n",
       "      <td>False</td>\n",
       "      <td>False</td>\n",
       "      <td>...</td>\n",
       "      <td>False</td>\n",
       "      <td>False</td>\n",
       "      <td>False</td>\n",
       "      <td>False</td>\n",
       "      <td>False</td>\n",
       "      <td>False</td>\n",
       "      <td>False</td>\n",
       "      <td>False</td>\n",
       "      <td>False</td>\n",
       "      <td>False</td>\n",
       "    </tr>\n",
       "    <tr>\n",
       "      <th>4</th>\n",
       "      <td>False</td>\n",
       "      <td>False</td>\n",
       "      <td>False</td>\n",
       "      <td>False</td>\n",
       "      <td>False</td>\n",
       "      <td>False</td>\n",
       "      <td>False</td>\n",
       "      <td>False</td>\n",
       "      <td>False</td>\n",
       "      <td>False</td>\n",
       "      <td>...</td>\n",
       "      <td>False</td>\n",
       "      <td>False</td>\n",
       "      <td>False</td>\n",
       "      <td>False</td>\n",
       "      <td>False</td>\n",
       "      <td>False</td>\n",
       "      <td>False</td>\n",
       "      <td>False</td>\n",
       "      <td>False</td>\n",
       "      <td>False</td>\n",
       "    </tr>\n",
       "    <tr>\n",
       "      <th>...</th>\n",
       "      <td>...</td>\n",
       "      <td>...</td>\n",
       "      <td>...</td>\n",
       "      <td>...</td>\n",
       "      <td>...</td>\n",
       "      <td>...</td>\n",
       "      <td>...</td>\n",
       "      <td>...</td>\n",
       "      <td>...</td>\n",
       "      <td>...</td>\n",
       "      <td>...</td>\n",
       "      <td>...</td>\n",
       "      <td>...</td>\n",
       "      <td>...</td>\n",
       "      <td>...</td>\n",
       "      <td>...</td>\n",
       "      <td>...</td>\n",
       "      <td>...</td>\n",
       "      <td>...</td>\n",
       "      <td>...</td>\n",
       "      <td>...</td>\n",
       "    </tr>\n",
       "    <tr>\n",
       "      <th>2651</th>\n",
       "      <td>False</td>\n",
       "      <td>False</td>\n",
       "      <td>False</td>\n",
       "      <td>False</td>\n",
       "      <td>False</td>\n",
       "      <td>False</td>\n",
       "      <td>False</td>\n",
       "      <td>False</td>\n",
       "      <td>False</td>\n",
       "      <td>False</td>\n",
       "      <td>...</td>\n",
       "      <td>False</td>\n",
       "      <td>False</td>\n",
       "      <td>False</td>\n",
       "      <td>False</td>\n",
       "      <td>False</td>\n",
       "      <td>False</td>\n",
       "      <td>False</td>\n",
       "      <td>False</td>\n",
       "      <td>False</td>\n",
       "      <td>False</td>\n",
       "    </tr>\n",
       "    <tr>\n",
       "      <th>2652</th>\n",
       "      <td>False</td>\n",
       "      <td>False</td>\n",
       "      <td>False</td>\n",
       "      <td>False</td>\n",
       "      <td>False</td>\n",
       "      <td>False</td>\n",
       "      <td>False</td>\n",
       "      <td>False</td>\n",
       "      <td>False</td>\n",
       "      <td>False</td>\n",
       "      <td>...</td>\n",
       "      <td>False</td>\n",
       "      <td>False</td>\n",
       "      <td>False</td>\n",
       "      <td>False</td>\n",
       "      <td>False</td>\n",
       "      <td>False</td>\n",
       "      <td>False</td>\n",
       "      <td>False</td>\n",
       "      <td>False</td>\n",
       "      <td>False</td>\n",
       "    </tr>\n",
       "    <tr>\n",
       "      <th>2653</th>\n",
       "      <td>False</td>\n",
       "      <td>False</td>\n",
       "      <td>False</td>\n",
       "      <td>False</td>\n",
       "      <td>False</td>\n",
       "      <td>False</td>\n",
       "      <td>False</td>\n",
       "      <td>False</td>\n",
       "      <td>False</td>\n",
       "      <td>False</td>\n",
       "      <td>...</td>\n",
       "      <td>False</td>\n",
       "      <td>False</td>\n",
       "      <td>False</td>\n",
       "      <td>False</td>\n",
       "      <td>False</td>\n",
       "      <td>False</td>\n",
       "      <td>False</td>\n",
       "      <td>False</td>\n",
       "      <td>False</td>\n",
       "      <td>False</td>\n",
       "    </tr>\n",
       "    <tr>\n",
       "      <th>2654</th>\n",
       "      <td>False</td>\n",
       "      <td>False</td>\n",
       "      <td>False</td>\n",
       "      <td>False</td>\n",
       "      <td>False</td>\n",
       "      <td>False</td>\n",
       "      <td>False</td>\n",
       "      <td>False</td>\n",
       "      <td>False</td>\n",
       "      <td>False</td>\n",
       "      <td>...</td>\n",
       "      <td>False</td>\n",
       "      <td>False</td>\n",
       "      <td>False</td>\n",
       "      <td>False</td>\n",
       "      <td>False</td>\n",
       "      <td>False</td>\n",
       "      <td>False</td>\n",
       "      <td>False</td>\n",
       "      <td>False</td>\n",
       "      <td>False</td>\n",
       "    </tr>\n",
       "    <tr>\n",
       "      <th>2655</th>\n",
       "      <td>False</td>\n",
       "      <td>False</td>\n",
       "      <td>False</td>\n",
       "      <td>False</td>\n",
       "      <td>False</td>\n",
       "      <td>False</td>\n",
       "      <td>False</td>\n",
       "      <td>False</td>\n",
       "      <td>False</td>\n",
       "      <td>False</td>\n",
       "      <td>...</td>\n",
       "      <td>False</td>\n",
       "      <td>False</td>\n",
       "      <td>False</td>\n",
       "      <td>False</td>\n",
       "      <td>False</td>\n",
       "      <td>False</td>\n",
       "      <td>False</td>\n",
       "      <td>False</td>\n",
       "      <td>False</td>\n",
       "      <td>False</td>\n",
       "    </tr>\n",
       "  </tbody>\n",
       "</table>\n",
       "<p>2656 rows × 2649 columns</p>\n",
       "</div>"
      ],
      "text/plain": [
       "      2010_2471trunc  256_286trunc  3' Deletion  385_418del  422_605trunc  \\\n",
       "0              False         False        False       False         False   \n",
       "1              False         False        False       False         False   \n",
       "2              False         False        False       False         False   \n",
       "3              False         False        False       False         False   \n",
       "4              False         False        False       False         False   \n",
       "...              ...           ...          ...         ...           ...   \n",
       "2651           False         False        False       False         False   \n",
       "2652           False         False        False       False         False   \n",
       "2653           False         False        False       False         False   \n",
       "2654           False         False        False       False         False   \n",
       "2655           False         False        False       False         False   \n",
       "\n",
       "      533_534del  534_536del  550_592del  560_561insER  596_619splice  ...  \\\n",
       "0          False       False       False         False          False  ...   \n",
       "1          False       False       False         False          False  ...   \n",
       "2          False       False       False         False          False  ...   \n",
       "3          False       False       False         False          False  ...   \n",
       "4          False       False       False         False          False  ...   \n",
       "...          ...         ...         ...           ...            ...  ...   \n",
       "2651       False       False       False         False          False  ...   \n",
       "2652       False       False       False         False          False  ...   \n",
       "2653       False       False       False         False          False  ...   \n",
       "2654       False       False       False         False          False  ...   \n",
       "2655       False       False       False         False          False  ...   \n",
       "\n",
       "       TSC1   TSC2  U2AF1  VEGFA    VHL  WHSC1  WHSC1L1   XPO1  XRCC2   YAP1  \n",
       "0     False  False  False  False  False  False    False  False  False  False  \n",
       "1     False  False  False  False  False  False    False  False  False  False  \n",
       "2     False  False  False  False  False  False    False  False  False  False  \n",
       "3     False  False  False  False  False  False    False  False  False  False  \n",
       "4     False  False  False  False  False  False    False  False  False  False  \n",
       "...     ...    ...    ...    ...    ...    ...      ...    ...    ...    ...  \n",
       "2651  False  False  False  False  False  False    False  False  False  False  \n",
       "2652  False  False  False  False  False  False    False  False  False  False  \n",
       "2653  False  False  False  False  False  False    False  False  False  False  \n",
       "2654  False  False  False  False  False  False    False  False  False  False  \n",
       "2655  False  False  False  False  False  False    False  False  False  False  \n",
       "\n",
       "[2656 rows x 2649 columns]"
      ]
     },
     "execution_count": 69,
     "metadata": {},
     "output_type": "execute_result"
    }
   ],
   "source": [
    "gene_variation_train"
   ]
  },
  {
   "cell_type": "code",
   "execution_count": 70,
   "id": "52205da1-f82e-4906-a491-50fe83e14923",
   "metadata": {},
   "outputs": [],
   "source": [
    "gene_variation_text_train=pd.concat([train_text_feature_onehotCoding,gene_variation_train],axis=1)\n",
    "gene_variation_text_val= pd.concat([val_text_feature_onehotCoding,gene_variation_val],axis=1)\n",
    "gene_variation_text_test=pd.concat([test_text_feature_onehotCoding,gene_variation_test],axis=1)"
   ]
  },
  {
   "cell_type": "code",
   "execution_count": 71,
   "id": "946ad41e-b35f-40ea-aa0e-a15476021387",
   "metadata": {
    "scrolled": true
   },
   "outputs": [
    {
     "data": {
      "text/html": [
       "<div>\n",
       "<style scoped>\n",
       "    .dataframe tbody tr th:only-of-type {\n",
       "        vertical-align: middle;\n",
       "    }\n",
       "\n",
       "    .dataframe tbody tr th {\n",
       "        vertical-align: top;\n",
       "    }\n",
       "\n",
       "    .dataframe thead th {\n",
       "        text-align: right;\n",
       "    }\n",
       "</style>\n",
       "<table border=\"1\" class=\"dataframe\">\n",
       "  <thead>\n",
       "    <tr style=\"text-align: right;\">\n",
       "      <th></th>\n",
       "      <th>0</th>\n",
       "      <th>1</th>\n",
       "      <th>2</th>\n",
       "      <th>3</th>\n",
       "      <th>4</th>\n",
       "      <th>5</th>\n",
       "      <th>6</th>\n",
       "      <th>7</th>\n",
       "      <th>8</th>\n",
       "      <th>9</th>\n",
       "      <th>...</th>\n",
       "      <th>2165</th>\n",
       "      <th>2166</th>\n",
       "      <th>2167</th>\n",
       "      <th>2168</th>\n",
       "      <th>2169</th>\n",
       "      <th>2170</th>\n",
       "      <th>2171</th>\n",
       "      <th>2172</th>\n",
       "      <th>2173</th>\n",
       "      <th>2174</th>\n",
       "    </tr>\n",
       "  </thead>\n",
       "  <tbody>\n",
       "    <tr>\n",
       "      <th>0</th>\n",
       "      <td>0.000000</td>\n",
       "      <td>0.000000</td>\n",
       "      <td>0.000000</td>\n",
       "      <td>0.000000</td>\n",
       "      <td>0.009651</td>\n",
       "      <td>0.005180</td>\n",
       "      <td>0.000000</td>\n",
       "      <td>0.003359</td>\n",
       "      <td>0.005790</td>\n",
       "      <td>0.000000</td>\n",
       "      <td>...</td>\n",
       "      <td>0.014380</td>\n",
       "      <td>0.003014</td>\n",
       "      <td>0.023070</td>\n",
       "      <td>0.00000</td>\n",
       "      <td>0.001874</td>\n",
       "      <td>0.001402</td>\n",
       "      <td>0.000000</td>\n",
       "      <td>0.000000</td>\n",
       "      <td>0.000000</td>\n",
       "      <td>0.000000</td>\n",
       "    </tr>\n",
       "    <tr>\n",
       "      <th>1</th>\n",
       "      <td>0.000000</td>\n",
       "      <td>0.019071</td>\n",
       "      <td>0.001901</td>\n",
       "      <td>0.019546</td>\n",
       "      <td>0.006643</td>\n",
       "      <td>0.009805</td>\n",
       "      <td>0.000000</td>\n",
       "      <td>0.000000</td>\n",
       "      <td>0.000000</td>\n",
       "      <td>0.008580</td>\n",
       "      <td>...</td>\n",
       "      <td>0.000000</td>\n",
       "      <td>0.000000</td>\n",
       "      <td>0.006806</td>\n",
       "      <td>0.00000</td>\n",
       "      <td>0.000000</td>\n",
       "      <td>0.000965</td>\n",
       "      <td>0.002504</td>\n",
       "      <td>0.000000</td>\n",
       "      <td>0.008396</td>\n",
       "      <td>0.042783</td>\n",
       "    </tr>\n",
       "    <tr>\n",
       "      <th>2</th>\n",
       "      <td>0.000000</td>\n",
       "      <td>0.000000</td>\n",
       "      <td>0.000000</td>\n",
       "      <td>0.000000</td>\n",
       "      <td>0.000000</td>\n",
       "      <td>0.011506</td>\n",
       "      <td>0.149524</td>\n",
       "      <td>0.000000</td>\n",
       "      <td>0.000000</td>\n",
       "      <td>0.000000</td>\n",
       "      <td>...</td>\n",
       "      <td>0.000000</td>\n",
       "      <td>0.008928</td>\n",
       "      <td>0.000000</td>\n",
       "      <td>0.00000</td>\n",
       "      <td>0.000000</td>\n",
       "      <td>0.012460</td>\n",
       "      <td>0.000000</td>\n",
       "      <td>0.000000</td>\n",
       "      <td>0.000000</td>\n",
       "      <td>0.000000</td>\n",
       "    </tr>\n",
       "    <tr>\n",
       "      <th>3</th>\n",
       "      <td>0.000000</td>\n",
       "      <td>0.000000</td>\n",
       "      <td>0.000000</td>\n",
       "      <td>0.000000</td>\n",
       "      <td>0.000000</td>\n",
       "      <td>0.031341</td>\n",
       "      <td>0.000000</td>\n",
       "      <td>0.009033</td>\n",
       "      <td>0.015570</td>\n",
       "      <td>0.008379</td>\n",
       "      <td>...</td>\n",
       "      <td>0.038669</td>\n",
       "      <td>0.008106</td>\n",
       "      <td>0.000000</td>\n",
       "      <td>0.00000</td>\n",
       "      <td>0.000000</td>\n",
       "      <td>0.000000</td>\n",
       "      <td>0.000000</td>\n",
       "      <td>0.000000</td>\n",
       "      <td>0.032803</td>\n",
       "      <td>0.000000</td>\n",
       "    </tr>\n",
       "    <tr>\n",
       "      <th>4</th>\n",
       "      <td>0.019933</td>\n",
       "      <td>0.000000</td>\n",
       "      <td>0.010485</td>\n",
       "      <td>0.000000</td>\n",
       "      <td>0.009160</td>\n",
       "      <td>0.047936</td>\n",
       "      <td>0.000000</td>\n",
       "      <td>0.019130</td>\n",
       "      <td>0.021983</td>\n",
       "      <td>0.011831</td>\n",
       "      <td>...</td>\n",
       "      <td>0.000000</td>\n",
       "      <td>0.001907</td>\n",
       "      <td>0.009385</td>\n",
       "      <td>0.00000</td>\n",
       "      <td>0.000000</td>\n",
       "      <td>0.000000</td>\n",
       "      <td>0.001151</td>\n",
       "      <td>0.021436</td>\n",
       "      <td>0.000000</td>\n",
       "      <td>0.000000</td>\n",
       "    </tr>\n",
       "    <tr>\n",
       "      <th>...</th>\n",
       "      <td>...</td>\n",
       "      <td>...</td>\n",
       "      <td>...</td>\n",
       "      <td>...</td>\n",
       "      <td>...</td>\n",
       "      <td>...</td>\n",
       "      <td>...</td>\n",
       "      <td>...</td>\n",
       "      <td>...</td>\n",
       "      <td>...</td>\n",
       "      <td>...</td>\n",
       "      <td>...</td>\n",
       "      <td>...</td>\n",
       "      <td>...</td>\n",
       "      <td>...</td>\n",
       "      <td>...</td>\n",
       "      <td>...</td>\n",
       "      <td>...</td>\n",
       "      <td>...</td>\n",
       "      <td>...</td>\n",
       "      <td>...</td>\n",
       "    </tr>\n",
       "    <tr>\n",
       "      <th>2651</th>\n",
       "      <td>0.000000</td>\n",
       "      <td>0.000000</td>\n",
       "      <td>0.000000</td>\n",
       "      <td>0.000000</td>\n",
       "      <td>0.000000</td>\n",
       "      <td>0.000000</td>\n",
       "      <td>0.000000</td>\n",
       "      <td>0.000000</td>\n",
       "      <td>0.000000</td>\n",
       "      <td>0.000000</td>\n",
       "      <td>...</td>\n",
       "      <td>0.000000</td>\n",
       "      <td>0.000000</td>\n",
       "      <td>0.028462</td>\n",
       "      <td>0.00000</td>\n",
       "      <td>0.000000</td>\n",
       "      <td>0.000000</td>\n",
       "      <td>0.000000</td>\n",
       "      <td>0.000000</td>\n",
       "      <td>0.000000</td>\n",
       "      <td>0.000000</td>\n",
       "    </tr>\n",
       "    <tr>\n",
       "      <th>2652</th>\n",
       "      <td>0.000000</td>\n",
       "      <td>0.000000</td>\n",
       "      <td>0.000000</td>\n",
       "      <td>0.000000</td>\n",
       "      <td>0.000000</td>\n",
       "      <td>0.005185</td>\n",
       "      <td>0.000000</td>\n",
       "      <td>0.000000</td>\n",
       "      <td>0.000000</td>\n",
       "      <td>0.000000</td>\n",
       "      <td>...</td>\n",
       "      <td>0.057578</td>\n",
       "      <td>0.000000</td>\n",
       "      <td>0.000000</td>\n",
       "      <td>0.00000</td>\n",
       "      <td>0.000000</td>\n",
       "      <td>0.005615</td>\n",
       "      <td>0.000000</td>\n",
       "      <td>0.000000</td>\n",
       "      <td>0.000000</td>\n",
       "      <td>0.049774</td>\n",
       "    </tr>\n",
       "    <tr>\n",
       "      <th>2653</th>\n",
       "      <td>0.002617</td>\n",
       "      <td>0.000000</td>\n",
       "      <td>0.003097</td>\n",
       "      <td>0.010615</td>\n",
       "      <td>0.010823</td>\n",
       "      <td>0.001452</td>\n",
       "      <td>0.005806</td>\n",
       "      <td>0.003767</td>\n",
       "      <td>0.000000</td>\n",
       "      <td>0.000000</td>\n",
       "      <td>...</td>\n",
       "      <td>0.000000</td>\n",
       "      <td>0.000563</td>\n",
       "      <td>0.003696</td>\n",
       "      <td>0.00706</td>\n",
       "      <td>0.000000</td>\n",
       "      <td>0.014153</td>\n",
       "      <td>0.000000</td>\n",
       "      <td>0.000000</td>\n",
       "      <td>0.000000</td>\n",
       "      <td>0.000000</td>\n",
       "    </tr>\n",
       "    <tr>\n",
       "      <th>2654</th>\n",
       "      <td>0.000000</td>\n",
       "      <td>0.000000</td>\n",
       "      <td>0.000000</td>\n",
       "      <td>0.000000</td>\n",
       "      <td>0.000000</td>\n",
       "      <td>0.000000</td>\n",
       "      <td>0.000000</td>\n",
       "      <td>0.000000</td>\n",
       "      <td>0.000000</td>\n",
       "      <td>0.000000</td>\n",
       "      <td>...</td>\n",
       "      <td>0.000000</td>\n",
       "      <td>0.016698</td>\n",
       "      <td>0.000000</td>\n",
       "      <td>0.00000</td>\n",
       "      <td>0.000000</td>\n",
       "      <td>0.000000</td>\n",
       "      <td>0.000000</td>\n",
       "      <td>0.000000</td>\n",
       "      <td>0.000000</td>\n",
       "      <td>0.000000</td>\n",
       "    </tr>\n",
       "    <tr>\n",
       "      <th>2655</th>\n",
       "      <td>0.000000</td>\n",
       "      <td>0.003369</td>\n",
       "      <td>0.001343</td>\n",
       "      <td>0.000000</td>\n",
       "      <td>0.000000</td>\n",
       "      <td>0.020153</td>\n",
       "      <td>0.000000</td>\n",
       "      <td>0.009802</td>\n",
       "      <td>0.000000</td>\n",
       "      <td>0.001515</td>\n",
       "      <td>...</td>\n",
       "      <td>0.000000</td>\n",
       "      <td>0.000244</td>\n",
       "      <td>0.000000</td>\n",
       "      <td>0.00000</td>\n",
       "      <td>0.000000</td>\n",
       "      <td>0.000000</td>\n",
       "      <td>0.000000</td>\n",
       "      <td>0.003661</td>\n",
       "      <td>0.005932</td>\n",
       "      <td>0.000000</td>\n",
       "    </tr>\n",
       "  </tbody>\n",
       "</table>\n",
       "<p>2656 rows × 2175 columns</p>\n",
       "</div>"
      ],
      "text/plain": [
       "          0         1         2         3         4         5         6     \\\n",
       "0     0.000000  0.000000  0.000000  0.000000  0.009651  0.005180  0.000000   \n",
       "1     0.000000  0.019071  0.001901  0.019546  0.006643  0.009805  0.000000   \n",
       "2     0.000000  0.000000  0.000000  0.000000  0.000000  0.011506  0.149524   \n",
       "3     0.000000  0.000000  0.000000  0.000000  0.000000  0.031341  0.000000   \n",
       "4     0.019933  0.000000  0.010485  0.000000  0.009160  0.047936  0.000000   \n",
       "...        ...       ...       ...       ...       ...       ...       ...   \n",
       "2651  0.000000  0.000000  0.000000  0.000000  0.000000  0.000000  0.000000   \n",
       "2652  0.000000  0.000000  0.000000  0.000000  0.000000  0.005185  0.000000   \n",
       "2653  0.002617  0.000000  0.003097  0.010615  0.010823  0.001452  0.005806   \n",
       "2654  0.000000  0.000000  0.000000  0.000000  0.000000  0.000000  0.000000   \n",
       "2655  0.000000  0.003369  0.001343  0.000000  0.000000  0.020153  0.000000   \n",
       "\n",
       "          7         8         9     ...      2165      2166      2167  \\\n",
       "0     0.003359  0.005790  0.000000  ...  0.014380  0.003014  0.023070   \n",
       "1     0.000000  0.000000  0.008580  ...  0.000000  0.000000  0.006806   \n",
       "2     0.000000  0.000000  0.000000  ...  0.000000  0.008928  0.000000   \n",
       "3     0.009033  0.015570  0.008379  ...  0.038669  0.008106  0.000000   \n",
       "4     0.019130  0.021983  0.011831  ...  0.000000  0.001907  0.009385   \n",
       "...        ...       ...       ...  ...       ...       ...       ...   \n",
       "2651  0.000000  0.000000  0.000000  ...  0.000000  0.000000  0.028462   \n",
       "2652  0.000000  0.000000  0.000000  ...  0.057578  0.000000  0.000000   \n",
       "2653  0.003767  0.000000  0.000000  ...  0.000000  0.000563  0.003696   \n",
       "2654  0.000000  0.000000  0.000000  ...  0.000000  0.016698  0.000000   \n",
       "2655  0.009802  0.000000  0.001515  ...  0.000000  0.000244  0.000000   \n",
       "\n",
       "         2168      2169      2170      2171      2172      2173      2174  \n",
       "0     0.00000  0.001874  0.001402  0.000000  0.000000  0.000000  0.000000  \n",
       "1     0.00000  0.000000  0.000965  0.002504  0.000000  0.008396  0.042783  \n",
       "2     0.00000  0.000000  0.012460  0.000000  0.000000  0.000000  0.000000  \n",
       "3     0.00000  0.000000  0.000000  0.000000  0.000000  0.032803  0.000000  \n",
       "4     0.00000  0.000000  0.000000  0.001151  0.021436  0.000000  0.000000  \n",
       "...       ...       ...       ...       ...       ...       ...       ...  \n",
       "2651  0.00000  0.000000  0.000000  0.000000  0.000000  0.000000  0.000000  \n",
       "2652  0.00000  0.000000  0.005615  0.000000  0.000000  0.000000  0.049774  \n",
       "2653  0.00706  0.000000  0.014153  0.000000  0.000000  0.000000  0.000000  \n",
       "2654  0.00000  0.000000  0.000000  0.000000  0.000000  0.000000  0.000000  \n",
       "2655  0.00000  0.000000  0.000000  0.000000  0.003661  0.005932  0.000000  \n",
       "\n",
       "[2656 rows x 2175 columns]"
      ]
     },
     "execution_count": 71,
     "metadata": {},
     "output_type": "execute_result"
    }
   ],
   "source": [
    "train_text_feature_onehotCoding"
   ]
  },
  {
   "cell_type": "code",
   "execution_count": 72,
   "id": "f5b7d942-be15-4928-bb49-db649d49cd41",
   "metadata": {},
   "outputs": [],
   "source": [
    "# Convert DataFrames to NumPy arrays to avoid dealing with feature names\n",
    "gene_variation_text_train = gene_variation_text_train.values\n",
    "gene_variation_text_val = gene_variation_text_val.values\n",
    "gene_variation_text_test = gene_variation_text_test.values"
   ]
  },
  {
   "cell_type": "code",
   "execution_count": 73,
   "id": "6fb72cb7-e551-4bfa-b3d0-e9c89c1f9146",
   "metadata": {
    "scrolled": true
   },
   "outputs": [
    {
     "name": "stdout",
     "output_type": "stream",
     "text": [
      "Log Loss for Logistic Regression training data\n",
      "0.5228754809263784\n",
      "**************************************************************************\n",
      "Log Loss for Logistic Regression validation data\n",
      "1.0376647906680128\n",
      "**************************************************************************\n",
      "Log Loss for Logistic Regression testing data\n",
      "0.9951692295497231\n",
      "**************************************************************************\n"
     ]
    }
   ],
   "source": [
    "loj = LogisticRegression(random_state=0)\n",
    "loj_model = loj.fit(gene_variation_text_train, y_train)\n",
    "evaluate_model(loj_model,gene_variation_text_train,y_train, 'Logistic Regression training')\n",
    "evaluate_model(loj_model,gene_variation_text_val,y_val,'Logistic Regression validation')\n",
    "evaluate_model(loj_model,gene_variation_text_test,y_test,'Logistic Regression testing')"
   ]
  },
  {
   "cell_type": "code",
   "execution_count": 74,
   "id": "8a0718dc-6b8d-473b-9db5-68114cb5babb",
   "metadata": {
    "scrolled": true
   },
   "outputs": [
    {
     "name": "stdout",
     "output_type": "stream",
     "text": [
      "Log Loss for Random Forest Classifier training data\n",
      "1.6054514412473422\n",
      "**************************************************************************\n",
      "Log Loss for Random Forest Classifier validation data\n",
      "1.6418438444282049\n",
      "**************************************************************************\n",
      "Log Loss for Random Forest Classifier testing data\n",
      "1.6295480976073484\n",
      "**************************************************************************\n"
     ]
    }
   ],
   "source": [
    "# build a random forest model on the merged features\n",
    "from sklearn.ensemble import RandomForestClassifier\n",
    "\n",
    "clf_rnd = RandomForestClassifier(max_depth=2, random_state=0)\n",
    "clf_rnd.fit(gene_variation_text_train, y_train)\n",
    "evaluate_model(clf_rnd,gene_variation_text_train,y_train,'Random Forest Classifier training')\n",
    "evaluate_model(clf_rnd,gene_variation_text_val,y_val,'Random Forest Classifier validation')\n",
    "evaluate_model(clf_rnd,gene_variation_text_test,y_test,'Random Forest Classifier testing')"
   ]
  },
  {
   "cell_type": "code",
   "execution_count": 149,
   "id": "810a917e-ef15-4cfc-80d9-c15da32f0418",
   "metadata": {
    "scrolled": true
   },
   "outputs": [
    {
     "name": "stdout",
     "output_type": "stream",
     "text": [
      "Log Loss for K Nearest neighbour training data\n",
      "0.6993663239458868\n",
      "**************************************************************************\n",
      "Log Loss for K Nearest neighbour validation data\n",
      "2.8889367325450834\n",
      "**************************************************************************\n",
      "Log Loss for K Nearest neighbour testing data\n",
      "2.6217315386312174\n",
      "**************************************************************************\n"
     ]
    }
   ],
   "source": [
    "# build knn model\n",
    "from sklearn.neighbors import KNeighborsClassifier\n",
    "neigh = KNeighborsClassifier(n_neighbors=9)\n",
    "neigh.fit(gene_variation_text_train, y_train)\n",
    "evaluate_model(neigh,gene_variation_text_train,y_train,'K Nearest neighbour training')\n",
    "evaluate_model(neigh,gene_variation_text_val,y_val,'K Nearest neighbour validation')\n",
    "evaluate_model(neigh,gene_variation_text_test,y_test,'K Nearest neighbour testing')"
   ]
  },
  {
   "cell_type": "code",
   "execution_count": 151,
   "id": "c76c9a32-8b77-4369-baf2-62dac7ad2eeb",
   "metadata": {
    "scrolled": true
   },
   "outputs": [
    {
     "name": "stdout",
     "output_type": "stream",
     "text": [
      "Log Loss for naive bayes training data\n",
      "0.6578866077328931\n",
      "**************************************************************************\n",
      "Log Loss for naive bayes  validation data\n",
      "18.347522357713256\n",
      "**************************************************************************\n",
      "Log Loss for naive bayes  testing data\n",
      "20.02425188284295\n",
      "**************************************************************************\n"
     ]
    }
   ],
   "source": [
    "# build a naive bayes algo\n",
    "from sklearn.naive_bayes import GaussianNB\n",
    "gnb = GaussianNB()\n",
    "gnb.fit(gene_variation_text_train, y_train)\n",
    "evaluate_model(gnb,gene_variation_text_train,y_train,'naive bayes training')\n",
    "evaluate_model(gnb,gene_variation_text_val,y_val,'naive bayes  validation')\n",
    "evaluate_model(gnb,gene_variation_text_test,y_test,'naive bayes  testing')"
   ]
  },
  {
   "cell_type": "code",
   "execution_count": 153,
   "id": "de376af7-b763-42d3-8e13-e2facc5c1087",
   "metadata": {},
   "outputs": [],
   "source": [
    "def test_logstic(model,pen,solv,test_features,y_truth,datatype=''):\n",
    "  pred_prob= model.predict_proba(test_features)\n",
    "  eval = log_loss(y_truth,pred_prob) \n",
    "  print(\"Log Loss for \"+datatype+\" data\"+\" with penalty \"+str(pen)+\" and solver \"+str(solv))\n",
    "  print(eval)"
   ]
  },
  {
   "cell_type": "code",
   "execution_count": 155,
   "id": "d88f32cf-957a-456d-803d-550925ecae43",
   "metadata": {
    "scrolled": true
   },
   "outputs": [
    {
     "name": "stdout",
     "output_type": "stream",
     "text": [
      "******************************************\n",
      "Log Loss for Logistic Regression training data with penalty 5 and solver newton-cg\n",
      "0.18238071707012787\n",
      "Log Loss for Logistic Regression validation data with penalty 5 and solver newton-cg\n",
      "1.2452556089004552\n",
      "Log Loss for Logistic Regression testing data with penalty 5 and solver newton-cg\n",
      "1.194780836560841\n",
      "******************************************\n",
      "Log Loss for Logistic Regression training data with penalty 2 and solver newton-cg\n",
      "0.3456881249157818\n",
      "Log Loss for Logistic Regression validation data with penalty 2 and solver newton-cg\n",
      "1.1081788813785878\n",
      "Log Loss for Logistic Regression testing data with penalty 2 and solver newton-cg\n",
      "1.0604876807575099\n",
      "******************************************\n",
      "Log Loss for Logistic Regression training data with penalty 1 and solver newton-cg\n",
      "0.5221869138005121\n",
      "Log Loss for Logistic Regression validation data with penalty 1 and solver newton-cg\n",
      "1.0378451300400193\n",
      "Log Loss for Logistic Regression testing data with penalty 1 and solver newton-cg\n",
      "0.995436542424971\n",
      "******************************************\n",
      "Log Loss for Logistic Regression training data with penalty 0.5 and solver newton-cg\n",
      "0.7225796024857439\n",
      "Log Loss for Logistic Regression validation data with penalty 0.5 and solver newton-cg\n",
      "1.0063168108101685\n",
      "Log Loss for Logistic Regression testing data with penalty 0.5 and solver newton-cg\n",
      "0.9744870076562513\n",
      "******************************************\n",
      "Log Loss for Logistic Regression training data with penalty 0.05 and solver newton-cg\n",
      "1.3372161565501384\n",
      "Log Loss for Logistic Regression validation data with penalty 0.05 and solver newton-cg\n",
      "1.262485701168143\n",
      "Log Loss for Logistic Regression testing data with penalty 0.05 and solver newton-cg\n",
      "1.2427195352983125\n",
      "******************************************\n",
      "Log Loss for Logistic Regression training data with penalty 5 and solver sag\n",
      "0.18238248644111962\n",
      "Log Loss for Logistic Regression validation data with penalty 5 and solver sag\n",
      "1.2451829078940604\n",
      "Log Loss for Logistic Regression testing data with penalty 5 and solver sag\n",
      "1.1946487047136183\n",
      "******************************************\n",
      "Log Loss for Logistic Regression training data with penalty 2 and solver sag\n",
      "0.3453194758340042\n",
      "Log Loss for Logistic Regression validation data with penalty 2 and solver sag\n",
      "1.108755169781187\n",
      "Log Loss for Logistic Regression testing data with penalty 2 and solver sag\n",
      "1.0611219075019456\n",
      "******************************************\n",
      "Log Loss for Logistic Regression training data with penalty 1 and solver sag\n",
      "0.5216519440074283\n",
      "Log Loss for Logistic Regression validation data with penalty 1 and solver sag\n",
      "1.0377390336358494\n",
      "Log Loss for Logistic Regression testing data with penalty 1 and solver sag\n",
      "0.9952018056769851\n",
      "******************************************\n",
      "Log Loss for Logistic Regression training data with penalty 0.5 and solver sag\n",
      "0.7219136993583706\n",
      "Log Loss for Logistic Regression validation data with penalty 0.5 and solver sag\n",
      "1.0059279148960854\n",
      "Log Loss for Logistic Regression testing data with penalty 0.5 and solver sag\n",
      "0.9743665357525026\n",
      "******************************************\n",
      "Log Loss for Logistic Regression training data with penalty 0.05 and solver sag\n",
      "1.3372527342574287\n",
      "Log Loss for Logistic Regression validation data with penalty 0.05 and solver sag\n",
      "1.2625058912225584\n",
      "Log Loss for Logistic Regression testing data with penalty 0.05 and solver sag\n",
      "1.2427373144444258\n",
      "******************************************\n",
      "Log Loss for Logistic Regression training data with penalty 5 and solver saga\n",
      "0.1823898140780851\n",
      "Log Loss for Logistic Regression validation data with penalty 5 and solver saga\n",
      "1.2452078236252568\n",
      "Log Loss for Logistic Regression testing data with penalty 5 and solver saga\n",
      "1.1946976187194822\n",
      "******************************************\n",
      "Log Loss for Logistic Regression training data with penalty 2 and solver saga\n",
      "0.3453388144017636\n",
      "Log Loss for Logistic Regression validation data with penalty 2 and solver saga\n",
      "1.1087640519642916\n",
      "Log Loss for Logistic Regression testing data with penalty 2 and solver saga\n",
      "1.061149438601756\n",
      "******************************************\n",
      "Log Loss for Logistic Regression training data with penalty 1 and solver saga\n",
      "0.5216773171632161\n",
      "Log Loss for Logistic Regression validation data with penalty 1 and solver saga\n",
      "1.0377383907150828\n",
      "Log Loss for Logistic Regression testing data with penalty 1 and solver saga\n",
      "0.9952021945873692\n",
      "******************************************\n",
      "Log Loss for Logistic Regression training data with penalty 0.5 and solver saga\n",
      "0.7219148601017465\n",
      "Log Loss for Logistic Regression validation data with penalty 0.5 and solver saga\n",
      "1.0059197535657798\n",
      "Log Loss for Logistic Regression testing data with penalty 0.5 and solver saga\n",
      "0.9743614551727555\n",
      "******************************************\n",
      "Log Loss for Logistic Regression training data with penalty 0.05 and solver saga\n",
      "1.3372530660410376\n",
      "Log Loss for Logistic Regression validation data with penalty 0.05 and solver saga\n",
      "1.2625251844073735\n",
      "Log Loss for Logistic Regression testing data with penalty 0.05 and solver saga\n",
      "1.2427500131728397\n",
      "******************************************\n",
      "Log Loss for Logistic Regression training data with penalty 5 and solver lbfgs\n",
      "0.18304869507196447\n",
      "Log Loss for Logistic Regression validation data with penalty 5 and solver lbfgs\n",
      "1.2458425259901602\n",
      "Log Loss for Logistic Regression testing data with penalty 5 and solver lbfgs\n",
      "1.194937883763674\n",
      "******************************************\n",
      "Log Loss for Logistic Regression training data with penalty 2 and solver lbfgs\n",
      "0.34507919820891614\n",
      "Log Loss for Logistic Regression validation data with penalty 2 and solver lbfgs\n",
      "1.1094222705185577\n",
      "Log Loss for Logistic Regression testing data with penalty 2 and solver lbfgs\n",
      "1.062682151538727\n",
      "******************************************\n",
      "Log Loss for Logistic Regression training data with penalty 1 and solver lbfgs\n",
      "0.5228754809263784\n",
      "Log Loss for Logistic Regression validation data with penalty 1 and solver lbfgs\n",
      "1.0376647906680128\n",
      "Log Loss for Logistic Regression testing data with penalty 1 and solver lbfgs\n",
      "0.9951692295497231\n",
      "******************************************\n",
      "Log Loss for Logistic Regression training data with penalty 0.5 and solver lbfgs\n",
      "0.7215707707705474\n",
      "Log Loss for Logistic Regression validation data with penalty 0.5 and solver lbfgs\n",
      "1.0058342767917279\n",
      "Log Loss for Logistic Regression testing data with penalty 0.5 and solver lbfgs\n",
      "0.9742691669565449\n",
      "******************************************\n",
      "Log Loss for Logistic Regression training data with penalty 0.05 and solver lbfgs\n",
      "1.3372080930963595\n",
      "Log Loss for Logistic Regression validation data with penalty 0.05 and solver lbfgs\n",
      "1.2624768520751766\n",
      "Log Loss for Logistic Regression testing data with penalty 0.05 and solver lbfgs\n",
      "1.2426942827088372\n"
     ]
    }
   ],
   "source": [
    "solvers=['newton-cg','sag','saga','lbfgs']\n",
    "C=[5,2,1,5,0.0.05]\n",
    "for solv  in solvers:\n",
    "  for c in C:\n",
    "    print('******************************************')\n",
    "    loj = LogisticRegression(C=c,solver=solv,random_state=0)\n",
    "    loj_model = loj.fit(gene_variation_text_train, y_train)\n",
    "    test_logstic(loj_model,c,solv,gene_variation_text_train,y_train, 'Logistic Regression training')\n",
    "    test_logstic(loj_model,c,solv,gene_variation_text_val,y_val,'Logistic Regression validation')\n",
    "    test_logstic(loj_model,c,solv,gene_variation_text_test,y_test,'Logistic Regression testing')\n"
   ]
  },
  {
   "cell_type": "code",
   "execution_count": 159,
   "id": "fa5c194f-37fb-4b3b-bc43-b66f9e42b5e4",
   "metadata": {},
   "outputs": [
    {
     "name": "stdout",
     "output_type": "stream",
     "text": [
      "Predicted classes of the 1st 20 classes of the unseen data\n",
      "[7 4 7 7 4 2 7 4 7 7 7 7 6 7 2 7 7 7 7 7]\n"
     ]
    }
   ],
   "source": [
    "'''test unseen data'''\n",
    "test_data['TEXT']= test_data['TEXT'].apply(clean_text)\n",
    "#Extract features\n",
    "\n",
    "test_variation_onehotCoding = pd.get_dummies(test_data['Variation'],drop_first=True)\n",
    "test_variation_onehotCoding = test_variation_onehotCoding.reindex(columns= train_variation_feature_onehotCoding .columns, fill_value=0)\n",
    "\n",
    "test_gene_onehotCoding = pd.get_dummies(test_data['Gene'],drop_first=True)\n",
    "test_gene_onehotCoding = test_gene_onehotCoding.reindex(columns= train_gene_feature_onehotCoding .columns, fill_value=0)\n",
    "\n",
    "test_text_feature_onehotCoding=text_vectorizer.transform( test_data['TEXT'])\n",
    "test_text_feature_onehotCoding=normalize(test_text_feature_onehotCoding, axis=0)\n",
    "\n",
    "\n",
    "gene_variation_feature=pd.concat([test_variation_onehotCoding,test_gene_onehotCoding],axis=1) \n",
    "text_feature= pd.DataFrame(test_text_feature_onehotCoding.toarray())\n",
    "gene_variation_feature.reset_index(drop=True, inplace=True)\n",
    "gene_variation_text_feature=pd.concat([text_feature,gene_variation_feature],axis=1)\n",
    "\n",
    "gene_variation_text_feature.columns = gene_variation_text_feature.columns.astype(str)\n",
    "\n",
    "loj = LogisticRegression(random_state=0)\n",
    "loj_model = loj.fit(gene_variation_text_train, y_train)\n",
    "pred_prob= loj_model.predict(gene_variation_text_feature)\n",
    "print('Predicted classes of the 1st 20 classes of the unseen data')\n",
    "print(pred_prob[:20])"
   ]
  },
  {
   "cell_type": "code",
   "execution_count": null,
   "id": "2fba8dbc-c77a-477a-8ea7-f7b60096455f",
   "metadata": {},
   "outputs": [],
   "source": []
  }
 ],
 "metadata": {
  "kernelspec": {
   "display_name": "Python 3 (ipykernel)",
   "language": "python",
   "name": "python3"
  },
  "language_info": {
   "codemirror_mode": {
    "name": "ipython",
    "version": 3
   },
   "file_extension": ".py",
   "mimetype": "text/x-python",
   "name": "python",
   "nbconvert_exporter": "python",
   "pygments_lexer": "ipython3",
   "version": "3.12.4"
  }
 },
 "nbformat": 4,
 "nbformat_minor": 5
}
